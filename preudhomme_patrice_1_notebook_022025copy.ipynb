{
 "nbformat": 4,
 "nbformat_minor": 0,
 "metadata": {
  "colab": {
   "provenance": [],
   "collapsed_sections": [
    "_9DBJt5gwN7o",
    "zTIhY_gpvR0h",
    "bupLNlgadnLO",
    "l6kn-roSdsyj",
    "_fSuPD5VPyKi",
    "sbZqk-nYEB64",
    "y41MAqkOi-Bc",
    "g9EmEpbQj7gh",
    "Q-692hKtG50B",
    "RSSgZAXk-PzO",
    "U38Ai5hFhwz0",
    "cCG1r5QbdvTX",
    "fo_3i7FYipN9",
    "OwlCTB_jGOMV",
    "jGjCvxqeJLMJ",
    "AfOkBPHHmCOb",
    "vdtMH7mp6u5X",
    "L9Nz7fbBMuMY",
    "Wfe8atlIfW11",
    "nBitVbkAfsrR",
    "BAzc2_E6kvpJ",
    "-eDY-ParfjFg",
    "c72ZGs2J5oRl",
    "HypkYADacDdj",
    "XLUJ0l3V1Yo3",
    "ej7UtcqlgIRy",
    "VNUgrmYmhql3",
    "huUBO9Xehz2K",
    "WlODeh4Oh78c",
    "6dy2kMS7iKD-",
    "PP9k8u7ccYgt",
    "pbRjLRliUEWW",
    "guhke0aYUJ-C",
    "YzQNidu1c7x-",
    "Rn1UXDQ8ZrWL",
    "g5XjfYcGlctZ",
    "Jts2rSRdliiM",
    "HqcCXYTzoHi_",
    "ZRDp8EsT7vka",
    "KQG1sipAWn8Z",
    "yGJk1pRRPxKt",
    "czmbba_aUXWE",
    "TI_VJIgNO93o",
    "orJ6l2TCN_G_",
    "XrAsGLtT2OCq",
    "FzRD42nOv2OH",
    "rL5TvFY8Rhp8",
    "zIygF4Lnne7l"
   ],
   "machine_shape": "hm"
  },
  "kernelspec": {
   "name": "python3",
   "display_name": "Python 3 (ipykernel)",
   "language": "python"
  },
  "language_info": {
   "name": "python"
  },
  "widgets": {
   "application/vnd.jupyter.widget-state+json": {
    "fec240d838ee497abd6b12f4ea3940bd": {
     "model_module": "@jupyter-widgets/controls",
     "model_name": "HBoxModel",
     "model_module_version": "1.5.0",
     "state": {
      "_dom_classes": [],
      "_model_module": "@jupyter-widgets/controls",
      "_model_module_version": "1.5.0",
      "_model_name": "HBoxModel",
      "_view_count": null,
      "_view_module": "@jupyter-widgets/controls",
      "_view_module_version": "1.5.0",
      "_view_name": "HBoxView",
      "box_style": "",
      "children": [
       "IPY_MODEL_26faacc607e34ca2949ff1ae3305a7be",
       "IPY_MODEL_76e02e86451a4505a3f658324d2d6a44",
       "IPY_MODEL_b4519c84f6a64f83b183f1b5a505e2c3"
      ],
      "layout": "IPY_MODEL_5b527f1167d44c80b9a45de4aedb520d"
     }
    },
    "26faacc607e34ca2949ff1ae3305a7be": {
     "model_module": "@jupyter-widgets/controls",
     "model_name": "HTMLModel",
     "model_module_version": "1.5.0",
     "state": {
      "_dom_classes": [],
      "_model_module": "@jupyter-widgets/controls",
      "_model_module_version": "1.5.0",
      "_model_name": "HTMLModel",
      "_view_count": null,
      "_view_module": "@jupyter-widgets/controls",
      "_view_module_version": "1.5.0",
      "_view_name": "HTMLView",
      "description": "",
      "description_tooltip": null,
      "layout": "IPY_MODEL_ef3984b99e7f446fa55219a8f81956ac",
      "placeholder": "​",
      "style": "IPY_MODEL_28d4e028e0014ff5b5db368e0d10aed3",
      "value": "100%"
     }
    },
    "76e02e86451a4505a3f658324d2d6a44": {
     "model_module": "@jupyter-widgets/controls",
     "model_name": "FloatProgressModel",
     "model_module_version": "1.5.0",
     "state": {
      "_dom_classes": [],
      "_model_module": "@jupyter-widgets/controls",
      "_model_module_version": "1.5.0",
      "_model_name": "FloatProgressModel",
      "_view_count": null,
      "_view_module": "@jupyter-widgets/controls",
      "_view_module_version": "1.5.0",
      "_view_name": "ProgressView",
      "bar_style": "success",
      "description": "",
      "description_tooltip": null,
      "layout": "IPY_MODEL_e4d3a134a95b455ebe24b0eeae38cd16",
      "max": 50,
      "min": 0,
      "orientation": "horizontal",
      "style": "IPY_MODEL_1b90d3cd777f4e729ba2151c8fbfcfcc",
      "value": 50
     }
    },
    "b4519c84f6a64f83b183f1b5a505e2c3": {
     "model_module": "@jupyter-widgets/controls",
     "model_name": "HTMLModel",
     "model_module_version": "1.5.0",
     "state": {
      "_dom_classes": [],
      "_model_module": "@jupyter-widgets/controls",
      "_model_module_version": "1.5.0",
      "_model_name": "HTMLModel",
      "_view_count": null,
      "_view_module": "@jupyter-widgets/controls",
      "_view_module_version": "1.5.0",
      "_view_name": "HTMLView",
      "description": "",
      "description_tooltip": null,
      "layout": "IPY_MODEL_a4dfeee7384342d7a83cbd4605b077d3",
      "placeholder": "​",
      "style": "IPY_MODEL_4fec924387fd46099fc4929a7f8b4a55",
      "value": " 50/50 [03:47&lt;00:00,  4.61s/it]"
     }
    },
    "5b527f1167d44c80b9a45de4aedb520d": {
     "model_module": "@jupyter-widgets/base",
     "model_name": "LayoutModel",
     "model_module_version": "1.2.0",
     "state": {
      "_model_module": "@jupyter-widgets/base",
      "_model_module_version": "1.2.0",
      "_model_name": "LayoutModel",
      "_view_count": null,
      "_view_module": "@jupyter-widgets/base",
      "_view_module_version": "1.2.0",
      "_view_name": "LayoutView",
      "align_content": null,
      "align_items": null,
      "align_self": null,
      "border": null,
      "bottom": null,
      "display": null,
      "flex": null,
      "flex_flow": null,
      "grid_area": null,
      "grid_auto_columns": null,
      "grid_auto_flow": null,
      "grid_auto_rows": null,
      "grid_column": null,
      "grid_gap": null,
      "grid_row": null,
      "grid_template_areas": null,
      "grid_template_columns": null,
      "grid_template_rows": null,
      "height": null,
      "justify_content": null,
      "justify_items": null,
      "left": null,
      "margin": null,
      "max_height": null,
      "max_width": null,
      "min_height": null,
      "min_width": null,
      "object_fit": null,
      "object_position": null,
      "order": null,
      "overflow": null,
      "overflow_x": null,
      "overflow_y": null,
      "padding": null,
      "right": null,
      "top": null,
      "visibility": null,
      "width": null
     }
    },
    "ef3984b99e7f446fa55219a8f81956ac": {
     "model_module": "@jupyter-widgets/base",
     "model_name": "LayoutModel",
     "model_module_version": "1.2.0",
     "state": {
      "_model_module": "@jupyter-widgets/base",
      "_model_module_version": "1.2.0",
      "_model_name": "LayoutModel",
      "_view_count": null,
      "_view_module": "@jupyter-widgets/base",
      "_view_module_version": "1.2.0",
      "_view_name": "LayoutView",
      "align_content": null,
      "align_items": null,
      "align_self": null,
      "border": null,
      "bottom": null,
      "display": null,
      "flex": null,
      "flex_flow": null,
      "grid_area": null,
      "grid_auto_columns": null,
      "grid_auto_flow": null,
      "grid_auto_rows": null,
      "grid_column": null,
      "grid_gap": null,
      "grid_row": null,
      "grid_template_areas": null,
      "grid_template_columns": null,
      "grid_template_rows": null,
      "height": null,
      "justify_content": null,
      "justify_items": null,
      "left": null,
      "margin": null,
      "max_height": null,
      "max_width": null,
      "min_height": null,
      "min_width": null,
      "object_fit": null,
      "object_position": null,
      "order": null,
      "overflow": null,
      "overflow_x": null,
      "overflow_y": null,
      "padding": null,
      "right": null,
      "top": null,
      "visibility": null,
      "width": null
     }
    },
    "28d4e028e0014ff5b5db368e0d10aed3": {
     "model_module": "@jupyter-widgets/controls",
     "model_name": "DescriptionStyleModel",
     "model_module_version": "1.5.0",
     "state": {
      "_model_module": "@jupyter-widgets/controls",
      "_model_module_version": "1.5.0",
      "_model_name": "DescriptionStyleModel",
      "_view_count": null,
      "_view_module": "@jupyter-widgets/base",
      "_view_module_version": "1.2.0",
      "_view_name": "StyleView",
      "description_width": ""
     }
    },
    "e4d3a134a95b455ebe24b0eeae38cd16": {
     "model_module": "@jupyter-widgets/base",
     "model_name": "LayoutModel",
     "model_module_version": "1.2.0",
     "state": {
      "_model_module": "@jupyter-widgets/base",
      "_model_module_version": "1.2.0",
      "_model_name": "LayoutModel",
      "_view_count": null,
      "_view_module": "@jupyter-widgets/base",
      "_view_module_version": "1.2.0",
      "_view_name": "LayoutView",
      "align_content": null,
      "align_items": null,
      "align_self": null,
      "border": null,
      "bottom": null,
      "display": null,
      "flex": null,
      "flex_flow": null,
      "grid_area": null,
      "grid_auto_columns": null,
      "grid_auto_flow": null,
      "grid_auto_rows": null,
      "grid_column": null,
      "grid_gap": null,
      "grid_row": null,
      "grid_template_areas": null,
      "grid_template_columns": null,
      "grid_template_rows": null,
      "height": null,
      "justify_content": null,
      "justify_items": null,
      "left": null,
      "margin": null,
      "max_height": null,
      "max_width": null,
      "min_height": null,
      "min_width": null,
      "object_fit": null,
      "object_position": null,
      "order": null,
      "overflow": null,
      "overflow_x": null,
      "overflow_y": null,
      "padding": null,
      "right": null,
      "top": null,
      "visibility": null,
      "width": null
     }
    },
    "1b90d3cd777f4e729ba2151c8fbfcfcc": {
     "model_module": "@jupyter-widgets/controls",
     "model_name": "ProgressStyleModel",
     "model_module_version": "1.5.0",
     "state": {
      "_model_module": "@jupyter-widgets/controls",
      "_model_module_version": "1.5.0",
      "_model_name": "ProgressStyleModel",
      "_view_count": null,
      "_view_module": "@jupyter-widgets/base",
      "_view_module_version": "1.2.0",
      "_view_name": "StyleView",
      "bar_color": null,
      "description_width": ""
     }
    },
    "a4dfeee7384342d7a83cbd4605b077d3": {
     "model_module": "@jupyter-widgets/base",
     "model_name": "LayoutModel",
     "model_module_version": "1.2.0",
     "state": {
      "_model_module": "@jupyter-widgets/base",
      "_model_module_version": "1.2.0",
      "_model_name": "LayoutModel",
      "_view_count": null,
      "_view_module": "@jupyter-widgets/base",
      "_view_module_version": "1.2.0",
      "_view_name": "LayoutView",
      "align_content": null,
      "align_items": null,
      "align_self": null,
      "border": null,
      "bottom": null,
      "display": null,
      "flex": null,
      "flex_flow": null,
      "grid_area": null,
      "grid_auto_columns": null,
      "grid_auto_flow": null,
      "grid_auto_rows": null,
      "grid_column": null,
      "grid_gap": null,
      "grid_row": null,
      "grid_template_areas": null,
      "grid_template_columns": null,
      "grid_template_rows": null,
      "height": null,
      "justify_content": null,
      "justify_items": null,
      "left": null,
      "margin": null,
      "max_height": null,
      "max_width": null,
      "min_height": null,
      "min_width": null,
      "object_fit": null,
      "object_position": null,
      "order": null,
      "overflow": null,
      "overflow_x": null,
      "overflow_y": null,
      "padding": null,
      "right": null,
      "top": null,
      "visibility": null,
      "width": null
     }
    },
    "4fec924387fd46099fc4929a7f8b4a55": {
     "model_module": "@jupyter-widgets/controls",
     "model_name": "DescriptionStyleModel",
     "model_module_version": "1.5.0",
     "state": {
      "_model_module": "@jupyter-widgets/controls",
      "_model_module_version": "1.5.0",
      "_model_name": "DescriptionStyleModel",
      "_view_count": null,
      "_view_module": "@jupyter-widgets/base",
      "_view_module_version": "1.2.0",
      "_view_name": "StyleView",
      "description_width": ""
     }
    },
    "ac9e834dee11435f97a51020cd87a7d6": {
     "model_module": "@jupyter-widgets/controls",
     "model_name": "HBoxModel",
     "model_module_version": "1.5.0",
     "state": {
      "_dom_classes": [],
      "_model_module": "@jupyter-widgets/controls",
      "_model_module_version": "1.5.0",
      "_model_name": "HBoxModel",
      "_view_count": null,
      "_view_module": "@jupyter-widgets/controls",
      "_view_module_version": "1.5.0",
      "_view_name": "HBoxView",
      "box_style": "",
      "children": [
       "IPY_MODEL_d0a684de45774c4aaa1dd98df8e5e08f",
       "IPY_MODEL_2500ef78068e45e7bf820c3dd351550c",
       "IPY_MODEL_88e3d889cfb14903a6f8a0a2026a12a3"
      ],
      "layout": "IPY_MODEL_4c863ebd4ff6464fa781670210bafe36"
     }
    },
    "d0a684de45774c4aaa1dd98df8e5e08f": {
     "model_module": "@jupyter-widgets/controls",
     "model_name": "HTMLModel",
     "model_module_version": "1.5.0",
     "state": {
      "_dom_classes": [],
      "_model_module": "@jupyter-widgets/controls",
      "_model_module_version": "1.5.0",
      "_model_name": "HTMLModel",
      "_view_count": null,
      "_view_module": "@jupyter-widgets/controls",
      "_view_module_version": "1.5.0",
      "_view_name": "HTMLView",
      "description": "",
      "description_tooltip": null,
      "layout": "IPY_MODEL_74e852692a424426827d4cb8f601e1ff",
      "placeholder": "​",
      "style": "IPY_MODEL_911ada9418714283b98002a73c92db8c",
      "value": "100%"
     }
    },
    "2500ef78068e45e7bf820c3dd351550c": {
     "model_module": "@jupyter-widgets/controls",
     "model_name": "FloatProgressModel",
     "model_module_version": "1.5.0",
     "state": {
      "_dom_classes": [],
      "_model_module": "@jupyter-widgets/controls",
      "_model_module_version": "1.5.0",
      "_model_name": "FloatProgressModel",
      "_view_count": null,
      "_view_module": "@jupyter-widgets/controls",
      "_view_module_version": "1.5.0",
      "_view_name": "ProgressView",
      "bar_style": "success",
      "description": "",
      "description_tooltip": null,
      "layout": "IPY_MODEL_5c5fec88660e47bab1943b06144cc8d9",
      "max": 210079,
      "min": 0,
      "orientation": "horizontal",
      "style": "IPY_MODEL_2a57924c758f4b9c8b658ad3f9b81506",
      "value": 210079
     }
    },
    "88e3d889cfb14903a6f8a0a2026a12a3": {
     "model_module": "@jupyter-widgets/controls",
     "model_name": "HTMLModel",
     "model_module_version": "1.5.0",
     "state": {
      "_dom_classes": [],
      "_model_module": "@jupyter-widgets/controls",
      "_model_module_version": "1.5.0",
      "_model_name": "HTMLModel",
      "_view_count": null,
      "_view_module": "@jupyter-widgets/controls",
      "_view_module_version": "1.5.0",
      "_view_name": "HTMLView",
      "description": "",
      "description_tooltip": null,
      "layout": "IPY_MODEL_c0b68c3f31c44ccb8ba4ea0151ee1bc1",
      "placeholder": "​",
      "style": "IPY_MODEL_b04631f26f7a45ceab5ba063f51165ba",
      "value": " 210079/210079 [03:20&lt;00:00, 1088.56it/s]"
     }
    },
    "4c863ebd4ff6464fa781670210bafe36": {
     "model_module": "@jupyter-widgets/base",
     "model_name": "LayoutModel",
     "model_module_version": "1.2.0",
     "state": {
      "_model_module": "@jupyter-widgets/base",
      "_model_module_version": "1.2.0",
      "_model_name": "LayoutModel",
      "_view_count": null,
      "_view_module": "@jupyter-widgets/base",
      "_view_module_version": "1.2.0",
      "_view_name": "LayoutView",
      "align_content": null,
      "align_items": null,
      "align_self": null,
      "border": null,
      "bottom": null,
      "display": null,
      "flex": null,
      "flex_flow": null,
      "grid_area": null,
      "grid_auto_columns": null,
      "grid_auto_flow": null,
      "grid_auto_rows": null,
      "grid_column": null,
      "grid_gap": null,
      "grid_row": null,
      "grid_template_areas": null,
      "grid_template_columns": null,
      "grid_template_rows": null,
      "height": null,
      "justify_content": null,
      "justify_items": null,
      "left": null,
      "margin": null,
      "max_height": null,
      "max_width": null,
      "min_height": null,
      "min_width": null,
      "object_fit": null,
      "object_position": null,
      "order": null,
      "overflow": null,
      "overflow_x": null,
      "overflow_y": null,
      "padding": null,
      "right": null,
      "top": null,
      "visibility": null,
      "width": null
     }
    },
    "74e852692a424426827d4cb8f601e1ff": {
     "model_module": "@jupyter-widgets/base",
     "model_name": "LayoutModel",
     "model_module_version": "1.2.0",
     "state": {
      "_model_module": "@jupyter-widgets/base",
      "_model_module_version": "1.2.0",
      "_model_name": "LayoutModel",
      "_view_count": null,
      "_view_module": "@jupyter-widgets/base",
      "_view_module_version": "1.2.0",
      "_view_name": "LayoutView",
      "align_content": null,
      "align_items": null,
      "align_self": null,
      "border": null,
      "bottom": null,
      "display": null,
      "flex": null,
      "flex_flow": null,
      "grid_area": null,
      "grid_auto_columns": null,
      "grid_auto_flow": null,
      "grid_auto_rows": null,
      "grid_column": null,
      "grid_gap": null,
      "grid_row": null,
      "grid_template_areas": null,
      "grid_template_columns": null,
      "grid_template_rows": null,
      "height": null,
      "justify_content": null,
      "justify_items": null,
      "left": null,
      "margin": null,
      "max_height": null,
      "max_width": null,
      "min_height": null,
      "min_width": null,
      "object_fit": null,
      "object_position": null,
      "order": null,
      "overflow": null,
      "overflow_x": null,
      "overflow_y": null,
      "padding": null,
      "right": null,
      "top": null,
      "visibility": null,
      "width": null
     }
    },
    "911ada9418714283b98002a73c92db8c": {
     "model_module": "@jupyter-widgets/controls",
     "model_name": "DescriptionStyleModel",
     "model_module_version": "1.5.0",
     "state": {
      "_model_module": "@jupyter-widgets/controls",
      "_model_module_version": "1.5.0",
      "_model_name": "DescriptionStyleModel",
      "_view_count": null,
      "_view_module": "@jupyter-widgets/base",
      "_view_module_version": "1.2.0",
      "_view_name": "StyleView",
      "description_width": ""
     }
    },
    "5c5fec88660e47bab1943b06144cc8d9": {
     "model_module": "@jupyter-widgets/base",
     "model_name": "LayoutModel",
     "model_module_version": "1.2.0",
     "state": {
      "_model_module": "@jupyter-widgets/base",
      "_model_module_version": "1.2.0",
      "_model_name": "LayoutModel",
      "_view_count": null,
      "_view_module": "@jupyter-widgets/base",
      "_view_module_version": "1.2.0",
      "_view_name": "LayoutView",
      "align_content": null,
      "align_items": null,
      "align_self": null,
      "border": null,
      "bottom": null,
      "display": null,
      "flex": null,
      "flex_flow": null,
      "grid_area": null,
      "grid_auto_columns": null,
      "grid_auto_flow": null,
      "grid_auto_rows": null,
      "grid_column": null,
      "grid_gap": null,
      "grid_row": null,
      "grid_template_areas": null,
      "grid_template_columns": null,
      "grid_template_rows": null,
      "height": null,
      "justify_content": null,
      "justify_items": null,
      "left": null,
      "margin": null,
      "max_height": null,
      "max_width": null,
      "min_height": null,
      "min_width": null,
      "object_fit": null,
      "object_position": null,
      "order": null,
      "overflow": null,
      "overflow_x": null,
      "overflow_y": null,
      "padding": null,
      "right": null,
      "top": null,
      "visibility": null,
      "width": null
     }
    },
    "2a57924c758f4b9c8b658ad3f9b81506": {
     "model_module": "@jupyter-widgets/controls",
     "model_name": "ProgressStyleModel",
     "model_module_version": "1.5.0",
     "state": {
      "_model_module": "@jupyter-widgets/controls",
      "_model_module_version": "1.5.0",
      "_model_name": "ProgressStyleModel",
      "_view_count": null,
      "_view_module": "@jupyter-widgets/base",
      "_view_module_version": "1.2.0",
      "_view_name": "StyleView",
      "bar_color": null,
      "description_width": ""
     }
    },
    "c0b68c3f31c44ccb8ba4ea0151ee1bc1": {
     "model_module": "@jupyter-widgets/base",
     "model_name": "LayoutModel",
     "model_module_version": "1.2.0",
     "state": {
      "_model_module": "@jupyter-widgets/base",
      "_model_module_version": "1.2.0",
      "_model_name": "LayoutModel",
      "_view_count": null,
      "_view_module": "@jupyter-widgets/base",
      "_view_module_version": "1.2.0",
      "_view_name": "LayoutView",
      "align_content": null,
      "align_items": null,
      "align_self": null,
      "border": null,
      "bottom": null,
      "display": null,
      "flex": null,
      "flex_flow": null,
      "grid_area": null,
      "grid_auto_columns": null,
      "grid_auto_flow": null,
      "grid_auto_rows": null,
      "grid_column": null,
      "grid_gap": null,
      "grid_row": null,
      "grid_template_areas": null,
      "grid_template_columns": null,
      "grid_template_rows": null,
      "height": null,
      "justify_content": null,
      "justify_items": null,
      "left": null,
      "margin": null,
      "max_height": null,
      "max_width": null,
      "min_height": null,
      "min_width": null,
      "object_fit": null,
      "object_position": null,
      "order": null,
      "overflow": null,
      "overflow_x": null,
      "overflow_y": null,
      "padding": null,
      "right": null,
      "top": null,
      "visibility": null,
      "width": null
     }
    },
    "b04631f26f7a45ceab5ba063f51165ba": {
     "model_module": "@jupyter-widgets/controls",
     "model_name": "DescriptionStyleModel",
     "model_module_version": "1.5.0",
     "state": {
      "_model_module": "@jupyter-widgets/controls",
      "_model_module_version": "1.5.0",
      "_model_name": "DescriptionStyleModel",
      "_view_count": null,
      "_view_module": "@jupyter-widgets/base",
      "_view_module_version": "1.2.0",
      "_view_name": "StyleView",
      "description_width": ""
     }
    },
    "9f9bdb1c21d04a74802caf9af1488643": {
     "model_module": "@jupyter-widgets/controls",
     "model_name": "HBoxModel",
     "model_module_version": "1.5.0",
     "state": {
      "_dom_classes": [],
      "_model_module": "@jupyter-widgets/controls",
      "_model_module_version": "1.5.0",
      "_model_name": "HBoxModel",
      "_view_count": null,
      "_view_module": "@jupyter-widgets/controls",
      "_view_module_version": "1.5.0",
      "_view_name": "HBoxView",
      "box_style": "",
      "children": [
       "IPY_MODEL_9ea8981bdd7340e796e4bd1e7dcf8938",
       "IPY_MODEL_e6d6a9853a9a422db034472d39f86252",
       "IPY_MODEL_4b3bdf550e8447c3a67958849b0d8d8e"
      ],
      "layout": "IPY_MODEL_7c4cc6f7ee9d42e2bdcc38bdfa51714e"
     }
    },
    "9ea8981bdd7340e796e4bd1e7dcf8938": {
     "model_module": "@jupyter-widgets/controls",
     "model_name": "HTMLModel",
     "model_module_version": "1.5.0",
     "state": {
      "_dom_classes": [],
      "_model_module": "@jupyter-widgets/controls",
      "_model_module_version": "1.5.0",
      "_model_name": "HTMLModel",
      "_view_count": null,
      "_view_module": "@jupyter-widgets/controls",
      "_view_module_version": "1.5.0",
      "_view_name": "HTMLView",
      "description": "",
      "description_tooltip": null,
      "layout": "IPY_MODEL_b522cc7c75914c6dab84962904c848cc",
      "placeholder": "​",
      "style": "IPY_MODEL_85f6e3c7eab4445781c2abcfb005df77",
      "value": "100%"
     }
    },
    "e6d6a9853a9a422db034472d39f86252": {
     "model_module": "@jupyter-widgets/controls",
     "model_name": "FloatProgressModel",
     "model_module_version": "1.5.0",
     "state": {
      "_dom_classes": [],
      "_model_module": "@jupyter-widgets/controls",
      "_model_module_version": "1.5.0",
      "_model_name": "FloatProgressModel",
      "_view_count": null,
      "_view_module": "@jupyter-widgets/controls",
      "_view_module_version": "1.5.0",
      "_view_name": "ProgressView",
      "bar_style": "success",
      "description": "",
      "description_tooltip": null,
      "layout": "IPY_MODEL_54812f605fdf492c887ad1617adb5580",
      "max": 210079,
      "min": 0,
      "orientation": "horizontal",
      "style": "IPY_MODEL_966db4acdaad4762b6ebaf228d5ec433",
      "value": 210079
     }
    },
    "4b3bdf550e8447c3a67958849b0d8d8e": {
     "model_module": "@jupyter-widgets/controls",
     "model_name": "HTMLModel",
     "model_module_version": "1.5.0",
     "state": {
      "_dom_classes": [],
      "_model_module": "@jupyter-widgets/controls",
      "_model_module_version": "1.5.0",
      "_model_name": "HTMLModel",
      "_view_count": null,
      "_view_module": "@jupyter-widgets/controls",
      "_view_module_version": "1.5.0",
      "_view_name": "HTMLView",
      "description": "",
      "description_tooltip": null,
      "layout": "IPY_MODEL_435bdfae13044000bb04027797c8fc3b",
      "placeholder": "​",
      "style": "IPY_MODEL_e0e2459a00b748fb8cbfc58eb701baa8",
      "value": " 210079/210079 [03:18&lt;00:00, 1097.21it/s]"
     }
    },
    "7c4cc6f7ee9d42e2bdcc38bdfa51714e": {
     "model_module": "@jupyter-widgets/base",
     "model_name": "LayoutModel",
     "model_module_version": "1.2.0",
     "state": {
      "_model_module": "@jupyter-widgets/base",
      "_model_module_version": "1.2.0",
      "_model_name": "LayoutModel",
      "_view_count": null,
      "_view_module": "@jupyter-widgets/base",
      "_view_module_version": "1.2.0",
      "_view_name": "LayoutView",
      "align_content": null,
      "align_items": null,
      "align_self": null,
      "border": null,
      "bottom": null,
      "display": null,
      "flex": null,
      "flex_flow": null,
      "grid_area": null,
      "grid_auto_columns": null,
      "grid_auto_flow": null,
      "grid_auto_rows": null,
      "grid_column": null,
      "grid_gap": null,
      "grid_row": null,
      "grid_template_areas": null,
      "grid_template_columns": null,
      "grid_template_rows": null,
      "height": null,
      "justify_content": null,
      "justify_items": null,
      "left": null,
      "margin": null,
      "max_height": null,
      "max_width": null,
      "min_height": null,
      "min_width": null,
      "object_fit": null,
      "object_position": null,
      "order": null,
      "overflow": null,
      "overflow_x": null,
      "overflow_y": null,
      "padding": null,
      "right": null,
      "top": null,
      "visibility": null,
      "width": null
     }
    },
    "b522cc7c75914c6dab84962904c848cc": {
     "model_module": "@jupyter-widgets/base",
     "model_name": "LayoutModel",
     "model_module_version": "1.2.0",
     "state": {
      "_model_module": "@jupyter-widgets/base",
      "_model_module_version": "1.2.0",
      "_model_name": "LayoutModel",
      "_view_count": null,
      "_view_module": "@jupyter-widgets/base",
      "_view_module_version": "1.2.0",
      "_view_name": "LayoutView",
      "align_content": null,
      "align_items": null,
      "align_self": null,
      "border": null,
      "bottom": null,
      "display": null,
      "flex": null,
      "flex_flow": null,
      "grid_area": null,
      "grid_auto_columns": null,
      "grid_auto_flow": null,
      "grid_auto_rows": null,
      "grid_column": null,
      "grid_gap": null,
      "grid_row": null,
      "grid_template_areas": null,
      "grid_template_columns": null,
      "grid_template_rows": null,
      "height": null,
      "justify_content": null,
      "justify_items": null,
      "left": null,
      "margin": null,
      "max_height": null,
      "max_width": null,
      "min_height": null,
      "min_width": null,
      "object_fit": null,
      "object_position": null,
      "order": null,
      "overflow": null,
      "overflow_x": null,
      "overflow_y": null,
      "padding": null,
      "right": null,
      "top": null,
      "visibility": null,
      "width": null
     }
    },
    "85f6e3c7eab4445781c2abcfb005df77": {
     "model_module": "@jupyter-widgets/controls",
     "model_name": "DescriptionStyleModel",
     "model_module_version": "1.5.0",
     "state": {
      "_model_module": "@jupyter-widgets/controls",
      "_model_module_version": "1.5.0",
      "_model_name": "DescriptionStyleModel",
      "_view_count": null,
      "_view_module": "@jupyter-widgets/base",
      "_view_module_version": "1.2.0",
      "_view_name": "StyleView",
      "description_width": ""
     }
    },
    "54812f605fdf492c887ad1617adb5580": {
     "model_module": "@jupyter-widgets/base",
     "model_name": "LayoutModel",
     "model_module_version": "1.2.0",
     "state": {
      "_model_module": "@jupyter-widgets/base",
      "_model_module_version": "1.2.0",
      "_model_name": "LayoutModel",
      "_view_count": null,
      "_view_module": "@jupyter-widgets/base",
      "_view_module_version": "1.2.0",
      "_view_name": "LayoutView",
      "align_content": null,
      "align_items": null,
      "align_self": null,
      "border": null,
      "bottom": null,
      "display": null,
      "flex": null,
      "flex_flow": null,
      "grid_area": null,
      "grid_auto_columns": null,
      "grid_auto_flow": null,
      "grid_auto_rows": null,
      "grid_column": null,
      "grid_gap": null,
      "grid_row": null,
      "grid_template_areas": null,
      "grid_template_columns": null,
      "grid_template_rows": null,
      "height": null,
      "justify_content": null,
      "justify_items": null,
      "left": null,
      "margin": null,
      "max_height": null,
      "max_width": null,
      "min_height": null,
      "min_width": null,
      "object_fit": null,
      "object_position": null,
      "order": null,
      "overflow": null,
      "overflow_x": null,
      "overflow_y": null,
      "padding": null,
      "right": null,
      "top": null,
      "visibility": null,
      "width": null
     }
    },
    "966db4acdaad4762b6ebaf228d5ec433": {
     "model_module": "@jupyter-widgets/controls",
     "model_name": "ProgressStyleModel",
     "model_module_version": "1.5.0",
     "state": {
      "_model_module": "@jupyter-widgets/controls",
      "_model_module_version": "1.5.0",
      "_model_name": "ProgressStyleModel",
      "_view_count": null,
      "_view_module": "@jupyter-widgets/base",
      "_view_module_version": "1.2.0",
      "_view_name": "StyleView",
      "bar_color": null,
      "description_width": ""
     }
    },
    "435bdfae13044000bb04027797c8fc3b": {
     "model_module": "@jupyter-widgets/base",
     "model_name": "LayoutModel",
     "model_module_version": "1.2.0",
     "state": {
      "_model_module": "@jupyter-widgets/base",
      "_model_module_version": "1.2.0",
      "_model_name": "LayoutModel",
      "_view_count": null,
      "_view_module": "@jupyter-widgets/base",
      "_view_module_version": "1.2.0",
      "_view_name": "LayoutView",
      "align_content": null,
      "align_items": null,
      "align_self": null,
      "border": null,
      "bottom": null,
      "display": null,
      "flex": null,
      "flex_flow": null,
      "grid_area": null,
      "grid_auto_columns": null,
      "grid_auto_flow": null,
      "grid_auto_rows": null,
      "grid_column": null,
      "grid_gap": null,
      "grid_row": null,
      "grid_template_areas": null,
      "grid_template_columns": null,
      "grid_template_rows": null,
      "height": null,
      "justify_content": null,
      "justify_items": null,
      "left": null,
      "margin": null,
      "max_height": null,
      "max_width": null,
      "min_height": null,
      "min_width": null,
      "object_fit": null,
      "object_position": null,
      "order": null,
      "overflow": null,
      "overflow_x": null,
      "overflow_y": null,
      "padding": null,
      "right": null,
      "top": null,
      "visibility": null,
      "width": null
     }
    },
    "e0e2459a00b748fb8cbfc58eb701baa8": {
     "model_module": "@jupyter-widgets/controls",
     "model_name": "DescriptionStyleModel",
     "model_module_version": "1.5.0",
     "state": {
      "_model_module": "@jupyter-widgets/controls",
      "_model_module_version": "1.5.0",
      "_model_name": "DescriptionStyleModel",
      "_view_count": null,
      "_view_module": "@jupyter-widgets/base",
      "_view_module_version": "1.2.0",
      "_view_name": "StyleView",
      "description_width": ""
     }
    },
    "2d61d0c4b10946faad156c80587b28eb": {
     "model_module": "@jupyter-widgets/controls",
     "model_name": "HBoxModel",
     "model_module_version": "1.5.0",
     "state": {
      "_dom_classes": [],
      "_model_module": "@jupyter-widgets/controls",
      "_model_module_version": "1.5.0",
      "_model_name": "HBoxModel",
      "_view_count": null,
      "_view_module": "@jupyter-widgets/controls",
      "_view_module_version": "1.5.0",
      "_view_name": "HBoxView",
      "box_style": "",
      "children": [
       "IPY_MODEL_630e4d93f259453c8152db7f6cd2f075",
       "IPY_MODEL_cbeb29e9f6d442338ebfb7a3d7258e49",
       "IPY_MODEL_1554aaf544a74d229f729b2b68ecbbd5"
      ],
      "layout": "IPY_MODEL_3493666e382246aa851463bc81b00eaa"
     }
    },
    "630e4d93f259453c8152db7f6cd2f075": {
     "model_module": "@jupyter-widgets/controls",
     "model_name": "HTMLModel",
     "model_module_version": "1.5.0",
     "state": {
      "_dom_classes": [],
      "_model_module": "@jupyter-widgets/controls",
      "_model_module_version": "1.5.0",
      "_model_name": "HTMLModel",
      "_view_count": null,
      "_view_module": "@jupyter-widgets/controls",
      "_view_module_version": "1.5.0",
      "_view_name": "HTMLView",
      "description": "",
      "description_tooltip": null,
      "layout": "IPY_MODEL_a077cba733d84570ba61802c08f57e7a",
      "placeholder": "​",
      "style": "IPY_MODEL_5b469d9746bf467f916f167d185944d5",
      "value": "100%"
     }
    },
    "cbeb29e9f6d442338ebfb7a3d7258e49": {
     "model_module": "@jupyter-widgets/controls",
     "model_name": "FloatProgressModel",
     "model_module_version": "1.5.0",
     "state": {
      "_dom_classes": [],
      "_model_module": "@jupyter-widgets/controls",
      "_model_module_version": "1.5.0",
      "_model_name": "FloatProgressModel",
      "_view_count": null,
      "_view_module": "@jupyter-widgets/controls",
      "_view_module_version": "1.5.0",
      "_view_name": "ProgressView",
      "bar_style": "success",
      "description": "",
      "description_tooltip": null,
      "layout": "IPY_MODEL_efe8d974cacc45b6a43144321c750cb4",
      "max": 210079,
      "min": 0,
      "orientation": "horizontal",
      "style": "IPY_MODEL_d1be5f36cabf406680b03769bc13261a",
      "value": 210079
     }
    },
    "1554aaf544a74d229f729b2b68ecbbd5": {
     "model_module": "@jupyter-widgets/controls",
     "model_name": "HTMLModel",
     "model_module_version": "1.5.0",
     "state": {
      "_dom_classes": [],
      "_model_module": "@jupyter-widgets/controls",
      "_model_module_version": "1.5.0",
      "_model_name": "HTMLModel",
      "_view_count": null,
      "_view_module": "@jupyter-widgets/controls",
      "_view_module_version": "1.5.0",
      "_view_name": "HTMLView",
      "description": "",
      "description_tooltip": null,
      "layout": "IPY_MODEL_5b018c1114e94acd89411046d8b05c81",
      "placeholder": "​",
      "style": "IPY_MODEL_0b787ab3cbf546b3961fdc5545eac781",
      "value": " 210079/210079 [03:19&lt;00:00, 1051.54it/s]"
     }
    },
    "3493666e382246aa851463bc81b00eaa": {
     "model_module": "@jupyter-widgets/base",
     "model_name": "LayoutModel",
     "model_module_version": "1.2.0",
     "state": {
      "_model_module": "@jupyter-widgets/base",
      "_model_module_version": "1.2.0",
      "_model_name": "LayoutModel",
      "_view_count": null,
      "_view_module": "@jupyter-widgets/base",
      "_view_module_version": "1.2.0",
      "_view_name": "LayoutView",
      "align_content": null,
      "align_items": null,
      "align_self": null,
      "border": null,
      "bottom": null,
      "display": null,
      "flex": null,
      "flex_flow": null,
      "grid_area": null,
      "grid_auto_columns": null,
      "grid_auto_flow": null,
      "grid_auto_rows": null,
      "grid_column": null,
      "grid_gap": null,
      "grid_row": null,
      "grid_template_areas": null,
      "grid_template_columns": null,
      "grid_template_rows": null,
      "height": null,
      "justify_content": null,
      "justify_items": null,
      "left": null,
      "margin": null,
      "max_height": null,
      "max_width": null,
      "min_height": null,
      "min_width": null,
      "object_fit": null,
      "object_position": null,
      "order": null,
      "overflow": null,
      "overflow_x": null,
      "overflow_y": null,
      "padding": null,
      "right": null,
      "top": null,
      "visibility": null,
      "width": null
     }
    },
    "a077cba733d84570ba61802c08f57e7a": {
     "model_module": "@jupyter-widgets/base",
     "model_name": "LayoutModel",
     "model_module_version": "1.2.0",
     "state": {
      "_model_module": "@jupyter-widgets/base",
      "_model_module_version": "1.2.0",
      "_model_name": "LayoutModel",
      "_view_count": null,
      "_view_module": "@jupyter-widgets/base",
      "_view_module_version": "1.2.0",
      "_view_name": "LayoutView",
      "align_content": null,
      "align_items": null,
      "align_self": null,
      "border": null,
      "bottom": null,
      "display": null,
      "flex": null,
      "flex_flow": null,
      "grid_area": null,
      "grid_auto_columns": null,
      "grid_auto_flow": null,
      "grid_auto_rows": null,
      "grid_column": null,
      "grid_gap": null,
      "grid_row": null,
      "grid_template_areas": null,
      "grid_template_columns": null,
      "grid_template_rows": null,
      "height": null,
      "justify_content": null,
      "justify_items": null,
      "left": null,
      "margin": null,
      "max_height": null,
      "max_width": null,
      "min_height": null,
      "min_width": null,
      "object_fit": null,
      "object_position": null,
      "order": null,
      "overflow": null,
      "overflow_x": null,
      "overflow_y": null,
      "padding": null,
      "right": null,
      "top": null,
      "visibility": null,
      "width": null
     }
    },
    "5b469d9746bf467f916f167d185944d5": {
     "model_module": "@jupyter-widgets/controls",
     "model_name": "DescriptionStyleModel",
     "model_module_version": "1.5.0",
     "state": {
      "_model_module": "@jupyter-widgets/controls",
      "_model_module_version": "1.5.0",
      "_model_name": "DescriptionStyleModel",
      "_view_count": null,
      "_view_module": "@jupyter-widgets/base",
      "_view_module_version": "1.2.0",
      "_view_name": "StyleView",
      "description_width": ""
     }
    },
    "efe8d974cacc45b6a43144321c750cb4": {
     "model_module": "@jupyter-widgets/base",
     "model_name": "LayoutModel",
     "model_module_version": "1.2.0",
     "state": {
      "_model_module": "@jupyter-widgets/base",
      "_model_module_version": "1.2.0",
      "_model_name": "LayoutModel",
      "_view_count": null,
      "_view_module": "@jupyter-widgets/base",
      "_view_module_version": "1.2.0",
      "_view_name": "LayoutView",
      "align_content": null,
      "align_items": null,
      "align_self": null,
      "border": null,
      "bottom": null,
      "display": null,
      "flex": null,
      "flex_flow": null,
      "grid_area": null,
      "grid_auto_columns": null,
      "grid_auto_flow": null,
      "grid_auto_rows": null,
      "grid_column": null,
      "grid_gap": null,
      "grid_row": null,
      "grid_template_areas": null,
      "grid_template_columns": null,
      "grid_template_rows": null,
      "height": null,
      "justify_content": null,
      "justify_items": null,
      "left": null,
      "margin": null,
      "max_height": null,
      "max_width": null,
      "min_height": null,
      "min_width": null,
      "object_fit": null,
      "object_position": null,
      "order": null,
      "overflow": null,
      "overflow_x": null,
      "overflow_y": null,
      "padding": null,
      "right": null,
      "top": null,
      "visibility": null,
      "width": null
     }
    },
    "d1be5f36cabf406680b03769bc13261a": {
     "model_module": "@jupyter-widgets/controls",
     "model_name": "ProgressStyleModel",
     "model_module_version": "1.5.0",
     "state": {
      "_model_module": "@jupyter-widgets/controls",
      "_model_module_version": "1.5.0",
      "_model_name": "ProgressStyleModel",
      "_view_count": null,
      "_view_module": "@jupyter-widgets/base",
      "_view_module_version": "1.2.0",
      "_view_name": "StyleView",
      "bar_color": null,
      "description_width": ""
     }
    },
    "5b018c1114e94acd89411046d8b05c81": {
     "model_module": "@jupyter-widgets/base",
     "model_name": "LayoutModel",
     "model_module_version": "1.2.0",
     "state": {
      "_model_module": "@jupyter-widgets/base",
      "_model_module_version": "1.2.0",
      "_model_name": "LayoutModel",
      "_view_count": null,
      "_view_module": "@jupyter-widgets/base",
      "_view_module_version": "1.2.0",
      "_view_name": "LayoutView",
      "align_content": null,
      "align_items": null,
      "align_self": null,
      "border": null,
      "bottom": null,
      "display": null,
      "flex": null,
      "flex_flow": null,
      "grid_area": null,
      "grid_auto_columns": null,
      "grid_auto_flow": null,
      "grid_auto_rows": null,
      "grid_column": null,
      "grid_gap": null,
      "grid_row": null,
      "grid_template_areas": null,
      "grid_template_columns": null,
      "grid_template_rows": null,
      "height": null,
      "justify_content": null,
      "justify_items": null,
      "left": null,
      "margin": null,
      "max_height": null,
      "max_width": null,
      "min_height": null,
      "min_width": null,
      "object_fit": null,
      "object_position": null,
      "order": null,
      "overflow": null,
      "overflow_x": null,
      "overflow_y": null,
      "padding": null,
      "right": null,
      "top": null,
      "visibility": null,
      "width": null
     }
    },
    "0b787ab3cbf546b3961fdc5545eac781": {
     "model_module": "@jupyter-widgets/controls",
     "model_name": "DescriptionStyleModel",
     "model_module_version": "1.5.0",
     "state": {
      "_model_module": "@jupyter-widgets/controls",
      "_model_module_version": "1.5.0",
      "_model_name": "DescriptionStyleModel",
      "_view_count": null,
      "_view_module": "@jupyter-widgets/base",
      "_view_module_version": "1.2.0",
      "_view_name": "StyleView",
      "description_width": ""
     }
    },
    "aad0c81ed35d4c0b9a43972218543e9e": {
     "model_module": "@jupyter-widgets/controls",
     "model_name": "HBoxModel",
     "model_module_version": "1.5.0",
     "state": {
      "_dom_classes": [],
      "_model_module": "@jupyter-widgets/controls",
      "_model_module_version": "1.5.0",
      "_model_name": "HBoxModel",
      "_view_count": null,
      "_view_module": "@jupyter-widgets/controls",
      "_view_module_version": "1.5.0",
      "_view_name": "HBoxView",
      "box_style": "",
      "children": [
       "IPY_MODEL_546cfa0bb4fd45d9b39c7fa14ebf3c7e",
       "IPY_MODEL_6970fa697aa34aff9a5f9f98788205b1",
       "IPY_MODEL_da794f425ef0437195e4242df40e648c"
      ],
      "layout": "IPY_MODEL_aadb46f76eeb4132bb8928c1dabd466f"
     }
    },
    "546cfa0bb4fd45d9b39c7fa14ebf3c7e": {
     "model_module": "@jupyter-widgets/controls",
     "model_name": "HTMLModel",
     "model_module_version": "1.5.0",
     "state": {
      "_dom_classes": [],
      "_model_module": "@jupyter-widgets/controls",
      "_model_module_version": "1.5.0",
      "_model_name": "HTMLModel",
      "_view_count": null,
      "_view_module": "@jupyter-widgets/controls",
      "_view_module_version": "1.5.0",
      "_view_name": "HTMLView",
      "description": "",
      "description_tooltip": null,
      "layout": "IPY_MODEL_7bb224968d144905b476c4e4451293e1",
      "placeholder": "​",
      "style": "IPY_MODEL_9028f2bf9f384af2add139e487a6a54c",
      "value": "100%"
     }
    },
    "6970fa697aa34aff9a5f9f98788205b1": {
     "model_module": "@jupyter-widgets/controls",
     "model_name": "FloatProgressModel",
     "model_module_version": "1.5.0",
     "state": {
      "_dom_classes": [],
      "_model_module": "@jupyter-widgets/controls",
      "_model_module_version": "1.5.0",
      "_model_name": "FloatProgressModel",
      "_view_count": null,
      "_view_module": "@jupyter-widgets/controls",
      "_view_module_version": "1.5.0",
      "_view_name": "ProgressView",
      "bar_style": "success",
      "description": "",
      "description_tooltip": null,
      "layout": "IPY_MODEL_d4520de977d24d71af61ba1ac9c6def1",
      "max": 50,
      "min": 0,
      "orientation": "horizontal",
      "style": "IPY_MODEL_d0272f01913347d8a0c7d8e45c79de75",
      "value": 50
     }
    },
    "da794f425ef0437195e4242df40e648c": {
     "model_module": "@jupyter-widgets/controls",
     "model_name": "HTMLModel",
     "model_module_version": "1.5.0",
     "state": {
      "_dom_classes": [],
      "_model_module": "@jupyter-widgets/controls",
      "_model_module_version": "1.5.0",
      "_model_name": "HTMLModel",
      "_view_count": null,
      "_view_module": "@jupyter-widgets/controls",
      "_view_module_version": "1.5.0",
      "_view_name": "HTMLView",
      "description": "",
      "description_tooltip": null,
      "layout": "IPY_MODEL_7042e30fedb242db9f6e47b4506f28cf",
      "placeholder": "​",
      "style": "IPY_MODEL_bec3224ff6504fbd9a7664d6f1b24254",
      "value": " 50/50 [00:37&lt;00:00,  1.42it/s]"
     }
    },
    "aadb46f76eeb4132bb8928c1dabd466f": {
     "model_module": "@jupyter-widgets/base",
     "model_name": "LayoutModel",
     "model_module_version": "1.2.0",
     "state": {
      "_model_module": "@jupyter-widgets/base",
      "_model_module_version": "1.2.0",
      "_model_name": "LayoutModel",
      "_view_count": null,
      "_view_module": "@jupyter-widgets/base",
      "_view_module_version": "1.2.0",
      "_view_name": "LayoutView",
      "align_content": null,
      "align_items": null,
      "align_self": null,
      "border": null,
      "bottom": null,
      "display": null,
      "flex": null,
      "flex_flow": null,
      "grid_area": null,
      "grid_auto_columns": null,
      "grid_auto_flow": null,
      "grid_auto_rows": null,
      "grid_column": null,
      "grid_gap": null,
      "grid_row": null,
      "grid_template_areas": null,
      "grid_template_columns": null,
      "grid_template_rows": null,
      "height": null,
      "justify_content": null,
      "justify_items": null,
      "left": null,
      "margin": null,
      "max_height": null,
      "max_width": null,
      "min_height": null,
      "min_width": null,
      "object_fit": null,
      "object_position": null,
      "order": null,
      "overflow": null,
      "overflow_x": null,
      "overflow_y": null,
      "padding": null,
      "right": null,
      "top": null,
      "visibility": null,
      "width": null
     }
    },
    "7bb224968d144905b476c4e4451293e1": {
     "model_module": "@jupyter-widgets/base",
     "model_name": "LayoutModel",
     "model_module_version": "1.2.0",
     "state": {
      "_model_module": "@jupyter-widgets/base",
      "_model_module_version": "1.2.0",
      "_model_name": "LayoutModel",
      "_view_count": null,
      "_view_module": "@jupyter-widgets/base",
      "_view_module_version": "1.2.0",
      "_view_name": "LayoutView",
      "align_content": null,
      "align_items": null,
      "align_self": null,
      "border": null,
      "bottom": null,
      "display": null,
      "flex": null,
      "flex_flow": null,
      "grid_area": null,
      "grid_auto_columns": null,
      "grid_auto_flow": null,
      "grid_auto_rows": null,
      "grid_column": null,
      "grid_gap": null,
      "grid_row": null,
      "grid_template_areas": null,
      "grid_template_columns": null,
      "grid_template_rows": null,
      "height": null,
      "justify_content": null,
      "justify_items": null,
      "left": null,
      "margin": null,
      "max_height": null,
      "max_width": null,
      "min_height": null,
      "min_width": null,
      "object_fit": null,
      "object_position": null,
      "order": null,
      "overflow": null,
      "overflow_x": null,
      "overflow_y": null,
      "padding": null,
      "right": null,
      "top": null,
      "visibility": null,
      "width": null
     }
    },
    "9028f2bf9f384af2add139e487a6a54c": {
     "model_module": "@jupyter-widgets/controls",
     "model_name": "DescriptionStyleModel",
     "model_module_version": "1.5.0",
     "state": {
      "_model_module": "@jupyter-widgets/controls",
      "_model_module_version": "1.5.0",
      "_model_name": "DescriptionStyleModel",
      "_view_count": null,
      "_view_module": "@jupyter-widgets/base",
      "_view_module_version": "1.2.0",
      "_view_name": "StyleView",
      "description_width": ""
     }
    },
    "d4520de977d24d71af61ba1ac9c6def1": {
     "model_module": "@jupyter-widgets/base",
     "model_name": "LayoutModel",
     "model_module_version": "1.2.0",
     "state": {
      "_model_module": "@jupyter-widgets/base",
      "_model_module_version": "1.2.0",
      "_model_name": "LayoutModel",
      "_view_count": null,
      "_view_module": "@jupyter-widgets/base",
      "_view_module_version": "1.2.0",
      "_view_name": "LayoutView",
      "align_content": null,
      "align_items": null,
      "align_self": null,
      "border": null,
      "bottom": null,
      "display": null,
      "flex": null,
      "flex_flow": null,
      "grid_area": null,
      "grid_auto_columns": null,
      "grid_auto_flow": null,
      "grid_auto_rows": null,
      "grid_column": null,
      "grid_gap": null,
      "grid_row": null,
      "grid_template_areas": null,
      "grid_template_columns": null,
      "grid_template_rows": null,
      "height": null,
      "justify_content": null,
      "justify_items": null,
      "left": null,
      "margin": null,
      "max_height": null,
      "max_width": null,
      "min_height": null,
      "min_width": null,
      "object_fit": null,
      "object_position": null,
      "order": null,
      "overflow": null,
      "overflow_x": null,
      "overflow_y": null,
      "padding": null,
      "right": null,
      "top": null,
      "visibility": null,
      "width": null
     }
    },
    "d0272f01913347d8a0c7d8e45c79de75": {
     "model_module": "@jupyter-widgets/controls",
     "model_name": "ProgressStyleModel",
     "model_module_version": "1.5.0",
     "state": {
      "_model_module": "@jupyter-widgets/controls",
      "_model_module_version": "1.5.0",
      "_model_name": "ProgressStyleModel",
      "_view_count": null,
      "_view_module": "@jupyter-widgets/base",
      "_view_module_version": "1.2.0",
      "_view_name": "StyleView",
      "bar_color": null,
      "description_width": ""
     }
    },
    "7042e30fedb242db9f6e47b4506f28cf": {
     "model_module": "@jupyter-widgets/base",
     "model_name": "LayoutModel",
     "model_module_version": "1.2.0",
     "state": {
      "_model_module": "@jupyter-widgets/base",
      "_model_module_version": "1.2.0",
      "_model_name": "LayoutModel",
      "_view_count": null,
      "_view_module": "@jupyter-widgets/base",
      "_view_module_version": "1.2.0",
      "_view_name": "LayoutView",
      "align_content": null,
      "align_items": null,
      "align_self": null,
      "border": null,
      "bottom": null,
      "display": null,
      "flex": null,
      "flex_flow": null,
      "grid_area": null,
      "grid_auto_columns": null,
      "grid_auto_flow": null,
      "grid_auto_rows": null,
      "grid_column": null,
      "grid_gap": null,
      "grid_row": null,
      "grid_template_areas": null,
      "grid_template_columns": null,
      "grid_template_rows": null,
      "height": null,
      "justify_content": null,
      "justify_items": null,
      "left": null,
      "margin": null,
      "max_height": null,
      "max_width": null,
      "min_height": null,
      "min_width": null,
      "object_fit": null,
      "object_position": null,
      "order": null,
      "overflow": null,
      "overflow_x": null,
      "overflow_y": null,
      "padding": null,
      "right": null,
      "top": null,
      "visibility": null,
      "width": null
     }
    },
    "bec3224ff6504fbd9a7664d6f1b24254": {
     "model_module": "@jupyter-widgets/controls",
     "model_name": "DescriptionStyleModel",
     "model_module_version": "1.5.0",
     "state": {
      "_model_module": "@jupyter-widgets/controls",
      "_model_module_version": "1.5.0",
      "_model_name": "DescriptionStyleModel",
      "_view_count": null,
      "_view_module": "@jupyter-widgets/base",
      "_view_module_version": "1.2.0",
      "_view_name": "StyleView",
      "description_width": ""
     }
    },
    "cc2863ef9bc34ba28d4121aabd77ffb3": {
     "model_module": "@jupyter-widgets/controls",
     "model_name": "HBoxModel",
     "model_module_version": "1.5.0",
     "state": {
      "_dom_classes": [],
      "_model_module": "@jupyter-widgets/controls",
      "_model_module_version": "1.5.0",
      "_model_name": "HBoxModel",
      "_view_count": null,
      "_view_module": "@jupyter-widgets/controls",
      "_view_module_version": "1.5.0",
      "_view_name": "HBoxView",
      "box_style": "",
      "children": [
       "IPY_MODEL_287ae9d8c4024c4a8cf26cf63a078d66",
       "IPY_MODEL_9e6709660e1d4944bbfeec9b712b91d0",
       "IPY_MODEL_472420b22ce64ccea12bf6830d870409"
      ],
      "layout": "IPY_MODEL_f7b1d4fa74304614b807fd52e5c6d784"
     }
    },
    "287ae9d8c4024c4a8cf26cf63a078d66": {
     "model_module": "@jupyter-widgets/controls",
     "model_name": "HTMLModel",
     "model_module_version": "1.5.0",
     "state": {
      "_dom_classes": [],
      "_model_module": "@jupyter-widgets/controls",
      "_model_module_version": "1.5.0",
      "_model_name": "HTMLModel",
      "_view_count": null,
      "_view_module": "@jupyter-widgets/controls",
      "_view_module_version": "1.5.0",
      "_view_name": "HTMLView",
      "description": "",
      "description_tooltip": null,
      "layout": "IPY_MODEL_ec720767eb994b07badc4da95d1dc9ac",
      "placeholder": "​",
      "style": "IPY_MODEL_2ab952c3ac924628b8f9e191a3037514",
      "value": "100%"
     }
    },
    "9e6709660e1d4944bbfeec9b712b91d0": {
     "model_module": "@jupyter-widgets/controls",
     "model_name": "FloatProgressModel",
     "model_module_version": "1.5.0",
     "state": {
      "_dom_classes": [],
      "_model_module": "@jupyter-widgets/controls",
      "_model_module_version": "1.5.0",
      "_model_name": "FloatProgressModel",
      "_view_count": null,
      "_view_module": "@jupyter-widgets/controls",
      "_view_module_version": "1.5.0",
      "_view_name": "ProgressView",
      "bar_style": "success",
      "description": "",
      "description_tooltip": null,
      "layout": "IPY_MODEL_d3a91d2bff4b448ba126fa484d555c62",
      "max": 210079,
      "min": 0,
      "orientation": "horizontal",
      "style": "IPY_MODEL_62ca412676fa4e1892014fb6843e06fa",
      "value": 210079
     }
    },
    "472420b22ce64ccea12bf6830d870409": {
     "model_module": "@jupyter-widgets/controls",
     "model_name": "HTMLModel",
     "model_module_version": "1.5.0",
     "state": {
      "_dom_classes": [],
      "_model_module": "@jupyter-widgets/controls",
      "_model_module_version": "1.5.0",
      "_model_name": "HTMLModel",
      "_view_count": null,
      "_view_module": "@jupyter-widgets/controls",
      "_view_module_version": "1.5.0",
      "_view_name": "HTMLView",
      "description": "",
      "description_tooltip": null,
      "layout": "IPY_MODEL_d7d5448fbe4f408cb1c890e1db1b44c5",
      "placeholder": "​",
      "style": "IPY_MODEL_7c41e929300a40f589dbf7a550db3bfc",
      "value": " 210079/210079 [03:19&lt;00:00, 1028.33it/s]"
     }
    },
    "f7b1d4fa74304614b807fd52e5c6d784": {
     "model_module": "@jupyter-widgets/base",
     "model_name": "LayoutModel",
     "model_module_version": "1.2.0",
     "state": {
      "_model_module": "@jupyter-widgets/base",
      "_model_module_version": "1.2.0",
      "_model_name": "LayoutModel",
      "_view_count": null,
      "_view_module": "@jupyter-widgets/base",
      "_view_module_version": "1.2.0",
      "_view_name": "LayoutView",
      "align_content": null,
      "align_items": null,
      "align_self": null,
      "border": null,
      "bottom": null,
      "display": null,
      "flex": null,
      "flex_flow": null,
      "grid_area": null,
      "grid_auto_columns": null,
      "grid_auto_flow": null,
      "grid_auto_rows": null,
      "grid_column": null,
      "grid_gap": null,
      "grid_row": null,
      "grid_template_areas": null,
      "grid_template_columns": null,
      "grid_template_rows": null,
      "height": null,
      "justify_content": null,
      "justify_items": null,
      "left": null,
      "margin": null,
      "max_height": null,
      "max_width": null,
      "min_height": null,
      "min_width": null,
      "object_fit": null,
      "object_position": null,
      "order": null,
      "overflow": null,
      "overflow_x": null,
      "overflow_y": null,
      "padding": null,
      "right": null,
      "top": null,
      "visibility": null,
      "width": null
     }
    },
    "ec720767eb994b07badc4da95d1dc9ac": {
     "model_module": "@jupyter-widgets/base",
     "model_name": "LayoutModel",
     "model_module_version": "1.2.0",
     "state": {
      "_model_module": "@jupyter-widgets/base",
      "_model_module_version": "1.2.0",
      "_model_name": "LayoutModel",
      "_view_count": null,
      "_view_module": "@jupyter-widgets/base",
      "_view_module_version": "1.2.0",
      "_view_name": "LayoutView",
      "align_content": null,
      "align_items": null,
      "align_self": null,
      "border": null,
      "bottom": null,
      "display": null,
      "flex": null,
      "flex_flow": null,
      "grid_area": null,
      "grid_auto_columns": null,
      "grid_auto_flow": null,
      "grid_auto_rows": null,
      "grid_column": null,
      "grid_gap": null,
      "grid_row": null,
      "grid_template_areas": null,
      "grid_template_columns": null,
      "grid_template_rows": null,
      "height": null,
      "justify_content": null,
      "justify_items": null,
      "left": null,
      "margin": null,
      "max_height": null,
      "max_width": null,
      "min_height": null,
      "min_width": null,
      "object_fit": null,
      "object_position": null,
      "order": null,
      "overflow": null,
      "overflow_x": null,
      "overflow_y": null,
      "padding": null,
      "right": null,
      "top": null,
      "visibility": null,
      "width": null
     }
    },
    "2ab952c3ac924628b8f9e191a3037514": {
     "model_module": "@jupyter-widgets/controls",
     "model_name": "DescriptionStyleModel",
     "model_module_version": "1.5.0",
     "state": {
      "_model_module": "@jupyter-widgets/controls",
      "_model_module_version": "1.5.0",
      "_model_name": "DescriptionStyleModel",
      "_view_count": null,
      "_view_module": "@jupyter-widgets/base",
      "_view_module_version": "1.2.0",
      "_view_name": "StyleView",
      "description_width": ""
     }
    },
    "d3a91d2bff4b448ba126fa484d555c62": {
     "model_module": "@jupyter-widgets/base",
     "model_name": "LayoutModel",
     "model_module_version": "1.2.0",
     "state": {
      "_model_module": "@jupyter-widgets/base",
      "_model_module_version": "1.2.0",
      "_model_name": "LayoutModel",
      "_view_count": null,
      "_view_module": "@jupyter-widgets/base",
      "_view_module_version": "1.2.0",
      "_view_name": "LayoutView",
      "align_content": null,
      "align_items": null,
      "align_self": null,
      "border": null,
      "bottom": null,
      "display": null,
      "flex": null,
      "flex_flow": null,
      "grid_area": null,
      "grid_auto_columns": null,
      "grid_auto_flow": null,
      "grid_auto_rows": null,
      "grid_column": null,
      "grid_gap": null,
      "grid_row": null,
      "grid_template_areas": null,
      "grid_template_columns": null,
      "grid_template_rows": null,
      "height": null,
      "justify_content": null,
      "justify_items": null,
      "left": null,
      "margin": null,
      "max_height": null,
      "max_width": null,
      "min_height": null,
      "min_width": null,
      "object_fit": null,
      "object_position": null,
      "order": null,
      "overflow": null,
      "overflow_x": null,
      "overflow_y": null,
      "padding": null,
      "right": null,
      "top": null,
      "visibility": null,
      "width": null
     }
    },
    "62ca412676fa4e1892014fb6843e06fa": {
     "model_module": "@jupyter-widgets/controls",
     "model_name": "ProgressStyleModel",
     "model_module_version": "1.5.0",
     "state": {
      "_model_module": "@jupyter-widgets/controls",
      "_model_module_version": "1.5.0",
      "_model_name": "ProgressStyleModel",
      "_view_count": null,
      "_view_module": "@jupyter-widgets/base",
      "_view_module_version": "1.2.0",
      "_view_name": "StyleView",
      "bar_color": null,
      "description_width": ""
     }
    },
    "d7d5448fbe4f408cb1c890e1db1b44c5": {
     "model_module": "@jupyter-widgets/base",
     "model_name": "LayoutModel",
     "model_module_version": "1.2.0",
     "state": {
      "_model_module": "@jupyter-widgets/base",
      "_model_module_version": "1.2.0",
      "_model_name": "LayoutModel",
      "_view_count": null,
      "_view_module": "@jupyter-widgets/base",
      "_view_module_version": "1.2.0",
      "_view_name": "LayoutView",
      "align_content": null,
      "align_items": null,
      "align_self": null,
      "border": null,
      "bottom": null,
      "display": null,
      "flex": null,
      "flex_flow": null,
      "grid_area": null,
      "grid_auto_columns": null,
      "grid_auto_flow": null,
      "grid_auto_rows": null,
      "grid_column": null,
      "grid_gap": null,
      "grid_row": null,
      "grid_template_areas": null,
      "grid_template_columns": null,
      "grid_template_rows": null,
      "height": null,
      "justify_content": null,
      "justify_items": null,
      "left": null,
      "margin": null,
      "max_height": null,
      "max_width": null,
      "min_height": null,
      "min_width": null,
      "object_fit": null,
      "object_position": null,
      "order": null,
      "overflow": null,
      "overflow_x": null,
      "overflow_y": null,
      "padding": null,
      "right": null,
      "top": null,
      "visibility": null,
      "width": null
     }
    },
    "7c41e929300a40f589dbf7a550db3bfc": {
     "model_module": "@jupyter-widgets/controls",
     "model_name": "DescriptionStyleModel",
     "model_module_version": "1.5.0",
     "state": {
      "_model_module": "@jupyter-widgets/controls",
      "_model_module_version": "1.5.0",
      "_model_name": "DescriptionStyleModel",
      "_view_count": null,
      "_view_module": "@jupyter-widgets/base",
      "_view_module_version": "1.2.0",
      "_view_name": "StyleView",
      "description_width": ""
     }
    },
    "5eee4bcc252342188d5cd12668da99fc": {
     "model_module": "@jupyter-widgets/controls",
     "model_name": "HBoxModel",
     "model_module_version": "1.5.0",
     "state": {
      "_dom_classes": [],
      "_model_module": "@jupyter-widgets/controls",
      "_model_module_version": "1.5.0",
      "_model_name": "HBoxModel",
      "_view_count": null,
      "_view_module": "@jupyter-widgets/controls",
      "_view_module_version": "1.5.0",
      "_view_name": "HBoxView",
      "box_style": "",
      "children": [
       "IPY_MODEL_d09c3a3999644f97a87b2667d300a3bf",
       "IPY_MODEL_2e21583d87af4d4a847b0b75db6b643e",
       "IPY_MODEL_aa175f8164db4ddbb5e92544c9bd4572"
      ],
      "layout": "IPY_MODEL_23e2fbfd800f4897a5b497d80c14ef6e"
     }
    },
    "d09c3a3999644f97a87b2667d300a3bf": {
     "model_module": "@jupyter-widgets/controls",
     "model_name": "HTMLModel",
     "model_module_version": "1.5.0",
     "state": {
      "_dom_classes": [],
      "_model_module": "@jupyter-widgets/controls",
      "_model_module_version": "1.5.0",
      "_model_name": "HTMLModel",
      "_view_count": null,
      "_view_module": "@jupyter-widgets/controls",
      "_view_module_version": "1.5.0",
      "_view_name": "HTMLView",
      "description": "",
      "description_tooltip": null,
      "layout": "IPY_MODEL_2747022b80a747dabfb5cafe94bf052c",
      "placeholder": "​",
      "style": "IPY_MODEL_9117b8a1569d486eb078f2bd9ebb609c",
      "value": "100%"
     }
    },
    "2e21583d87af4d4a847b0b75db6b643e": {
     "model_module": "@jupyter-widgets/controls",
     "model_name": "FloatProgressModel",
     "model_module_version": "1.5.0",
     "state": {
      "_dom_classes": [],
      "_model_module": "@jupyter-widgets/controls",
      "_model_module_version": "1.5.0",
      "_model_name": "FloatProgressModel",
      "_view_count": null,
      "_view_module": "@jupyter-widgets/controls",
      "_view_module_version": "1.5.0",
      "_view_name": "ProgressView",
      "bar_style": "success",
      "description": "",
      "description_tooltip": null,
      "layout": "IPY_MODEL_59e70b91c6c345e88ccd7506d7a6655b",
      "max": 210079,
      "min": 0,
      "orientation": "horizontal",
      "style": "IPY_MODEL_8ddf450d6a9a4d8c91199bf133d48e19",
      "value": 210079
     }
    },
    "aa175f8164db4ddbb5e92544c9bd4572": {
     "model_module": "@jupyter-widgets/controls",
     "model_name": "HTMLModel",
     "model_module_version": "1.5.0",
     "state": {
      "_dom_classes": [],
      "_model_module": "@jupyter-widgets/controls",
      "_model_module_version": "1.5.0",
      "_model_name": "HTMLModel",
      "_view_count": null,
      "_view_module": "@jupyter-widgets/controls",
      "_view_module_version": "1.5.0",
      "_view_name": "HTMLView",
      "description": "",
      "description_tooltip": null,
      "layout": "IPY_MODEL_301f6c41eae04ed3a7a4399c56657e00",
      "placeholder": "​",
      "style": "IPY_MODEL_0cdda1f679fc4b3f800404acf8519d0c",
      "value": " 210079/210079 [03:17&lt;00:00, 1069.53it/s]"
     }
    },
    "23e2fbfd800f4897a5b497d80c14ef6e": {
     "model_module": "@jupyter-widgets/base",
     "model_name": "LayoutModel",
     "model_module_version": "1.2.0",
     "state": {
      "_model_module": "@jupyter-widgets/base",
      "_model_module_version": "1.2.0",
      "_model_name": "LayoutModel",
      "_view_count": null,
      "_view_module": "@jupyter-widgets/base",
      "_view_module_version": "1.2.0",
      "_view_name": "LayoutView",
      "align_content": null,
      "align_items": null,
      "align_self": null,
      "border": null,
      "bottom": null,
      "display": null,
      "flex": null,
      "flex_flow": null,
      "grid_area": null,
      "grid_auto_columns": null,
      "grid_auto_flow": null,
      "grid_auto_rows": null,
      "grid_column": null,
      "grid_gap": null,
      "grid_row": null,
      "grid_template_areas": null,
      "grid_template_columns": null,
      "grid_template_rows": null,
      "height": null,
      "justify_content": null,
      "justify_items": null,
      "left": null,
      "margin": null,
      "max_height": null,
      "max_width": null,
      "min_height": null,
      "min_width": null,
      "object_fit": null,
      "object_position": null,
      "order": null,
      "overflow": null,
      "overflow_x": null,
      "overflow_y": null,
      "padding": null,
      "right": null,
      "top": null,
      "visibility": null,
      "width": null
     }
    },
    "2747022b80a747dabfb5cafe94bf052c": {
     "model_module": "@jupyter-widgets/base",
     "model_name": "LayoutModel",
     "model_module_version": "1.2.0",
     "state": {
      "_model_module": "@jupyter-widgets/base",
      "_model_module_version": "1.2.0",
      "_model_name": "LayoutModel",
      "_view_count": null,
      "_view_module": "@jupyter-widgets/base",
      "_view_module_version": "1.2.0",
      "_view_name": "LayoutView",
      "align_content": null,
      "align_items": null,
      "align_self": null,
      "border": null,
      "bottom": null,
      "display": null,
      "flex": null,
      "flex_flow": null,
      "grid_area": null,
      "grid_auto_columns": null,
      "grid_auto_flow": null,
      "grid_auto_rows": null,
      "grid_column": null,
      "grid_gap": null,
      "grid_row": null,
      "grid_template_areas": null,
      "grid_template_columns": null,
      "grid_template_rows": null,
      "height": null,
      "justify_content": null,
      "justify_items": null,
      "left": null,
      "margin": null,
      "max_height": null,
      "max_width": null,
      "min_height": null,
      "min_width": null,
      "object_fit": null,
      "object_position": null,
      "order": null,
      "overflow": null,
      "overflow_x": null,
      "overflow_y": null,
      "padding": null,
      "right": null,
      "top": null,
      "visibility": null,
      "width": null
     }
    },
    "9117b8a1569d486eb078f2bd9ebb609c": {
     "model_module": "@jupyter-widgets/controls",
     "model_name": "DescriptionStyleModel",
     "model_module_version": "1.5.0",
     "state": {
      "_model_module": "@jupyter-widgets/controls",
      "_model_module_version": "1.5.0",
      "_model_name": "DescriptionStyleModel",
      "_view_count": null,
      "_view_module": "@jupyter-widgets/base",
      "_view_module_version": "1.2.0",
      "_view_name": "StyleView",
      "description_width": ""
     }
    },
    "59e70b91c6c345e88ccd7506d7a6655b": {
     "model_module": "@jupyter-widgets/base",
     "model_name": "LayoutModel",
     "model_module_version": "1.2.0",
     "state": {
      "_model_module": "@jupyter-widgets/base",
      "_model_module_version": "1.2.0",
      "_model_name": "LayoutModel",
      "_view_count": null,
      "_view_module": "@jupyter-widgets/base",
      "_view_module_version": "1.2.0",
      "_view_name": "LayoutView",
      "align_content": null,
      "align_items": null,
      "align_self": null,
      "border": null,
      "bottom": null,
      "display": null,
      "flex": null,
      "flex_flow": null,
      "grid_area": null,
      "grid_auto_columns": null,
      "grid_auto_flow": null,
      "grid_auto_rows": null,
      "grid_column": null,
      "grid_gap": null,
      "grid_row": null,
      "grid_template_areas": null,
      "grid_template_columns": null,
      "grid_template_rows": null,
      "height": null,
      "justify_content": null,
      "justify_items": null,
      "left": null,
      "margin": null,
      "max_height": null,
      "max_width": null,
      "min_height": null,
      "min_width": null,
      "object_fit": null,
      "object_position": null,
      "order": null,
      "overflow": null,
      "overflow_x": null,
      "overflow_y": null,
      "padding": null,
      "right": null,
      "top": null,
      "visibility": null,
      "width": null
     }
    },
    "8ddf450d6a9a4d8c91199bf133d48e19": {
     "model_module": "@jupyter-widgets/controls",
     "model_name": "ProgressStyleModel",
     "model_module_version": "1.5.0",
     "state": {
      "_model_module": "@jupyter-widgets/controls",
      "_model_module_version": "1.5.0",
      "_model_name": "ProgressStyleModel",
      "_view_count": null,
      "_view_module": "@jupyter-widgets/base",
      "_view_module_version": "1.2.0",
      "_view_name": "StyleView",
      "bar_color": null,
      "description_width": ""
     }
    },
    "301f6c41eae04ed3a7a4399c56657e00": {
     "model_module": "@jupyter-widgets/base",
     "model_name": "LayoutModel",
     "model_module_version": "1.2.0",
     "state": {
      "_model_module": "@jupyter-widgets/base",
      "_model_module_version": "1.2.0",
      "_model_name": "LayoutModel",
      "_view_count": null,
      "_view_module": "@jupyter-widgets/base",
      "_view_module_version": "1.2.0",
      "_view_name": "LayoutView",
      "align_content": null,
      "align_items": null,
      "align_self": null,
      "border": null,
      "bottom": null,
      "display": null,
      "flex": null,
      "flex_flow": null,
      "grid_area": null,
      "grid_auto_columns": null,
      "grid_auto_flow": null,
      "grid_auto_rows": null,
      "grid_column": null,
      "grid_gap": null,
      "grid_row": null,
      "grid_template_areas": null,
      "grid_template_columns": null,
      "grid_template_rows": null,
      "height": null,
      "justify_content": null,
      "justify_items": null,
      "left": null,
      "margin": null,
      "max_height": null,
      "max_width": null,
      "min_height": null,
      "min_width": null,
      "object_fit": null,
      "object_position": null,
      "order": null,
      "overflow": null,
      "overflow_x": null,
      "overflow_y": null,
      "padding": null,
      "right": null,
      "top": null,
      "visibility": null,
      "width": null
     }
    },
    "0cdda1f679fc4b3f800404acf8519d0c": {
     "model_module": "@jupyter-widgets/controls",
     "model_name": "DescriptionStyleModel",
     "model_module_version": "1.5.0",
     "state": {
      "_model_module": "@jupyter-widgets/controls",
      "_model_module_version": "1.5.0",
      "_model_name": "DescriptionStyleModel",
      "_view_count": null,
      "_view_module": "@jupyter-widgets/base",
      "_view_module_version": "1.2.0",
      "_view_name": "StyleView",
      "description_width": ""
     }
    },
    "7416460c81fe465aa33245ef6ea01b48": {
     "model_module": "@jupyter-widgets/controls",
     "model_name": "HBoxModel",
     "model_module_version": "1.5.0",
     "state": {
      "_dom_classes": [],
      "_model_module": "@jupyter-widgets/controls",
      "_model_module_version": "1.5.0",
      "_model_name": "HBoxModel",
      "_view_count": null,
      "_view_module": "@jupyter-widgets/controls",
      "_view_module_version": "1.5.0",
      "_view_name": "HBoxView",
      "box_style": "",
      "children": [
       "IPY_MODEL_20ba1923e07d48a9b9a909dbb67c4184",
       "IPY_MODEL_d829d88b19f9446fa42f66cfafb2030b",
       "IPY_MODEL_cd874d48f1af4d5b9bf8635aef50b6d1"
      ],
      "layout": "IPY_MODEL_e2c244d0013f4a4f9474e796b3ed1e39"
     }
    },
    "20ba1923e07d48a9b9a909dbb67c4184": {
     "model_module": "@jupyter-widgets/controls",
     "model_name": "HTMLModel",
     "model_module_version": "1.5.0",
     "state": {
      "_dom_classes": [],
      "_model_module": "@jupyter-widgets/controls",
      "_model_module_version": "1.5.0",
      "_model_name": "HTMLModel",
      "_view_count": null,
      "_view_module": "@jupyter-widgets/controls",
      "_view_module_version": "1.5.0",
      "_view_name": "HTMLView",
      "description": "",
      "description_tooltip": null,
      "layout": "IPY_MODEL_e257ae958b804a77b8984e2fb9112568",
      "placeholder": "​",
      "style": "IPY_MODEL_fbfaa30012b943c1a329c4e37d9a14db",
      "value": "100%"
     }
    },
    "d829d88b19f9446fa42f66cfafb2030b": {
     "model_module": "@jupyter-widgets/controls",
     "model_name": "FloatProgressModel",
     "model_module_version": "1.5.0",
     "state": {
      "_dom_classes": [],
      "_model_module": "@jupyter-widgets/controls",
      "_model_module_version": "1.5.0",
      "_model_name": "FloatProgressModel",
      "_view_count": null,
      "_view_module": "@jupyter-widgets/controls",
      "_view_module_version": "1.5.0",
      "_view_name": "ProgressView",
      "bar_style": "success",
      "description": "",
      "description_tooltip": null,
      "layout": "IPY_MODEL_8d57beb99a294ab49ccd81031e73f5a3",
      "max": 210079,
      "min": 0,
      "orientation": "horizontal",
      "style": "IPY_MODEL_95ab78c3b263469d874090acc4ecdb3f",
      "value": 210079
     }
    },
    "cd874d48f1af4d5b9bf8635aef50b6d1": {
     "model_module": "@jupyter-widgets/controls",
     "model_name": "HTMLModel",
     "model_module_version": "1.5.0",
     "state": {
      "_dom_classes": [],
      "_model_module": "@jupyter-widgets/controls",
      "_model_module_version": "1.5.0",
      "_model_name": "HTMLModel",
      "_view_count": null,
      "_view_module": "@jupyter-widgets/controls",
      "_view_module_version": "1.5.0",
      "_view_name": "HTMLView",
      "description": "",
      "description_tooltip": null,
      "layout": "IPY_MODEL_d63cc67bd6334767a0ee65f74436b7bd",
      "placeholder": "​",
      "style": "IPY_MODEL_1117f6591d6c4c4c97a690a32d8ac76a",
      "value": " 210079/210079 [03:17&lt;00:00, 1079.28it/s]"
     }
    },
    "e2c244d0013f4a4f9474e796b3ed1e39": {
     "model_module": "@jupyter-widgets/base",
     "model_name": "LayoutModel",
     "model_module_version": "1.2.0",
     "state": {
      "_model_module": "@jupyter-widgets/base",
      "_model_module_version": "1.2.0",
      "_model_name": "LayoutModel",
      "_view_count": null,
      "_view_module": "@jupyter-widgets/base",
      "_view_module_version": "1.2.0",
      "_view_name": "LayoutView",
      "align_content": null,
      "align_items": null,
      "align_self": null,
      "border": null,
      "bottom": null,
      "display": null,
      "flex": null,
      "flex_flow": null,
      "grid_area": null,
      "grid_auto_columns": null,
      "grid_auto_flow": null,
      "grid_auto_rows": null,
      "grid_column": null,
      "grid_gap": null,
      "grid_row": null,
      "grid_template_areas": null,
      "grid_template_columns": null,
      "grid_template_rows": null,
      "height": null,
      "justify_content": null,
      "justify_items": null,
      "left": null,
      "margin": null,
      "max_height": null,
      "max_width": null,
      "min_height": null,
      "min_width": null,
      "object_fit": null,
      "object_position": null,
      "order": null,
      "overflow": null,
      "overflow_x": null,
      "overflow_y": null,
      "padding": null,
      "right": null,
      "top": null,
      "visibility": null,
      "width": null
     }
    },
    "e257ae958b804a77b8984e2fb9112568": {
     "model_module": "@jupyter-widgets/base",
     "model_name": "LayoutModel",
     "model_module_version": "1.2.0",
     "state": {
      "_model_module": "@jupyter-widgets/base",
      "_model_module_version": "1.2.0",
      "_model_name": "LayoutModel",
      "_view_count": null,
      "_view_module": "@jupyter-widgets/base",
      "_view_module_version": "1.2.0",
      "_view_name": "LayoutView",
      "align_content": null,
      "align_items": null,
      "align_self": null,
      "border": null,
      "bottom": null,
      "display": null,
      "flex": null,
      "flex_flow": null,
      "grid_area": null,
      "grid_auto_columns": null,
      "grid_auto_flow": null,
      "grid_auto_rows": null,
      "grid_column": null,
      "grid_gap": null,
      "grid_row": null,
      "grid_template_areas": null,
      "grid_template_columns": null,
      "grid_template_rows": null,
      "height": null,
      "justify_content": null,
      "justify_items": null,
      "left": null,
      "margin": null,
      "max_height": null,
      "max_width": null,
      "min_height": null,
      "min_width": null,
      "object_fit": null,
      "object_position": null,
      "order": null,
      "overflow": null,
      "overflow_x": null,
      "overflow_y": null,
      "padding": null,
      "right": null,
      "top": null,
      "visibility": null,
      "width": null
     }
    },
    "fbfaa30012b943c1a329c4e37d9a14db": {
     "model_module": "@jupyter-widgets/controls",
     "model_name": "DescriptionStyleModel",
     "model_module_version": "1.5.0",
     "state": {
      "_model_module": "@jupyter-widgets/controls",
      "_model_module_version": "1.5.0",
      "_model_name": "DescriptionStyleModel",
      "_view_count": null,
      "_view_module": "@jupyter-widgets/base",
      "_view_module_version": "1.2.0",
      "_view_name": "StyleView",
      "description_width": ""
     }
    },
    "8d57beb99a294ab49ccd81031e73f5a3": {
     "model_module": "@jupyter-widgets/base",
     "model_name": "LayoutModel",
     "model_module_version": "1.2.0",
     "state": {
      "_model_module": "@jupyter-widgets/base",
      "_model_module_version": "1.2.0",
      "_model_name": "LayoutModel",
      "_view_count": null,
      "_view_module": "@jupyter-widgets/base",
      "_view_module_version": "1.2.0",
      "_view_name": "LayoutView",
      "align_content": null,
      "align_items": null,
      "align_self": null,
      "border": null,
      "bottom": null,
      "display": null,
      "flex": null,
      "flex_flow": null,
      "grid_area": null,
      "grid_auto_columns": null,
      "grid_auto_flow": null,
      "grid_auto_rows": null,
      "grid_column": null,
      "grid_gap": null,
      "grid_row": null,
      "grid_template_areas": null,
      "grid_template_columns": null,
      "grid_template_rows": null,
      "height": null,
      "justify_content": null,
      "justify_items": null,
      "left": null,
      "margin": null,
      "max_height": null,
      "max_width": null,
      "min_height": null,
      "min_width": null,
      "object_fit": null,
      "object_position": null,
      "order": null,
      "overflow": null,
      "overflow_x": null,
      "overflow_y": null,
      "padding": null,
      "right": null,
      "top": null,
      "visibility": null,
      "width": null
     }
    },
    "95ab78c3b263469d874090acc4ecdb3f": {
     "model_module": "@jupyter-widgets/controls",
     "model_name": "ProgressStyleModel",
     "model_module_version": "1.5.0",
     "state": {
      "_model_module": "@jupyter-widgets/controls",
      "_model_module_version": "1.5.0",
      "_model_name": "ProgressStyleModel",
      "_view_count": null,
      "_view_module": "@jupyter-widgets/base",
      "_view_module_version": "1.2.0",
      "_view_name": "StyleView",
      "bar_color": null,
      "description_width": ""
     }
    },
    "d63cc67bd6334767a0ee65f74436b7bd": {
     "model_module": "@jupyter-widgets/base",
     "model_name": "LayoutModel",
     "model_module_version": "1.2.0",
     "state": {
      "_model_module": "@jupyter-widgets/base",
      "_model_module_version": "1.2.0",
      "_model_name": "LayoutModel",
      "_view_count": null,
      "_view_module": "@jupyter-widgets/base",
      "_view_module_version": "1.2.0",
      "_view_name": "LayoutView",
      "align_content": null,
      "align_items": null,
      "align_self": null,
      "border": null,
      "bottom": null,
      "display": null,
      "flex": null,
      "flex_flow": null,
      "grid_area": null,
      "grid_auto_columns": null,
      "grid_auto_flow": null,
      "grid_auto_rows": null,
      "grid_column": null,
      "grid_gap": null,
      "grid_row": null,
      "grid_template_areas": null,
      "grid_template_columns": null,
      "grid_template_rows": null,
      "height": null,
      "justify_content": null,
      "justify_items": null,
      "left": null,
      "margin": null,
      "max_height": null,
      "max_width": null,
      "min_height": null,
      "min_width": null,
      "object_fit": null,
      "object_position": null,
      "order": null,
      "overflow": null,
      "overflow_x": null,
      "overflow_y": null,
      "padding": null,
      "right": null,
      "top": null,
      "visibility": null,
      "width": null
     }
    },
    "1117f6591d6c4c4c97a690a32d8ac76a": {
     "model_module": "@jupyter-widgets/controls",
     "model_name": "DescriptionStyleModel",
     "model_module_version": "1.5.0",
     "state": {
      "_model_module": "@jupyter-widgets/controls",
      "_model_module_version": "1.5.0",
      "_model_name": "DescriptionStyleModel",
      "_view_count": null,
      "_view_module": "@jupyter-widgets/base",
      "_view_module_version": "1.2.0",
      "_view_name": "StyleView",
      "description_width": ""
     }
    },
    "199fc7d804454bc887b70bf508979ccc": {
     "model_module": "@jupyter-widgets/controls",
     "model_name": "HBoxModel",
     "model_module_version": "1.5.0",
     "state": {
      "_dom_classes": [],
      "_model_module": "@jupyter-widgets/controls",
      "_model_module_version": "1.5.0",
      "_model_name": "HBoxModel",
      "_view_count": null,
      "_view_module": "@jupyter-widgets/controls",
      "_view_module_version": "1.5.0",
      "_view_name": "HBoxView",
      "box_style": "",
      "children": [
       "IPY_MODEL_31adfa9e400c4a599a6260d785980fc2",
       "IPY_MODEL_d4a220e0c37b4b4b93c64432900b5774",
       "IPY_MODEL_afe203f5f27e453e9d5709aaa4bc10c9"
      ],
      "layout": "IPY_MODEL_3439c808c3e34ac3affffb73ef2a2333"
     }
    },
    "31adfa9e400c4a599a6260d785980fc2": {
     "model_module": "@jupyter-widgets/controls",
     "model_name": "HTMLModel",
     "model_module_version": "1.5.0",
     "state": {
      "_dom_classes": [],
      "_model_module": "@jupyter-widgets/controls",
      "_model_module_version": "1.5.0",
      "_model_name": "HTMLModel",
      "_view_count": null,
      "_view_module": "@jupyter-widgets/controls",
      "_view_module_version": "1.5.0",
      "_view_name": "HTMLView",
      "description": "",
      "description_tooltip": null,
      "layout": "IPY_MODEL_01713cb784cf4d969872870362f5f783",
      "placeholder": "​",
      "style": "IPY_MODEL_9981ca32a032412bb116ac0fc56ef861",
      "value": "100%"
     }
    },
    "d4a220e0c37b4b4b93c64432900b5774": {
     "model_module": "@jupyter-widgets/controls",
     "model_name": "FloatProgressModel",
     "model_module_version": "1.5.0",
     "state": {
      "_dom_classes": [],
      "_model_module": "@jupyter-widgets/controls",
      "_model_module_version": "1.5.0",
      "_model_name": "FloatProgressModel",
      "_view_count": null,
      "_view_module": "@jupyter-widgets/controls",
      "_view_module_version": "1.5.0",
      "_view_name": "ProgressView",
      "bar_style": "success",
      "description": "",
      "description_tooltip": null,
      "layout": "IPY_MODEL_c17a3eced027447aa003288b3619e7b2",
      "max": 50,
      "min": 0,
      "orientation": "horizontal",
      "style": "IPY_MODEL_d178049c8c1144c79296bb38f1f8bc8f",
      "value": 50
     }
    },
    "afe203f5f27e453e9d5709aaa4bc10c9": {
     "model_module": "@jupyter-widgets/controls",
     "model_name": "HTMLModel",
     "model_module_version": "1.5.0",
     "state": {
      "_dom_classes": [],
      "_model_module": "@jupyter-widgets/controls",
      "_model_module_version": "1.5.0",
      "_model_name": "HTMLModel",
      "_view_count": null,
      "_view_module": "@jupyter-widgets/controls",
      "_view_module_version": "1.5.0",
      "_view_name": "HTMLView",
      "description": "",
      "description_tooltip": null,
      "layout": "IPY_MODEL_0fc4b90f40204a7caa4bfff114ff0bba",
      "placeholder": "​",
      "style": "IPY_MODEL_e7a50713f6ea47b59e1210b0e0734d27",
      "value": " 50/50 [00:15&lt;00:00,  2.78it/s, train_auc=88.21%, skipped=4.02%]"
     }
    },
    "3439c808c3e34ac3affffb73ef2a2333": {
     "model_module": "@jupyter-widgets/base",
     "model_name": "LayoutModel",
     "model_module_version": "1.2.0",
     "state": {
      "_model_module": "@jupyter-widgets/base",
      "_model_module_version": "1.2.0",
      "_model_name": "LayoutModel",
      "_view_count": null,
      "_view_module": "@jupyter-widgets/base",
      "_view_module_version": "1.2.0",
      "_view_name": "LayoutView",
      "align_content": null,
      "align_items": null,
      "align_self": null,
      "border": null,
      "bottom": null,
      "display": null,
      "flex": null,
      "flex_flow": null,
      "grid_area": null,
      "grid_auto_columns": null,
      "grid_auto_flow": null,
      "grid_auto_rows": null,
      "grid_column": null,
      "grid_gap": null,
      "grid_row": null,
      "grid_template_areas": null,
      "grid_template_columns": null,
      "grid_template_rows": null,
      "height": null,
      "justify_content": null,
      "justify_items": null,
      "left": null,
      "margin": null,
      "max_height": null,
      "max_width": null,
      "min_height": null,
      "min_width": null,
      "object_fit": null,
      "object_position": null,
      "order": null,
      "overflow": null,
      "overflow_x": null,
      "overflow_y": null,
      "padding": null,
      "right": null,
      "top": null,
      "visibility": null,
      "width": null
     }
    },
    "01713cb784cf4d969872870362f5f783": {
     "model_module": "@jupyter-widgets/base",
     "model_name": "LayoutModel",
     "model_module_version": "1.2.0",
     "state": {
      "_model_module": "@jupyter-widgets/base",
      "_model_module_version": "1.2.0",
      "_model_name": "LayoutModel",
      "_view_count": null,
      "_view_module": "@jupyter-widgets/base",
      "_view_module_version": "1.2.0",
      "_view_name": "LayoutView",
      "align_content": null,
      "align_items": null,
      "align_self": null,
      "border": null,
      "bottom": null,
      "display": null,
      "flex": null,
      "flex_flow": null,
      "grid_area": null,
      "grid_auto_columns": null,
      "grid_auto_flow": null,
      "grid_auto_rows": null,
      "grid_column": null,
      "grid_gap": null,
      "grid_row": null,
      "grid_template_areas": null,
      "grid_template_columns": null,
      "grid_template_rows": null,
      "height": null,
      "justify_content": null,
      "justify_items": null,
      "left": null,
      "margin": null,
      "max_height": null,
      "max_width": null,
      "min_height": null,
      "min_width": null,
      "object_fit": null,
      "object_position": null,
      "order": null,
      "overflow": null,
      "overflow_x": null,
      "overflow_y": null,
      "padding": null,
      "right": null,
      "top": null,
      "visibility": null,
      "width": null
     }
    },
    "9981ca32a032412bb116ac0fc56ef861": {
     "model_module": "@jupyter-widgets/controls",
     "model_name": "DescriptionStyleModel",
     "model_module_version": "1.5.0",
     "state": {
      "_model_module": "@jupyter-widgets/controls",
      "_model_module_version": "1.5.0",
      "_model_name": "DescriptionStyleModel",
      "_view_count": null,
      "_view_module": "@jupyter-widgets/base",
      "_view_module_version": "1.2.0",
      "_view_name": "StyleView",
      "description_width": ""
     }
    },
    "c17a3eced027447aa003288b3619e7b2": {
     "model_module": "@jupyter-widgets/base",
     "model_name": "LayoutModel",
     "model_module_version": "1.2.0",
     "state": {
      "_model_module": "@jupyter-widgets/base",
      "_model_module_version": "1.2.0",
      "_model_name": "LayoutModel",
      "_view_count": null,
      "_view_module": "@jupyter-widgets/base",
      "_view_module_version": "1.2.0",
      "_view_name": "LayoutView",
      "align_content": null,
      "align_items": null,
      "align_self": null,
      "border": null,
      "bottom": null,
      "display": null,
      "flex": null,
      "flex_flow": null,
      "grid_area": null,
      "grid_auto_columns": null,
      "grid_auto_flow": null,
      "grid_auto_rows": null,
      "grid_column": null,
      "grid_gap": null,
      "grid_row": null,
      "grid_template_areas": null,
      "grid_template_columns": null,
      "grid_template_rows": null,
      "height": null,
      "justify_content": null,
      "justify_items": null,
      "left": null,
      "margin": null,
      "max_height": null,
      "max_width": null,
      "min_height": null,
      "min_width": null,
      "object_fit": null,
      "object_position": null,
      "order": null,
      "overflow": null,
      "overflow_x": null,
      "overflow_y": null,
      "padding": null,
      "right": null,
      "top": null,
      "visibility": null,
      "width": null
     }
    },
    "d178049c8c1144c79296bb38f1f8bc8f": {
     "model_module": "@jupyter-widgets/controls",
     "model_name": "ProgressStyleModel",
     "model_module_version": "1.5.0",
     "state": {
      "_model_module": "@jupyter-widgets/controls",
      "_model_module_version": "1.5.0",
      "_model_name": "ProgressStyleModel",
      "_view_count": null,
      "_view_module": "@jupyter-widgets/base",
      "_view_module_version": "1.2.0",
      "_view_name": "StyleView",
      "bar_color": null,
      "description_width": ""
     }
    },
    "0fc4b90f40204a7caa4bfff114ff0bba": {
     "model_module": "@jupyter-widgets/base",
     "model_name": "LayoutModel",
     "model_module_version": "1.2.0",
     "state": {
      "_model_module": "@jupyter-widgets/base",
      "_model_module_version": "1.2.0",
      "_model_name": "LayoutModel",
      "_view_count": null,
      "_view_module": "@jupyter-widgets/base",
      "_view_module_version": "1.2.0",
      "_view_name": "LayoutView",
      "align_content": null,
      "align_items": null,
      "align_self": null,
      "border": null,
      "bottom": null,
      "display": null,
      "flex": null,
      "flex_flow": null,
      "grid_area": null,
      "grid_auto_columns": null,
      "grid_auto_flow": null,
      "grid_auto_rows": null,
      "grid_column": null,
      "grid_gap": null,
      "grid_row": null,
      "grid_template_areas": null,
      "grid_template_columns": null,
      "grid_template_rows": null,
      "height": null,
      "justify_content": null,
      "justify_items": null,
      "left": null,
      "margin": null,
      "max_height": null,
      "max_width": null,
      "min_height": null,
      "min_width": null,
      "object_fit": null,
      "object_position": null,
      "order": null,
      "overflow": null,
      "overflow_x": null,
      "overflow_y": null,
      "padding": null,
      "right": null,
      "top": null,
      "visibility": null,
      "width": null
     }
    },
    "e7a50713f6ea47b59e1210b0e0734d27": {
     "model_module": "@jupyter-widgets/controls",
     "model_name": "DescriptionStyleModel",
     "model_module_version": "1.5.0",
     "state": {
      "_model_module": "@jupyter-widgets/controls",
      "_model_module_version": "1.5.0",
      "_model_name": "DescriptionStyleModel",
      "_view_count": null,
      "_view_module": "@jupyter-widgets/base",
      "_view_module_version": "1.2.0",
      "_view_name": "StyleView",
      "description_width": ""
     }
    },
    "c72fe63f08024f57a38d1070153b756e": {
     "model_module": "@jupyter-widgets/controls",
     "model_name": "HBoxModel",
     "model_module_version": "1.5.0",
     "state": {
      "_dom_classes": [],
      "_model_module": "@jupyter-widgets/controls",
      "_model_module_version": "1.5.0",
      "_model_name": "HBoxModel",
      "_view_count": null,
      "_view_module": "@jupyter-widgets/controls",
      "_view_module_version": "1.5.0",
      "_view_name": "HBoxView",
      "box_style": "",
      "children": [
       "IPY_MODEL_06c960749b09433f91523ef49e63122b",
       "IPY_MODEL_5edd03e47de7471ab41d60d4d6abd815",
       "IPY_MODEL_a0966a4d420348a682bd7c604d3016e6"
      ],
      "layout": "IPY_MODEL_a59d30a5022e4ee3a6c314c2b25dd451"
     }
    },
    "06c960749b09433f91523ef49e63122b": {
     "model_module": "@jupyter-widgets/controls",
     "model_name": "HTMLModel",
     "model_module_version": "1.5.0",
     "state": {
      "_dom_classes": [],
      "_model_module": "@jupyter-widgets/controls",
      "_model_module_version": "1.5.0",
      "_model_name": "HTMLModel",
      "_view_count": null,
      "_view_module": "@jupyter-widgets/controls",
      "_view_module_version": "1.5.0",
      "_view_name": "HTMLView",
      "description": "",
      "description_tooltip": null,
      "layout": "IPY_MODEL_b0724c7d2c6b4e62a82aea7a4b4eb9ad",
      "placeholder": "​",
      "style": "IPY_MODEL_8a5dbc63af424c5ba3e71b20f9ab97a4",
      "value": "100%"
     }
    },
    "5edd03e47de7471ab41d60d4d6abd815": {
     "model_module": "@jupyter-widgets/controls",
     "model_name": "FloatProgressModel",
     "model_module_version": "1.5.0",
     "state": {
      "_dom_classes": [],
      "_model_module": "@jupyter-widgets/controls",
      "_model_module_version": "1.5.0",
      "_model_name": "FloatProgressModel",
      "_view_count": null,
      "_view_module": "@jupyter-widgets/controls",
      "_view_module_version": "1.5.0",
      "_view_name": "ProgressView",
      "bar_style": "success",
      "description": "",
      "description_tooltip": null,
      "layout": "IPY_MODEL_c149097a1d49478184d3fa680c78c159",
      "max": 210079,
      "min": 0,
      "orientation": "horizontal",
      "style": "IPY_MODEL_325dfcac26474febba01b461aa84028f",
      "value": 210079
     }
    },
    "a0966a4d420348a682bd7c604d3016e6": {
     "model_module": "@jupyter-widgets/controls",
     "model_name": "HTMLModel",
     "model_module_version": "1.5.0",
     "state": {
      "_dom_classes": [],
      "_model_module": "@jupyter-widgets/controls",
      "_model_module_version": "1.5.0",
      "_model_name": "HTMLModel",
      "_view_count": null,
      "_view_module": "@jupyter-widgets/controls",
      "_view_module_version": "1.5.0",
      "_view_name": "HTMLView",
      "description": "",
      "description_tooltip": null,
      "layout": "IPY_MODEL_39f5661c8a5845fc95f195b325650c94",
      "placeholder": "​",
      "style": "IPY_MODEL_a9fcaacdce2846949b3b28f318cfc383",
      "value": " 210079/210079 [03:18&lt;00:00, 983.77it/s]"
     }
    },
    "a59d30a5022e4ee3a6c314c2b25dd451": {
     "model_module": "@jupyter-widgets/base",
     "model_name": "LayoutModel",
     "model_module_version": "1.2.0",
     "state": {
      "_model_module": "@jupyter-widgets/base",
      "_model_module_version": "1.2.0",
      "_model_name": "LayoutModel",
      "_view_count": null,
      "_view_module": "@jupyter-widgets/base",
      "_view_module_version": "1.2.0",
      "_view_name": "LayoutView",
      "align_content": null,
      "align_items": null,
      "align_self": null,
      "border": null,
      "bottom": null,
      "display": null,
      "flex": null,
      "flex_flow": null,
      "grid_area": null,
      "grid_auto_columns": null,
      "grid_auto_flow": null,
      "grid_auto_rows": null,
      "grid_column": null,
      "grid_gap": null,
      "grid_row": null,
      "grid_template_areas": null,
      "grid_template_columns": null,
      "grid_template_rows": null,
      "height": null,
      "justify_content": null,
      "justify_items": null,
      "left": null,
      "margin": null,
      "max_height": null,
      "max_width": null,
      "min_height": null,
      "min_width": null,
      "object_fit": null,
      "object_position": null,
      "order": null,
      "overflow": null,
      "overflow_x": null,
      "overflow_y": null,
      "padding": null,
      "right": null,
      "top": null,
      "visibility": null,
      "width": null
     }
    },
    "b0724c7d2c6b4e62a82aea7a4b4eb9ad": {
     "model_module": "@jupyter-widgets/base",
     "model_name": "LayoutModel",
     "model_module_version": "1.2.0",
     "state": {
      "_model_module": "@jupyter-widgets/base",
      "_model_module_version": "1.2.0",
      "_model_name": "LayoutModel",
      "_view_count": null,
      "_view_module": "@jupyter-widgets/base",
      "_view_module_version": "1.2.0",
      "_view_name": "LayoutView",
      "align_content": null,
      "align_items": null,
      "align_self": null,
      "border": null,
      "bottom": null,
      "display": null,
      "flex": null,
      "flex_flow": null,
      "grid_area": null,
      "grid_auto_columns": null,
      "grid_auto_flow": null,
      "grid_auto_rows": null,
      "grid_column": null,
      "grid_gap": null,
      "grid_row": null,
      "grid_template_areas": null,
      "grid_template_columns": null,
      "grid_template_rows": null,
      "height": null,
      "justify_content": null,
      "justify_items": null,
      "left": null,
      "margin": null,
      "max_height": null,
      "max_width": null,
      "min_height": null,
      "min_width": null,
      "object_fit": null,
      "object_position": null,
      "order": null,
      "overflow": null,
      "overflow_x": null,
      "overflow_y": null,
      "padding": null,
      "right": null,
      "top": null,
      "visibility": null,
      "width": null
     }
    },
    "8a5dbc63af424c5ba3e71b20f9ab97a4": {
     "model_module": "@jupyter-widgets/controls",
     "model_name": "DescriptionStyleModel",
     "model_module_version": "1.5.0",
     "state": {
      "_model_module": "@jupyter-widgets/controls",
      "_model_module_version": "1.5.0",
      "_model_name": "DescriptionStyleModel",
      "_view_count": null,
      "_view_module": "@jupyter-widgets/base",
      "_view_module_version": "1.2.0",
      "_view_name": "StyleView",
      "description_width": ""
     }
    },
    "c149097a1d49478184d3fa680c78c159": {
     "model_module": "@jupyter-widgets/base",
     "model_name": "LayoutModel",
     "model_module_version": "1.2.0",
     "state": {
      "_model_module": "@jupyter-widgets/base",
      "_model_module_version": "1.2.0",
      "_model_name": "LayoutModel",
      "_view_count": null,
      "_view_module": "@jupyter-widgets/base",
      "_view_module_version": "1.2.0",
      "_view_name": "LayoutView",
      "align_content": null,
      "align_items": null,
      "align_self": null,
      "border": null,
      "bottom": null,
      "display": null,
      "flex": null,
      "flex_flow": null,
      "grid_area": null,
      "grid_auto_columns": null,
      "grid_auto_flow": null,
      "grid_auto_rows": null,
      "grid_column": null,
      "grid_gap": null,
      "grid_row": null,
      "grid_template_areas": null,
      "grid_template_columns": null,
      "grid_template_rows": null,
      "height": null,
      "justify_content": null,
      "justify_items": null,
      "left": null,
      "margin": null,
      "max_height": null,
      "max_width": null,
      "min_height": null,
      "min_width": null,
      "object_fit": null,
      "object_position": null,
      "order": null,
      "overflow": null,
      "overflow_x": null,
      "overflow_y": null,
      "padding": null,
      "right": null,
      "top": null,
      "visibility": null,
      "width": null
     }
    },
    "325dfcac26474febba01b461aa84028f": {
     "model_module": "@jupyter-widgets/controls",
     "model_name": "ProgressStyleModel",
     "model_module_version": "1.5.0",
     "state": {
      "_model_module": "@jupyter-widgets/controls",
      "_model_module_version": "1.5.0",
      "_model_name": "ProgressStyleModel",
      "_view_count": null,
      "_view_module": "@jupyter-widgets/base",
      "_view_module_version": "1.2.0",
      "_view_name": "StyleView",
      "bar_color": null,
      "description_width": ""
     }
    },
    "39f5661c8a5845fc95f195b325650c94": {
     "model_module": "@jupyter-widgets/base",
     "model_name": "LayoutModel",
     "model_module_version": "1.2.0",
     "state": {
      "_model_module": "@jupyter-widgets/base",
      "_model_module_version": "1.2.0",
      "_model_name": "LayoutModel",
      "_view_count": null,
      "_view_module": "@jupyter-widgets/base",
      "_view_module_version": "1.2.0",
      "_view_name": "LayoutView",
      "align_content": null,
      "align_items": null,
      "align_self": null,
      "border": null,
      "bottom": null,
      "display": null,
      "flex": null,
      "flex_flow": null,
      "grid_area": null,
      "grid_auto_columns": null,
      "grid_auto_flow": null,
      "grid_auto_rows": null,
      "grid_column": null,
      "grid_gap": null,
      "grid_row": null,
      "grid_template_areas": null,
      "grid_template_columns": null,
      "grid_template_rows": null,
      "height": null,
      "justify_content": null,
      "justify_items": null,
      "left": null,
      "margin": null,
      "max_height": null,
      "max_width": null,
      "min_height": null,
      "min_width": null,
      "object_fit": null,
      "object_position": null,
      "order": null,
      "overflow": null,
      "overflow_x": null,
      "overflow_y": null,
      "padding": null,
      "right": null,
      "top": null,
      "visibility": null,
      "width": null
     }
    },
    "a9fcaacdce2846949b3b28f318cfc383": {
     "model_module": "@jupyter-widgets/controls",
     "model_name": "DescriptionStyleModel",
     "model_module_version": "1.5.0",
     "state": {
      "_model_module": "@jupyter-widgets/controls",
      "_model_module_version": "1.5.0",
      "_model_name": "DescriptionStyleModel",
      "_view_count": null,
      "_view_module": "@jupyter-widgets/base",
      "_view_module_version": "1.2.0",
      "_view_name": "StyleView",
      "description_width": ""
     }
    },
    "7072c9b2f89c47d0b5078ee05e375e8a": {
     "model_module": "@jupyter-widgets/controls",
     "model_name": "HBoxModel",
     "model_module_version": "1.5.0",
     "state": {
      "_dom_classes": [],
      "_model_module": "@jupyter-widgets/controls",
      "_model_module_version": "1.5.0",
      "_model_name": "HBoxModel",
      "_view_count": null,
      "_view_module": "@jupyter-widgets/controls",
      "_view_module_version": "1.5.0",
      "_view_name": "HBoxView",
      "box_style": "",
      "children": [
       "IPY_MODEL_6d7750e53d5347438bc7732013bbe78f",
       "IPY_MODEL_1c63c88f1cf54c38bba18c0a82558273",
       "IPY_MODEL_f8f75080e58d4ee39e11b753603d833a"
      ],
      "layout": "IPY_MODEL_7d79003d59b64bf1bf5cf4ff42fb6d11"
     }
    },
    "6d7750e53d5347438bc7732013bbe78f": {
     "model_module": "@jupyter-widgets/controls",
     "model_name": "HTMLModel",
     "model_module_version": "1.5.0",
     "state": {
      "_dom_classes": [],
      "_model_module": "@jupyter-widgets/controls",
      "_model_module_version": "1.5.0",
      "_model_name": "HTMLModel",
      "_view_count": null,
      "_view_module": "@jupyter-widgets/controls",
      "_view_module_version": "1.5.0",
      "_view_name": "HTMLView",
      "description": "",
      "description_tooltip": null,
      "layout": "IPY_MODEL_e41a120a92bd4557b504b9bfdb2d5a45",
      "placeholder": "​",
      "style": "IPY_MODEL_263f45401a164e9791d60a6edc9697a9",
      "value": "100%"
     }
    },
    "1c63c88f1cf54c38bba18c0a82558273": {
     "model_module": "@jupyter-widgets/controls",
     "model_name": "FloatProgressModel",
     "model_module_version": "1.5.0",
     "state": {
      "_dom_classes": [],
      "_model_module": "@jupyter-widgets/controls",
      "_model_module_version": "1.5.0",
      "_model_name": "FloatProgressModel",
      "_view_count": null,
      "_view_module": "@jupyter-widgets/controls",
      "_view_module_version": "1.5.0",
      "_view_name": "ProgressView",
      "bar_style": "success",
      "description": "",
      "description_tooltip": null,
      "layout": "IPY_MODEL_7c9b4d37104e4861b1d63bb78a7bf71f",
      "max": 210079,
      "min": 0,
      "orientation": "horizontal",
      "style": "IPY_MODEL_2b4aa3e68868450bbba214658ba56e64",
      "value": 210079
     }
    },
    "f8f75080e58d4ee39e11b753603d833a": {
     "model_module": "@jupyter-widgets/controls",
     "model_name": "HTMLModel",
     "model_module_version": "1.5.0",
     "state": {
      "_dom_classes": [],
      "_model_module": "@jupyter-widgets/controls",
      "_model_module_version": "1.5.0",
      "_model_name": "HTMLModel",
      "_view_count": null,
      "_view_module": "@jupyter-widgets/controls",
      "_view_module_version": "1.5.0",
      "_view_name": "HTMLView",
      "description": "",
      "description_tooltip": null,
      "layout": "IPY_MODEL_7f64eb3dbca7483aa9ef6a30b3d735c7",
      "placeholder": "​",
      "style": "IPY_MODEL_20c1c7d503ea41aeb4621b3e456fb3a3",
      "value": " 210079/210079 [03:17&lt;00:00, 1082.92it/s]"
     }
    },
    "7d79003d59b64bf1bf5cf4ff42fb6d11": {
     "model_module": "@jupyter-widgets/base",
     "model_name": "LayoutModel",
     "model_module_version": "1.2.0",
     "state": {
      "_model_module": "@jupyter-widgets/base",
      "_model_module_version": "1.2.0",
      "_model_name": "LayoutModel",
      "_view_count": null,
      "_view_module": "@jupyter-widgets/base",
      "_view_module_version": "1.2.0",
      "_view_name": "LayoutView",
      "align_content": null,
      "align_items": null,
      "align_self": null,
      "border": null,
      "bottom": null,
      "display": null,
      "flex": null,
      "flex_flow": null,
      "grid_area": null,
      "grid_auto_columns": null,
      "grid_auto_flow": null,
      "grid_auto_rows": null,
      "grid_column": null,
      "grid_gap": null,
      "grid_row": null,
      "grid_template_areas": null,
      "grid_template_columns": null,
      "grid_template_rows": null,
      "height": null,
      "justify_content": null,
      "justify_items": null,
      "left": null,
      "margin": null,
      "max_height": null,
      "max_width": null,
      "min_height": null,
      "min_width": null,
      "object_fit": null,
      "object_position": null,
      "order": null,
      "overflow": null,
      "overflow_x": null,
      "overflow_y": null,
      "padding": null,
      "right": null,
      "top": null,
      "visibility": null,
      "width": null
     }
    },
    "e41a120a92bd4557b504b9bfdb2d5a45": {
     "model_module": "@jupyter-widgets/base",
     "model_name": "LayoutModel",
     "model_module_version": "1.2.0",
     "state": {
      "_model_module": "@jupyter-widgets/base",
      "_model_module_version": "1.2.0",
      "_model_name": "LayoutModel",
      "_view_count": null,
      "_view_module": "@jupyter-widgets/base",
      "_view_module_version": "1.2.0",
      "_view_name": "LayoutView",
      "align_content": null,
      "align_items": null,
      "align_self": null,
      "border": null,
      "bottom": null,
      "display": null,
      "flex": null,
      "flex_flow": null,
      "grid_area": null,
      "grid_auto_columns": null,
      "grid_auto_flow": null,
      "grid_auto_rows": null,
      "grid_column": null,
      "grid_gap": null,
      "grid_row": null,
      "grid_template_areas": null,
      "grid_template_columns": null,
      "grid_template_rows": null,
      "height": null,
      "justify_content": null,
      "justify_items": null,
      "left": null,
      "margin": null,
      "max_height": null,
      "max_width": null,
      "min_height": null,
      "min_width": null,
      "object_fit": null,
      "object_position": null,
      "order": null,
      "overflow": null,
      "overflow_x": null,
      "overflow_y": null,
      "padding": null,
      "right": null,
      "top": null,
      "visibility": null,
      "width": null
     }
    },
    "263f45401a164e9791d60a6edc9697a9": {
     "model_module": "@jupyter-widgets/controls",
     "model_name": "DescriptionStyleModel",
     "model_module_version": "1.5.0",
     "state": {
      "_model_module": "@jupyter-widgets/controls",
      "_model_module_version": "1.5.0",
      "_model_name": "DescriptionStyleModel",
      "_view_count": null,
      "_view_module": "@jupyter-widgets/base",
      "_view_module_version": "1.2.0",
      "_view_name": "StyleView",
      "description_width": ""
     }
    },
    "7c9b4d37104e4861b1d63bb78a7bf71f": {
     "model_module": "@jupyter-widgets/base",
     "model_name": "LayoutModel",
     "model_module_version": "1.2.0",
     "state": {
      "_model_module": "@jupyter-widgets/base",
      "_model_module_version": "1.2.0",
      "_model_name": "LayoutModel",
      "_view_count": null,
      "_view_module": "@jupyter-widgets/base",
      "_view_module_version": "1.2.0",
      "_view_name": "LayoutView",
      "align_content": null,
      "align_items": null,
      "align_self": null,
      "border": null,
      "bottom": null,
      "display": null,
      "flex": null,
      "flex_flow": null,
      "grid_area": null,
      "grid_auto_columns": null,
      "grid_auto_flow": null,
      "grid_auto_rows": null,
      "grid_column": null,
      "grid_gap": null,
      "grid_row": null,
      "grid_template_areas": null,
      "grid_template_columns": null,
      "grid_template_rows": null,
      "height": null,
      "justify_content": null,
      "justify_items": null,
      "left": null,
      "margin": null,
      "max_height": null,
      "max_width": null,
      "min_height": null,
      "min_width": null,
      "object_fit": null,
      "object_position": null,
      "order": null,
      "overflow": null,
      "overflow_x": null,
      "overflow_y": null,
      "padding": null,
      "right": null,
      "top": null,
      "visibility": null,
      "width": null
     }
    },
    "2b4aa3e68868450bbba214658ba56e64": {
     "model_module": "@jupyter-widgets/controls",
     "model_name": "ProgressStyleModel",
     "model_module_version": "1.5.0",
     "state": {
      "_model_module": "@jupyter-widgets/controls",
      "_model_module_version": "1.5.0",
      "_model_name": "ProgressStyleModel",
      "_view_count": null,
      "_view_module": "@jupyter-widgets/base",
      "_view_module_version": "1.2.0",
      "_view_name": "StyleView",
      "bar_color": null,
      "description_width": ""
     }
    },
    "7f64eb3dbca7483aa9ef6a30b3d735c7": {
     "model_module": "@jupyter-widgets/base",
     "model_name": "LayoutModel",
     "model_module_version": "1.2.0",
     "state": {
      "_model_module": "@jupyter-widgets/base",
      "_model_module_version": "1.2.0",
      "_model_name": "LayoutModel",
      "_view_count": null,
      "_view_module": "@jupyter-widgets/base",
      "_view_module_version": "1.2.0",
      "_view_name": "LayoutView",
      "align_content": null,
      "align_items": null,
      "align_self": null,
      "border": null,
      "bottom": null,
      "display": null,
      "flex": null,
      "flex_flow": null,
      "grid_area": null,
      "grid_auto_columns": null,
      "grid_auto_flow": null,
      "grid_auto_rows": null,
      "grid_column": null,
      "grid_gap": null,
      "grid_row": null,
      "grid_template_areas": null,
      "grid_template_columns": null,
      "grid_template_rows": null,
      "height": null,
      "justify_content": null,
      "justify_items": null,
      "left": null,
      "margin": null,
      "max_height": null,
      "max_width": null,
      "min_height": null,
      "min_width": null,
      "object_fit": null,
      "object_position": null,
      "order": null,
      "overflow": null,
      "overflow_x": null,
      "overflow_y": null,
      "padding": null,
      "right": null,
      "top": null,
      "visibility": null,
      "width": null
     }
    },
    "20c1c7d503ea41aeb4621b3e456fb3a3": {
     "model_module": "@jupyter-widgets/controls",
     "model_name": "DescriptionStyleModel",
     "model_module_version": "1.5.0",
     "state": {
      "_model_module": "@jupyter-widgets/controls",
      "_model_module_version": "1.5.0",
      "_model_name": "DescriptionStyleModel",
      "_view_count": null,
      "_view_module": "@jupyter-widgets/base",
      "_view_module_version": "1.2.0",
      "_view_name": "StyleView",
      "description_width": ""
     }
    },
    "e083173b7a0b4ea2888b1bbb1adecdf2": {
     "model_module": "@jupyter-widgets/controls",
     "model_name": "HBoxModel",
     "model_module_version": "1.5.0",
     "state": {
      "_dom_classes": [],
      "_model_module": "@jupyter-widgets/controls",
      "_model_module_version": "1.5.0",
      "_model_name": "HBoxModel",
      "_view_count": null,
      "_view_module": "@jupyter-widgets/controls",
      "_view_module_version": "1.5.0",
      "_view_name": "HBoxView",
      "box_style": "",
      "children": [
       "IPY_MODEL_63b76fee94a74d2a826a6fc314318fd2",
       "IPY_MODEL_95d83736537b446b92d8cc79fdb6a9c0",
       "IPY_MODEL_3da0318757464afe92ed5cfdb4e1b434"
      ],
      "layout": "IPY_MODEL_17dbabdcaeec41d781b89d63d58b80fa"
     }
    },
    "63b76fee94a74d2a826a6fc314318fd2": {
     "model_module": "@jupyter-widgets/controls",
     "model_name": "HTMLModel",
     "model_module_version": "1.5.0",
     "state": {
      "_dom_classes": [],
      "_model_module": "@jupyter-widgets/controls",
      "_model_module_version": "1.5.0",
      "_model_name": "HTMLModel",
      "_view_count": null,
      "_view_module": "@jupyter-widgets/controls",
      "_view_module_version": "1.5.0",
      "_view_name": "HTMLView",
      "description": "",
      "description_tooltip": null,
      "layout": "IPY_MODEL_2f85d29c4be842089615bd45675351e0",
      "placeholder": "​",
      "style": "IPY_MODEL_bca7b77d6f3940dcba5e95538294eac0",
      "value": "100%"
     }
    },
    "95d83736537b446b92d8cc79fdb6a9c0": {
     "model_module": "@jupyter-widgets/controls",
     "model_name": "FloatProgressModel",
     "model_module_version": "1.5.0",
     "state": {
      "_dom_classes": [],
      "_model_module": "@jupyter-widgets/controls",
      "_model_module_version": "1.5.0",
      "_model_name": "FloatProgressModel",
      "_view_count": null,
      "_view_module": "@jupyter-widgets/controls",
      "_view_module_version": "1.5.0",
      "_view_name": "ProgressView",
      "bar_style": "success",
      "description": "",
      "description_tooltip": null,
      "layout": "IPY_MODEL_39f962f92abb4d8fbf11d49224062b8b",
      "max": 210079,
      "min": 0,
      "orientation": "horizontal",
      "style": "IPY_MODEL_5373bb891a53478ab6eb0ce7d6f503a7",
      "value": 210079
     }
    },
    "3da0318757464afe92ed5cfdb4e1b434": {
     "model_module": "@jupyter-widgets/controls",
     "model_name": "HTMLModel",
     "model_module_version": "1.5.0",
     "state": {
      "_dom_classes": [],
      "_model_module": "@jupyter-widgets/controls",
      "_model_module_version": "1.5.0",
      "_model_name": "HTMLModel",
      "_view_count": null,
      "_view_module": "@jupyter-widgets/controls",
      "_view_module_version": "1.5.0",
      "_view_name": "HTMLView",
      "description": "",
      "description_tooltip": null,
      "layout": "IPY_MODEL_6a2b123fc2504d1bb8d0595af4a3f413",
      "placeholder": "​",
      "style": "IPY_MODEL_37ef48ad4d7a4183b06b7570af468dc2",
      "value": " 210079/210079 [03:16&lt;00:00, 1038.86it/s]"
     }
    },
    "17dbabdcaeec41d781b89d63d58b80fa": {
     "model_module": "@jupyter-widgets/base",
     "model_name": "LayoutModel",
     "model_module_version": "1.2.0",
     "state": {
      "_model_module": "@jupyter-widgets/base",
      "_model_module_version": "1.2.0",
      "_model_name": "LayoutModel",
      "_view_count": null,
      "_view_module": "@jupyter-widgets/base",
      "_view_module_version": "1.2.0",
      "_view_name": "LayoutView",
      "align_content": null,
      "align_items": null,
      "align_self": null,
      "border": null,
      "bottom": null,
      "display": null,
      "flex": null,
      "flex_flow": null,
      "grid_area": null,
      "grid_auto_columns": null,
      "grid_auto_flow": null,
      "grid_auto_rows": null,
      "grid_column": null,
      "grid_gap": null,
      "grid_row": null,
      "grid_template_areas": null,
      "grid_template_columns": null,
      "grid_template_rows": null,
      "height": null,
      "justify_content": null,
      "justify_items": null,
      "left": null,
      "margin": null,
      "max_height": null,
      "max_width": null,
      "min_height": null,
      "min_width": null,
      "object_fit": null,
      "object_position": null,
      "order": null,
      "overflow": null,
      "overflow_x": null,
      "overflow_y": null,
      "padding": null,
      "right": null,
      "top": null,
      "visibility": null,
      "width": null
     }
    },
    "2f85d29c4be842089615bd45675351e0": {
     "model_module": "@jupyter-widgets/base",
     "model_name": "LayoutModel",
     "model_module_version": "1.2.0",
     "state": {
      "_model_module": "@jupyter-widgets/base",
      "_model_module_version": "1.2.0",
      "_model_name": "LayoutModel",
      "_view_count": null,
      "_view_module": "@jupyter-widgets/base",
      "_view_module_version": "1.2.0",
      "_view_name": "LayoutView",
      "align_content": null,
      "align_items": null,
      "align_self": null,
      "border": null,
      "bottom": null,
      "display": null,
      "flex": null,
      "flex_flow": null,
      "grid_area": null,
      "grid_auto_columns": null,
      "grid_auto_flow": null,
      "grid_auto_rows": null,
      "grid_column": null,
      "grid_gap": null,
      "grid_row": null,
      "grid_template_areas": null,
      "grid_template_columns": null,
      "grid_template_rows": null,
      "height": null,
      "justify_content": null,
      "justify_items": null,
      "left": null,
      "margin": null,
      "max_height": null,
      "max_width": null,
      "min_height": null,
      "min_width": null,
      "object_fit": null,
      "object_position": null,
      "order": null,
      "overflow": null,
      "overflow_x": null,
      "overflow_y": null,
      "padding": null,
      "right": null,
      "top": null,
      "visibility": null,
      "width": null
     }
    },
    "bca7b77d6f3940dcba5e95538294eac0": {
     "model_module": "@jupyter-widgets/controls",
     "model_name": "DescriptionStyleModel",
     "model_module_version": "1.5.0",
     "state": {
      "_model_module": "@jupyter-widgets/controls",
      "_model_module_version": "1.5.0",
      "_model_name": "DescriptionStyleModel",
      "_view_count": null,
      "_view_module": "@jupyter-widgets/base",
      "_view_module_version": "1.2.0",
      "_view_name": "StyleView",
      "description_width": ""
     }
    },
    "39f962f92abb4d8fbf11d49224062b8b": {
     "model_module": "@jupyter-widgets/base",
     "model_name": "LayoutModel",
     "model_module_version": "1.2.0",
     "state": {
      "_model_module": "@jupyter-widgets/base",
      "_model_module_version": "1.2.0",
      "_model_name": "LayoutModel",
      "_view_count": null,
      "_view_module": "@jupyter-widgets/base",
      "_view_module_version": "1.2.0",
      "_view_name": "LayoutView",
      "align_content": null,
      "align_items": null,
      "align_self": null,
      "border": null,
      "bottom": null,
      "display": null,
      "flex": null,
      "flex_flow": null,
      "grid_area": null,
      "grid_auto_columns": null,
      "grid_auto_flow": null,
      "grid_auto_rows": null,
      "grid_column": null,
      "grid_gap": null,
      "grid_row": null,
      "grid_template_areas": null,
      "grid_template_columns": null,
      "grid_template_rows": null,
      "height": null,
      "justify_content": null,
      "justify_items": null,
      "left": null,
      "margin": null,
      "max_height": null,
      "max_width": null,
      "min_height": null,
      "min_width": null,
      "object_fit": null,
      "object_position": null,
      "order": null,
      "overflow": null,
      "overflow_x": null,
      "overflow_y": null,
      "padding": null,
      "right": null,
      "top": null,
      "visibility": null,
      "width": null
     }
    },
    "5373bb891a53478ab6eb0ce7d6f503a7": {
     "model_module": "@jupyter-widgets/controls",
     "model_name": "ProgressStyleModel",
     "model_module_version": "1.5.0",
     "state": {
      "_model_module": "@jupyter-widgets/controls",
      "_model_module_version": "1.5.0",
      "_model_name": "ProgressStyleModel",
      "_view_count": null,
      "_view_module": "@jupyter-widgets/base",
      "_view_module_version": "1.2.0",
      "_view_name": "StyleView",
      "bar_color": null,
      "description_width": ""
     }
    },
    "6a2b123fc2504d1bb8d0595af4a3f413": {
     "model_module": "@jupyter-widgets/base",
     "model_name": "LayoutModel",
     "model_module_version": "1.2.0",
     "state": {
      "_model_module": "@jupyter-widgets/base",
      "_model_module_version": "1.2.0",
      "_model_name": "LayoutModel",
      "_view_count": null,
      "_view_module": "@jupyter-widgets/base",
      "_view_module_version": "1.2.0",
      "_view_name": "LayoutView",
      "align_content": null,
      "align_items": null,
      "align_self": null,
      "border": null,
      "bottom": null,
      "display": null,
      "flex": null,
      "flex_flow": null,
      "grid_area": null,
      "grid_auto_columns": null,
      "grid_auto_flow": null,
      "grid_auto_rows": null,
      "grid_column": null,
      "grid_gap": null,
      "grid_row": null,
      "grid_template_areas": null,
      "grid_template_columns": null,
      "grid_template_rows": null,
      "height": null,
      "justify_content": null,
      "justify_items": null,
      "left": null,
      "margin": null,
      "max_height": null,
      "max_width": null,
      "min_height": null,
      "min_width": null,
      "object_fit": null,
      "object_position": null,
      "order": null,
      "overflow": null,
      "overflow_x": null,
      "overflow_y": null,
      "padding": null,
      "right": null,
      "top": null,
      "visibility": null,
      "width": null
     }
    },
    "37ef48ad4d7a4183b06b7570af468dc2": {
     "model_module": "@jupyter-widgets/controls",
     "model_name": "DescriptionStyleModel",
     "model_module_version": "1.5.0",
     "state": {
      "_model_module": "@jupyter-widgets/controls",
      "_model_module_version": "1.5.0",
      "_model_name": "DescriptionStyleModel",
      "_view_count": null,
      "_view_module": "@jupyter-widgets/base",
      "_view_module_version": "1.2.0",
      "_view_name": "StyleView",
      "description_width": ""
     }
    }
   }
  }
 },
 "cells": [
  {
   "metadata": {
    "id": "_9DBJt5gwN7o"
   },
   "cell_type": "markdown",
   "source": [
    "## Introduction\n",
    "\n",
    "Réalisez une application de recommandation de contenu projetc OC_IA_P10_Recommandation_contenu. Le projet consiste à créer une application qui recommande 5 articles à un utilisateur en fonction de ses interactions passées avec d'autres articles."
   ]
  },
  {
   "metadata": {},
   "cell_type": "markdown",
   "source": [
    "My Content, une jeune start-up, se lance dans la création d'une application de recommandation de contenus pour encourager la lecture. En tant que CTO et co-fondateur de cette entreprise, nous sommes en plein développement de notre premier MVP. Pour cela, nous utiliserons des données en ligne, car nous n'avons pas encore de données utilisateurs.  \n",
    "Notre objectif principal est de fournir à chaque utilisateur une sélection de cinq articles personnalisés.  \n",
    "Notre mission comprend :\n",
    "* le développement d'un système de recommandation avec Azure Functions,\n",
    "* la création d'une interface utilisateur conviviale,\n",
    "* le stockage des scripts sur GitHub,\n",
    "* la réflexion sur l'architecture technique et le système de recommandation.  \n",
    "\n",
    "Nous devrons également envisager une architecture évolutive pour intégrer de nouveaux utilisateurs et articles."
   ]
  },
  {
   "metadata": {
    "id": "HeVFdERWwKBo"
   },
   "cell_type": "markdown",
   "source": "### Organisation du projet et architecture technique"
  },
  {
   "metadata": {},
   "cell_type": "markdown",
   "source": [
    "### Trois dépôts GitHub  :\n",
    "\n",
    "1. **OC_IA_P10_Recommandation_contenu**  \n",
    "   - **Lien GitHub** : [https://github.com/preudh/OC_IA_P10_Recommandation_contenu](https://github.com/preudh/OC_IA_P10_Recommandation_contenu)  \n",
    "   - **Rôle** : c’est ici que je développe et teste mon Notebook (Jupyter). J’y explore différentes méthodes de recommandation, j’y entraîne mes modèles (notamment ALS), et je documente mes résultats. Il fait office de “laboratoire” de recherche et développement.\n",
    "\n",
    "2. **OC_IA_P10_RecoFunction**  \n",
    "   - **Lien GitHub** : [https://github.com/preudh/OC_IA_P10_RecoFunction](https://github.com/preudh/OC_IA_P10_RecoFunction)  \n",
    "   - **Rôle** : ce dépôt contient mon projet **Azure Functions**, qui constitue le “back-end serverless”. J’y charge le modèle entraîné ainsi que les fichiers `.npz` (matrices de popularité, paramètres ALS, etc.), je récupère le CSV des interactions (via Azure Blob Storage) et j’expose une _API_ de recommandation. Cette API est déclenchée à la demande lorsqu’un utilisateur (ou l’appli Streamlit) envoie une requête.\n",
    "\n",
    "3. **OC_IA_P10_STREAMLIT_APP**  \n",
    "   - **Lien de l’app déployée** : [https://p10-streamlit-app-2025.azurewebsites.net/](https://p10-streamlit-app-2025.azurewebsites.net/)  \n",
    "   - **Rôle** : c’est l’interface _Streamlit_, qui sert de “front-end” à mon système. Grâce à ce dépôt, je propose une interface conviviale pour sélectionner un `user_id`, puis effectuer un appel HTTP à la fonction Azure (hébergée dans **OC_IA_P10_RecoFunction**) afin de récupérer et d’afficher les articles recommandés.\n",
    "   - **Lien GitHub** : https://github.com/preudh/OC_IA_P10_streamlit_app\n",
    "\n",
    "---\n",
    "\n",
    "### Comment s’articule l’architecture serverless ?\n",
    "\n",
    "- **Azure Functions** me permet de déployer une API sans gérer de serveur complet. Je ne suis facturé qu’à l’usage, et Azure s’occupe automatiquement de la montée en charge (scaling). Dans le code de ce dépôt, j’ai une fonction (`__init__.py`) qui se charge de charger le modèle (ALS) et de retourner les recommandations.  \n",
    "- **Azure Blob Storage** stocke mes fichiers essentiels (CSV d’interactions, matrices, etc.). Ainsi, chaque composant (la fonction Azure, l’app Streamlit) peut récupérer les données en temps réel à partir du même conteneur.  \n",
    "- **Application Streamlit** : l’utilisateur final n’a accès qu’à l’interface Streamlit. Quand il clique sur “Obtenir des recommandations”, l’app envoie un appel REST à l’API hébergée par Azure Functions. L’API exécute le moteur de recommandation, puis renvoie la liste des articles.\n",
    "\n",
    "En résumé :\n",
    "\n",
    "- **OC_IA_P10_Recommandation_contenu** : mon Notebook de test et de recherche pour trouver et entraîner le meilleur modèle.  \n",
    "- **OC_IA_P10_RecoFunction** : la fonction Azure qui sert d’API, interagit avec le Blob Storage et renvoie les recommandations.  \n",
    "- **OC_IA_P10_STREAMLIT_APP** : l’interface utilisateur développée avec Streamlit pour faciliter l’accès à mon moteur de recommandation.\n",
    "\n",
    "Cette séparation clarifie la logique :  \n",
    "- un dépôt pour la R &D (Notebook),  \n",
    "- un pour la logique de calcul et d’API (Azure Functions),  \n",
    "- un pour l’interface (Streamlit).\n"
   ]
  },
  {
   "cell_type": "markdown",
   "source": [
    "## Table des matières"
   ],
   "metadata": {
    "id": "j8NfYMDhiYr_"
   }
  },
  {
   "cell_type": "markdown",
   "source": [
    "1. [Présentation générale du jeu de données](#presentation)  \n",
    "    1.1 [Chargement des données](#presentation-data)  \n",
    "    1.2 [Inspection des données](#presentation-inspection)   \n",
    "2. [Analyse des données](#analyse)  \n",
    "    2.1 [Valeurs aberrantes](#analyse-outliers)  \n",
    "    2.2 [Analyse univariée](#analyse-uni)   \n",
    "    2.3 [Analyse multivariée](#analyse-multi)\n",
    "3. [Préparation du jeu de données d'étude](#preparation)  \n",
    "    3.1 [Fusion des données](#preparation-fusion)  \n",
    "    3.2 [Élaboration d'un indicateur de popularité pour des articles](#preparation-score)   \n",
    "    3.3 [Séparation du jeu de donnée](#preparation-split)   \n",
    "4. [Modélisation du système de recommandation](#modelisation)  \n",
    "    4.1 [Recommandation collaborative](#modelisation-colabo)  \n",
    "    4.2 [Recommandation basée sur le contenu](#modelisation-content)  \n",
    "    4.3 [Recommandations pour les nouveaux utilisateurs](#modelisation-new)  \n",
    "    4.4 [Recommandation collaborative (bibliothèque Surprise)](#modelisation-surprise)   \n",
    "5. [Mise à jour des bases de données](#updatedata)  \n",
    "    5.1 [Gestion des articles](#update-articles)  \n",
    "    5.2 [Gestion des utilisateurs](#update-users)   \n",
    "6. [Synthèse](#synthese)  "
   ],
   "metadata": {
    "id": "koEaKMp4iacX"
   }
  },
  {
   "metadata": {
    "id": "bupLNlgadnLO"
   },
   "cell_type": "markdown",
   "source": "# Importation des librairies Python spécialisées :"
  },
  {
   "metadata": {},
   "cell_type": "code",
   "source": "print(\"Test du serveur Jupyter\")\n",
   "outputs": [],
   "execution_count": null
  },
  {
   "metadata": {
    "id": "uOnjSGRcdo0X"
   },
   "cell_type": "code",
   "source": [
    "import numpy as np\n",
    "import pandas as pd\n",
    "import matplotlib.pyplot as plt\n",
    "import seaborn as sns\n",
    "import plotly.graph_objects as go\n",
    "import plotly.express as px\n",
    "import pickle\n",
    "import os, zipfile, time\n",
    "import warnings\n",
    "import random\n",
    "from sklearn.model_selection import train_test_split as sk_train_test_split\n",
    "from scipy.sparse import csr_matrix, save_npz"
   ],
   "outputs": [],
   "execution_count": null
  },
  {
   "metadata": {
    "colab": {
     "base_uri": "https://localhost:8080/"
    },
    "id": "NFm0jhFZbBW5",
    "outputId": "d422dc90-aafe-4d7f-bce4-22e8ae2a0725"
   },
   "cell_type": "code",
   "source": [
    "from surprise import SVDpp\n",
    "from surprise import Dataset\n",
    "from surprise import Reader\n",
    "from surprise import SVD\n",
    "from surprise import KNNBasic\n",
    "from surprise import CoClustering\n",
    "from surprise import BaselineOnly\n",
    "from surprise import accuracy\n",
    "from surprise.model_selection import train_test_split\n",
    "from surprise.model_selection import cross_validate\n",
    "\n",
    "from implicit.als import AlternatingLeastSquares\n",
    "from implicit.bpr import BayesianPersonalizedRanking\n",
    "from implicit.lmf import LogisticMatrixFactorization\n",
    "from implicit.evaluation import precision_at_k, mean_average_precision_at_k, ndcg_at_k\n",
    "\n",
    "from sklearn.metrics.pairwise import cosine_similarity"
   ],
   "outputs": [],
   "execution_count": null
  },
  {
   "metadata": {
    "id": "l6kn-roSdsyj"
   },
   "cell_type": "markdown",
   "source": [
    "# Définitions des fonctions :\n",
    "- Les fonctions ont été regroupées par catégories pour faciliter leur utilisation afin de rendre le code plus lisible et plus facile à maintenir. Les fonctions sont donc centralisées ci-après."
   ]
  },
  {
   "metadata": {
    "id": "_fSuPD5VPyKi"
   },
   "cell_type": "markdown",
   "source": "## Cleaning"
  },
  {
   "metadata": {
    "id": "RFCVtLk7dvGn"
   },
   "cell_type": "code",
   "source": [
    "def convert_columns_to_integer(data, column_names):\n",
    "    \"\"\"\n",
    "    Convert specified columns in a DataFrame to integer type.\n",
    "\n",
    "    Parameters\n",
    "    ----------\n",
    "    data (pd.DataFrame): The DataFrame containing the data.\n",
    "    column_names (list): A list of column names to be converted to integer type.\n",
    "\n",
    "    Returns\n",
    "    -------\n",
    "    pd.DataFrame: A new DataFrame with the specified columns converted to integer type.\n",
    "    \"\"\"\n",
    "    # Make a copy of the DataFrame to avoid modifying the original\n",
    "    data_copy = data.copy()\n",
    "\n",
    "    # Convert specified columns to integer type\n",
    "    for column_name in column_names:\n",
    "        data_copy[column_name] = data_copy[column_name].astype(int)\n",
    "\n",
    "    return data_copy"
   ],
   "outputs": [],
   "execution_count": null
  },
  {
   "metadata": {
    "id": "Ko1urcC21NxN"
   },
   "cell_type": "code",
   "source": [
    "def convert_columns_to_categorical(data, column_names):\n",
    "    \"\"\"\n",
    "    Convert specified columns in a DataFrame to categorical type.\n",
    "\n",
    "    Parameters\n",
    "    ----------\n",
    "    data (pd.DataFrame): The DataFrame containing the data.\n",
    "    column_names (list): A list of column names to be converted to categorical type.\n",
    "\n",
    "    Returns\n",
    "    -------\n",
    "    pd.DataFrame: A new DataFrame with the specified columns converted to categorical type.\n",
    "    \"\"\"\n",
    "    # Make a copy of the DataFrame to avoid modifying the original\n",
    "    data_copy = data.copy()\n",
    "\n",
    "    # Convert specified columns to categorical type\n",
    "    for column_name in column_names:\n",
    "        data_copy[column_name] = data_copy[column_name].astype('category')\n",
    "\n",
    "    return data_copy"
   ],
   "outputs": [],
   "execution_count": null
  },
  {
   "metadata": {
    "id": "sbZqk-nYEB64"
   },
   "cell_type": "markdown",
   "source": "## Evaluation"
  },
  {
   "metadata": {},
   "cell_type": "code",
   "source": [
    "def add_evaluation_scores(model_name, predictions, df):\n",
    "    \"\"\"\n",
    "    Add evaluation scores to the DataFrame.\n",
    "\n",
    "    Parameters\n",
    "    ----------\n",
    "    model_name: str\n",
    "        Name of the model.\n",
    "    predictions: list\n",
    "        List of model predictions.\n",
    "    df: pd.DataFrame\n",
    "        DataFrame to which evaluation results are appended.\n",
    "\n",
    "    Returns\n",
    "    -------\n",
    "    pd.DataFrame\n",
    "        Updated DataFrame with new evaluation scores.\n",
    "    \"\"\"\n",
    "    from surprise import accuracy\n",
    "\n",
    "    rmse = accuracy.rmse(predictions, verbose=False)\n",
    "    mse = accuracy.mse(predictions, verbose=False)\n",
    "    mae = accuracy.mae(predictions, verbose=False)\n",
    "\n",
    "    # Create a new DataFrame with the results\n",
    "    new_row = pd.DataFrame([{ 'model': model_name, 'rmse': rmse, 'mse': mse, 'mae': mae }])\n",
    "\n",
    "    # Use pd.concat() instead of append()\n",
    "    df = pd.concat([df, new_row], ignore_index=True)\n",
    "    \n",
    "    return df\n"
   ],
   "outputs": [],
   "execution_count": null
  },
  {
   "metadata": {},
   "cell_type": "code",
   "source": [
    "import pandas as pd\n",
    "\n",
    "def evaluate_model_and_append_to_df(model, csr_train, csr_test, model_name, df_cb_evaluation_results):\n",
    "    \"\"\"\n",
    "    Evaluate a model's performance and append the results to a DataFrame.\n",
    "\n",
    "    Parameters\n",
    "    -----------\n",
    "    model: object\n",
    "        The model to be evaluated.\n",
    "    csr_train: sparse matrix\n",
    "        The training data in compressed sparse row format.\n",
    "    csr_test: sparse matrix\n",
    "        The test data in compressed sparse row format.\n",
    "    model_name: str\n",
    "        The name of the model.\n",
    "    df_cb_evaluation_results: pd.DataFrame\n",
    "        The DataFrame to which evaluation results will be appended.\n",
    "\n",
    "    Returns\n",
    "    --------\n",
    "    df_cb_evaluation_results\n",
    "    \"\"\"\n",
    "    precision = round(precision_at_k(model, csr_train, csr_test, K=5, show_progress=True, num_threads=1), 5)\n",
    "    map_score = round(mean_average_precision_at_k(model, csr_train, csr_test, K=5, show_progress=True, num_threads=1), 5)\n",
    "    ndcg = round(ndcg_at_k(model, csr_train, csr_test, K=5, show_progress=True, num_threads=1), 5)\n",
    "\n",
    "    # Create a new DataFrame with the results\n",
    "    new_row = pd.DataFrame([{\n",
    "        'model': model_name,\n",
    "        'precision': precision,\n",
    "        'map': map_score,\n",
    "        'ndcg': ndcg,\n",
    "    }])\n",
    "\n",
    "    # Use pd.concat() instead of append() for better compatibility\n",
    "    df_cb_evaluation_results = pd.concat([df_cb_evaluation_results, new_row], ignore_index=True)\n",
    "\n",
    "    return df_cb_evaluation_results"
   ],
   "outputs": [],
   "execution_count": null
  },
  {
   "metadata": {
    "id": "QfxsLMu2T5-4"
   },
   "cell_type": "code",
   "source": [
    "def calculate_user_recommendation_similarity(model, df, csr_train, num_recommendations=5, max_users=None):\n",
    "    \"\"\"\n",
    "    Calculate user-article recommendation similarity using embeddings and cosine similarity.\n",
    "\n",
    "    Parameters\n",
    "    -----------\n",
    "    model: object\n",
    "        The collaborative filtering model used for making recommendations.\n",
    "    df: pandas.DataFrame\n",
    "        The DataFrame containing user-article interaction data.\n",
    "    csr_train: scipy.sparse.csr.csr_matrix\n",
    "        The training set in CSR format.\n",
    "    num_recommendations: int, optional\n",
    "        The number of article recommendations to generate for each user (default is 5).\n",
    "    max_users: int, optional\n",
    "        Maximum number of users to consider for recommendation calculation (default is None).\n",
    "\n",
    "    Returns\n",
    "    --------\n",
    "    float\n",
    "        Overall mean cosine similarity between viewed articles and recommended articles.\n",
    "    pandas.DataFrame\n",
    "        DataFrame with user recommendations and their cosine similarity scores.\n",
    "    \"\"\"\n",
    "    # For each user, get the IDs of the viewed articles\n",
    "    user_articles = df.groupby('user_id')['click_article_id'].apply(list).reset_index(name='viewed_articles')\n",
    "\n",
    "    # Remove users with only one article viewed\n",
    "    user_articles = user_articles[user_articles.viewed_articles.map(len) > 1]\n",
    "\n",
    "    # Crop selection if specified\n",
    "    if max_users is not None:\n",
    "        user_articles = user_articles[:max_users]\n",
    "\n",
    "    # For each user, compute the mean embedding vectors of the viewed articles\n",
    "    user_articles['viewed_mean_embedding'] = user_articles.apply(\n",
    "        lambda x: articles_embeddings[np.array(x[1])].mean(axis=0), axis=1\n",
    "    )\n",
    "\n",
    "    # For each user, make recommendations\n",
    "    user_ids = user_articles['user_id'].values\n",
    "    recommended_article_ids, scores = model.recommend(user_ids, csr_train[user_ids], N=num_recommendations, filter_already_liked_items=True)\n",
    "    user_articles['recommended_articles'] = list(recommended_article_ids)\n",
    "\n",
    "    # For each user, compute the mean embedding vectors of the recommended articles\n",
    "    user_articles['recommended_mean_embedding'] = user_articles['recommended_articles'].apply(\n",
    "        lambda x: articles_embeddings[np.array(x)].mean(axis=0)\n",
    "    )\n",
    "\n",
    "    # For each user, compute the cosine similarity between the mean_embedding and the pred_mean_embedding\n",
    "    user_articles['cos_similarity'] = user_articles.apply(\n",
    "        lambda x: cosine_similarity(x['viewed_mean_embedding'].reshape(1, -1), x['recommended_mean_embedding'].reshape(1, -1))[0][0],\n",
    "        axis=1\n",
    "    )\n",
    "\n",
    "    # Reset the index column\n",
    "    user_articles = user_articles.set_index('user_id')\n",
    "\n",
    "    # Compute & return the overall mean cosine similarity\n",
    "    return user_articles['cos_similarity'].mean(), user_articles"
   ],
   "outputs": [],
   "execution_count": null
  },
  {
   "metadata": {
    "id": "y41MAqkOi-Bc"
   },
   "cell_type": "markdown",
   "source": "## Filter"
  },
  {
   "metadata": {
    "id": "Le5mRi0hi_3U"
   },
   "cell_type": "code",
   "source": [
    "def get_columns_by_type(df, dtype):\n",
    "    \"\"\"\n",
    "    This function takes a Pandas dataframe and a data type as input,\n",
    "    and returns the names of the columns that have the specified data type.\n",
    "    \"\"\"\n",
    "    return df.select_dtypes(include=[dtype]).columns.tolist()"
   ],
   "outputs": [],
   "execution_count": null
  },
  {
   "metadata": {
    "id": "hEYMtIELYRnI"
   },
   "cell_type": "code",
   "source": [
    "def get_most_recent_article_per_user(df):\n",
    "    \"\"\"\n",
    "    Get the most recent article clicked by each user.\n",
    "\n",
    "    Parameters\n",
    "    ----------\n",
    "    df : pd.DataFrame\n",
    "        The DataFrame containing user-article interaction data.\n",
    "\n",
    "    Returns\n",
    "    -------\n",
    "    pd.DataFrame\n",
    "        A DataFrame with 'user_id' and 'article_id' columns representing the most recent article clicked by each user.\n",
    "    \"\"\"\n",
    "    most_recent_article_per_user = df.groupby('user_id').click_timestamp.max().reset_index()\n",
    "    most_recent_article_per_user = most_recent_article_per_user.merge(df, on=['user_id', 'click_timestamp'], how='left')\n",
    "    most_recent_article_per_user = most_recent_article_per_user[['user_id', 'click_article_id']]\n",
    "    most_recent_article_per_user.columns = ['user_id', 'article_id']\n",
    "\n",
    "    return most_recent_article_per_user"
   ],
   "outputs": [],
   "execution_count": null
  },
  {
   "metadata": {
    "id": "GNz4CX6el79-"
   },
   "cell_type": "code",
   "source": [
    "def get_most_recent_articles_for_user(df, user_id, n=1):\n",
    "    \"\"\"\n",
    "    Get the n most recent articles clicked by a specific user.\n",
    "\n",
    "    Parameters\n",
    "    ----------\n",
    "    df : pd.DataFrame\n",
    "        The DataFrame containing user-article interaction data.\n",
    "    user_id : int\n",
    "        The ID of the user for whom recent articles are retrieved.\n",
    "    n : int, optional\n",
    "        The number of most recent articles to retrieve (default is 1).\n",
    "\n",
    "    Returns\n",
    "    -------\n",
    "    pd.Series\n",
    "        A Series with the most recent article IDs for the user.\n",
    "    \"\"\"\n",
    "    user_articles = df[df.user_id == user_id]\n",
    "    most_recent_articles = user_articles.nlargest(n, 'click_timestamp')['click_article_id']\n",
    "\n",
    "    return most_recent_articles"
   ],
   "outputs": [],
   "execution_count": null
  },
  {
   "metadata": {
    "id": "AjYqPsLENEr5"
   },
   "cell_type": "code",
   "source": [
    "def get_unseen_articles(article_metadata, clicks, n=5):\n",
    "    \"\"\"\n",
    "    Get n random article IDs from article metadata that are not included in the clicks DataFrame.\n",
    "\n",
    "    Parameters\n",
    "    ----------\n",
    "    article_metadata: pd.DataFrame\n",
    "        DataFrame containing article metadata.\n",
    "    clicks: pd.DataFrame\n",
    "        DataFrame containing user-article interaction data.\n",
    "    n: int, optional\n",
    "        The number of random unseen article IDs to return (default is 5).\n",
    "\n",
    "    Returns\n",
    "    -------\n",
    "    pd.Series\n",
    "        A Series with n random article IDs not present in the clicks DataFrame.\n",
    "    \"\"\"\n",
    "    seen_articles = clicks['click_article_id'].unique()\n",
    "    unseen_articles = article_metadata[~article_metadata['article_id'].isin(seen_articles)]['article_id']\n",
    "\n",
    "    if len(unseen_articles) < n:\n",
    "        return unseen_articles\n",
    "    else:\n",
    "        return pd.Series(random.sample(unseen_articles.tolist(), n))"
   ],
   "outputs": [],
   "execution_count": null
  },
  {
   "metadata": {
    "id": "g9EmEpbQj7gh"
   },
   "cell_type": "markdown",
   "source": "## Graph"
  },
  {
   "metadata": {
    "id": "zTsWkA16j9BR"
   },
   "cell_type": "code",
   "source": [
    "def boxplot_columns(data, columns, figsize=(15, 6), x=\"\"):\n",
    "    \"\"\"\n",
    "    Create a set of boxplots for specified columns in a DataFrame.\n",
    "\n",
    "    Parameters\n",
    "    ----------\n",
    "    data (pd.DataFrame): The DataFrame containing the data.\n",
    "    columns (list): A list of column names to create boxplots for.\n",
    "    figsize (tuple, optional): A tuple specifying the figure size (width, height). Default is (15, 6).\n",
    "    x (str, optional): The column name for the x-axis, if needed. Default is an empty string.\n",
    "\n",
    "    Returns\n",
    "    -------\n",
    "    None\n",
    "    \"\"\"\n",
    "    n_rows = (len(columns) + 2) // 3  # Calculate the number of rows required for subplots\n",
    "    plt.figure(figsize=figsize)\n",
    "\n",
    "    for index, col in enumerate(columns, start=1):\n",
    "        plt.subplot(n_rows, 3, index)\n",
    "        sns.boxplot(x=data[col])\n",
    "        plt.xlabel(x)\n",
    "        plt.title(f\"Boxplot for {col}\")\n",
    "\n",
    "    plt.show()"
   ],
   "outputs": [],
   "execution_count": null
  },
  {
   "metadata": {},
   "cell_type": "code",
   "source": [
    "import pandas as pd\n",
    "import plotly.graph_objects as go\n",
    "\n",
    "def plot_histogram(df, quantitative_column, bins=10, x_title=\"Value\"):\n",
    "    \"\"\"\n",
    "    Create a histogram chart for a quantitative column in a Pandas DataFrame using Plotly.\n",
    "\n",
    "    Parameters\n",
    "    ----------\n",
    "    df (pd.DataFrame): The DataFrame containing the quantitative column.\n",
    "    quantitative_column (str): The name of the quantitative column in the DataFrame.\n",
    "    bins (int): The number of bins for the histogram.\n",
    "    x_title (str): The title for the x-axis.\n",
    "\n",
    "    Returns\n",
    "    -------\n",
    "    None\n",
    "    \"\"\"\n",
    "    # Vérifier si la colonne existe\n",
    "    if quantitative_column not in df.columns:\n",
    "        raise KeyError(f\"La colonne '{quantitative_column}' n'existe pas dans le DataFrame.\")\n",
    "\n",
    "    title = f\"Histogram for {quantitative_column}\"\n",
    "\n",
    "    # Create the histogram chart using Plotly\n",
    "    fig = go.Figure(data=[go.Histogram(x=df[quantitative_column], nbinsx=bins, histnorm='percent')])\n",
    "    fig.update_layout(\n",
    "        title=title,\n",
    "        xaxis_title=x_title,\n",
    "        yaxis_title=\"%\",\n",
    "        width=800,\n",
    "        height=600\n",
    "    )\n",
    "    fig.show()\n",
    "\n"
   ],
   "outputs": [],
   "execution_count": null
  },
  {
   "metadata": {},
   "cell_type": "code",
   "source": [
    "import pandas as pd\n",
    "import plotly.graph_objects as go\n",
    "\n",
    "def plot_timestamp_chart(df, timestamp_column, title=\"Timestamp Chart\"):\n",
    "    \"\"\"\n",
    "    Crée un graphique chronologique des timestamps en regroupant par mois et année.\n",
    "\n",
    "    Parameters\n",
    "    ----------\n",
    "    df (pd.DataFrame): Le DataFrame contenant la colonne de timestamps.\n",
    "    timestamp_column (str): Le nom de la colonne contenant les timestamps.\n",
    "    title (str): Le titre du graphique.\n",
    "\n",
    "    Returns\n",
    "    -------\n",
    "    None\n",
    "    \"\"\"\n",
    "    # Vérifier si le timestamp est en secondes ou millisecondes\n",
    "    if df[timestamp_column].max() < 10**10:  # Probablement en secondes\n",
    "        df['formatted_timestamp'] = pd.to_datetime(df[timestamp_column], unit='s')\n",
    "    else:  # Probablement en millisecondes\n",
    "        df['formatted_timestamp'] = pd.to_datetime(df[timestamp_column], unit='ms')\n",
    "\n",
    "    # Extraire l'année et le mois\n",
    "    df['year_month'] = df['formatted_timestamp'].dt.to_period(\"M\").astype(str)  # Format YYYY-MM\n",
    "\n",
    "    # Regrouper et compter les occurrences par mois\n",
    "    monthly_counts = df.groupby('year_month').size().reset_index(name='count')\n",
    "\n",
    "    # Calculer les pourcentages\n",
    "    total_count = len(df)\n",
    "    monthly_counts['percentage'] = (monthly_counts['count'] / total_count) * 100\n",
    "\n",
    "    # Trier chronologiquement\n",
    "    monthly_counts = monthly_counts.sort_values(by='year_month')\n",
    "\n",
    "    # Créer un graphique Plotly\n",
    "    fig = go.Figure(data=[go.Bar(\n",
    "        x=monthly_counts['year_month'],\n",
    "        y=monthly_counts['percentage'],\n",
    "    )])\n",
    "\n",
    "    fig.update_layout(\n",
    "        title=title,\n",
    "        xaxis_title='Date (Mois Année)',\n",
    "        yaxis_title='Pourcentage',\n",
    "        width=900,\n",
    "        height=500\n",
    "    )\n",
    "\n",
    "    fig.show()\n"
   ],
   "outputs": [],
   "execution_count": null
  },
  {
   "metadata": {},
   "cell_type": "code",
   "source": [
    "import pandas as pd\n",
    "import plotly.graph_objects as go\n",
    "\n",
    "def plot_histogram(df, quantitative_column, bins=10, x_title=\"Value\"):\n",
    "    \"\"\"\n",
    "    Create a histogram chart for a quantitative column in a Pandas DataFrame using Plotly.\n",
    "\n",
    "    Parameters\n",
    "    ----------\n",
    "    df (pd.DataFrame): The DataFrame containing the quantitative column.\n",
    "    quantitative_column (str): The name of the quantitative column in the DataFrame.\n",
    "    bins (int): The number of bins for the histogram.\n",
    "    x_title (str): The title for the x-axis.\n",
    "\n",
    "    Returns\n",
    "    -------\n",
    "    None\n",
    "    \"\"\"\n",
    "    # Vérifier si la colonne existe\n",
    "    if quantitative_column not in df.columns:\n",
    "        raise KeyError(f\"La colonne '{quantitative_column}' n'existe pas dans le DataFrame.\")\n",
    "\n",
    "    title = f\"Histogram for {quantitative_column}\"\n",
    "\n",
    "    # Créer l'histogramme avec Plotly\n",
    "    fig = go.Figure(data=[go.Histogram(x=df[quantitative_column], nbinsx=bins, histnorm='percent')])\n",
    "    fig.update_layout(\n",
    "        title=title,\n",
    "        xaxis_title=x_title,\n",
    "        yaxis_title=\"%\",\n",
    "        width=800,\n",
    "        height=600\n",
    "    )\n",
    "    fig.show()\n"
   ],
   "outputs": [],
   "execution_count": null
  },
  {
   "metadata": {},
   "cell_type": "code",
   "source": [
    "import pandas as pd\n",
    "import plotly.graph_objects as go\n",
    "\n",
    "def plot_timestamp_chart_day_format(df, timestamp_column, title=\"Timestamp Chart\"):\n",
    "    \"\"\"\n",
    "    Create a chronological chart of a timestamp column in a Pandas DataFrame using Plotly.\n",
    "\n",
    "    Parameters\n",
    "    ----------\n",
    "    df (pd.DataFrame): The DataFrame containing the timestamp column.\n",
    "    timestamp_column (str): The name of the timestamp column in the DataFrame.\n",
    "    title (str): The title for the chart.\n",
    "\n",
    "    Returns\n",
    "    -------\n",
    "    None\n",
    "    \"\"\"\n",
    "\n",
    "    # Vérifier si les valeurs sont déjà en datetime\n",
    "    if not pd.api.types.is_datetime64_any_dtype(df[timestamp_column]):\n",
    "        # Vérifier si les valeurs sont en secondes ou en millisecondes\n",
    "        if df[timestamp_column].max() < 10**10:  # Probablement en secondes\n",
    "            df['formatted_timestamp'] = pd.to_datetime(df[timestamp_column], unit='s')\n",
    "        else:  # Probablement en millisecondes\n",
    "            df['formatted_timestamp'] = pd.to_datetime(df[timestamp_column], unit='ms')\n",
    "    else:\n",
    "        df['formatted_timestamp'] = df[timestamp_column]  # Si déjà datetime, on l'utilise tel quel\n",
    "\n",
    "    # Extraire uniquement la partie jour/mois/année sous forme de texte\n",
    "    df['day_month_year'] = df['formatted_timestamp'].dt.strftime('%d %B %Y')\n",
    "\n",
    "    # Compter les occurrences de chaque jour\n",
    "    daily_counts = df['day_month_year'].value_counts().sort_index()\n",
    "\n",
    "    # Création du graphique avec Plotly\n",
    "    fig = go.Figure(data=[go.Bar(\n",
    "        x=daily_counts.index,\n",
    "        y=daily_counts.values,\n",
    "    )])\n",
    "\n",
    "    fig.update_layout(\n",
    "        title=title,\n",
    "        xaxis_title='Date (Day Month Year)',\n",
    "        yaxis_title='Count',\n",
    "        width=800,\n",
    "        height=600\n",
    "    )\n",
    "\n",
    "    fig.show()\n"
   ],
   "outputs": [],
   "execution_count": null
  },
  {
   "metadata": {
    "id": "YlnG83OJpcay"
   },
   "cell_type": "code",
   "source": [
    "def categorical_column_distribution_chart(df, category_column, top=0, without_dups_col=\"\", x_title=\"Category\", title=\"\"):\n",
    "    \"\"\"\n",
    "    Creates a bar chart of the top X classes of a categorical column in a Pandas DataFrame using Plotly.\n",
    "\n",
    "    Parameters:\n",
    "    -----------\n",
    "    df : pandas.DataFrame\n",
    "        The DataFrame containing the categorical column.\n",
    "    category_column : str\n",
    "        The name of the categorical column in the DataFrame.\n",
    "    top : int\n",
    "        The number of top categories to display in the chart. If 0, all categories will be displayed.\n",
    "    without_dups_col : list\n",
    "        The name of the column to drop duplicates on.\n",
    "\n",
    "    Returns:\n",
    "    --------\n",
    "    None\n",
    "    \"\"\"\n",
    "    if without_dups_col:\n",
    "        df = df.drop_duplicates(without_dups_col + [category_column])\n",
    "\n",
    "    # Count the frequency of each class in the categorical column and calculate the percentages\n",
    "    category_counts = df[category_column].value_counts(normalize=True) * 100\n",
    "    top_categories = category_counts\n",
    "\n",
    "    title = title if title else f\"Bar chart of {category_column} categories\"\n",
    "\n",
    "    if top > 0:\n",
    "        # Select the top `top` classes\n",
    "        top_categories = category_counts[:top]\n",
    "        title = f\"Bar chart of top {top} {category_column} categories\"\n",
    "\n",
    "    # Create the bar chart using Plotly\n",
    "    fig = go.Figure([go.Bar(x=top_categories.index, y=top_categories.values)])\n",
    "    fig.update_layout(\n",
    "        title=title,\n",
    "        xaxis_title=x_title,\n",
    "        yaxis_title=\"Percentage\",\n",
    "        width=800,\n",
    "        height=600\n",
    "    )\n",
    "    fig.update_traces(text=top_categories.values.round(2), textposition='outside')\n",
    "    fig.show()"
   ],
   "outputs": [],
   "execution_count": null
  },
  {
   "metadata": {
    "id": "xwbwoE_rql1o"
   },
   "cell_type": "code",
   "source": [
    "def plot_user_article_distribution(data):\n",
    "    \"\"\"\n",
    "    Create a bar chart displaying the distribution of users by the number of articles they have read using Plotly.\n",
    "\n",
    "    Parameters\n",
    "    -----------\n",
    "    data : pandas.DataFrame\n",
    "        The DataFrame containing user-article interaction data.\n",
    "\n",
    "    Returns\n",
    "    --------\n",
    "    None\n",
    "    \"\"\"\n",
    "    # Group the data by 'user_id' and calculate the count of articles read by each user\n",
    "    user_article_counts = data[['user_id','click_article_id']].copy()\n",
    "    user_article_counts = pd.DataFrame(user_article_counts.groupby('user_id').size(), columns=['num_articles'])\n",
    "    user_article_counts = pd.DataFrame(user_article_counts.groupby('num_articles').size(), columns=['num_users'])\n",
    "\n",
    "    user_article_counts[\"num_users_percent\"] = 100 / data['user_id'].nunique() * user_article_counts\n",
    "\n",
    "    # Create a bar chart using Plotly\n",
    "    fig = px.bar(user_article_counts, x=user_article_counts.index, y='num_users_percent',\n",
    "                 labels={'num_users_percent': 'Utilisateurs (%)', 'index': 'Nombre d\\'articles lus'},\n",
    "                 title='Distribution des utilisateurs par nombre d\\'articles lus')\n",
    "\n",
    "    fig.show()"
   ],
   "outputs": [],
   "execution_count": null
  },
  {
   "metadata": {
    "id": "PsSP9haNUmE3"
   },
   "cell_type": "code",
   "source": [
    "def plot_article_per_user_distribution(data):\n",
    "    \"\"\"\n",
    "    Create a distribution plot displaying the percentage of articles read and the number of users using Plotly.\n",
    "\n",
    "    Parameters:\n",
    "    -----------\n",
    "    data : pandas.DataFrame\n",
    "        The DataFrame containing user-article interaction data.\n",
    "\n",
    "    Returns:\n",
    "    --------\n",
    "    None\n",
    "    \"\"\"\n",
    "    # Group the data by 'user_id' and calculate the count of articles read by each user\n",
    "    user_article_counts = data.groupby('user_id')['click_article_id'].count()\n",
    "\n",
    "    # Calculate the percentages for articles read\n",
    "    total_articles = user_article_counts.sum()\n",
    "    article_percentages = (user_article_counts / total_articles) * 100\n",
    "\n",
    "    # Create a histogram chart using Plotly\n",
    "    fig = px.histogram(user_article_counts, x=user_article_counts, y=article_percentages, nbins=50,\n",
    "                      labels={'x': 'Nombre de lectures'},\n",
    "                      title='Répartition des articles par nombre de lectures')\n",
    "    fig.update_layout(yaxis_title='Nombre d\\'article lus (%)' )\n",
    "    fig.show()"
   ],
   "outputs": [],
   "execution_count": null
  },
  {
   "metadata": {
    "id": "Px0WcxOtooK3"
   },
   "cell_type": "code",
   "source": [
    "def plot_sns_histogram(df, quantitative_column, bins=10, x_title=\"Value\"):\n",
    "    \"\"\"\n",
    "    Create a histogram chart for a quantitative column in a Pandas DataFrame using Seaborn.\n",
    "\n",
    "    Parameters\n",
    "    ----------\n",
    "    df (pd.DataFrame): The DataFrame containing the quantitative column.\n",
    "    quantitative_column (str): The name of the quantitative column in the DataFrame.\n",
    "    bins (int): The number of bins for the histogram.\n",
    "    x_title (str): The title for the x-axis.\n",
    "\n",
    "    Returns\n",
    "    -------\n",
    "    None\n",
    "    \"\"\"\n",
    "    title = f\"Histogram for {quantitative_column}\"\n",
    "\n",
    "    plt.figure(figsize=(8, 6))\n",
    "    sns.histplot(data=df, x=quantitative_column, stat='percent', bins=bins, kde=True)\n",
    "    plt.xlabel(x_title)\n",
    "    plt.ylabel(\"%\")\n",
    "    plt.title(title)\n",
    "    plt.show()"
   ],
   "outputs": [],
   "execution_count": null
  },
  {
   "metadata": {
    "id": "Q-692hKtG50B"
   },
   "cell_type": "markdown",
   "source": "## Modify"
  },
  {
   "metadata": {
    "id": "ewxBBUWcG8rQ"
   },
   "cell_type": "code",
   "source": [
    "def add_mean_cos_similarity(df, model_name, mean_cos_similarity):\n",
    "    \"\"\"\n",
    "    Add the mean_cos_similarity value for a specific model to the DataFrame.\n",
    "\n",
    "    Parameters\n",
    "    -----------\n",
    "    df: pandas.DataFrame\n",
    "        The DataFrame to which the value will be added.\n",
    "    model_name: str\n",
    "        The name of the model.\n",
    "    mean_cos_similarity: float\n",
    "        The mean cosine similarity value to be added.\n",
    "\n",
    "    Returns\n",
    "    --------\n",
    "    None\n",
    "    \"\"\"\n",
    "    # Check if the model already exists in the DataFrame\n",
    "    if model_name in df['model'].values:\n",
    "        # Update the 'mean_cos_similarity' value for the specific model\n",
    "        df.loc[df['model'] == model_name, 'mean_cos_similarity'] = mean_cos_similarity\n",
    "    else:\n",
    "        # Add a new row for the model with 'mean_cos_similarity'\n",
    "        df = df.append({'model': model_name, 'mean_cos_similarity': mean_cos_similarity}, ignore_index=True)"
   ],
   "outputs": [],
   "execution_count": null
  },
  {
   "metadata": {
    "id": "gXkBCFOsUyI_"
   },
   "cell_type": "code",
   "source": [
    "def calculate_mean_embedding(article_ids):\n",
    "    \"\"\"\n",
    "    Calculate the mean embedding for a list of article IDs.\n",
    "\n",
    "    Parameters\n",
    "    ----------\n",
    "    article_ids : list\n",
    "        A list of article IDs.\n",
    "\n",
    "    Returns\n",
    "    -------\n",
    "    numpy.ndarray\n",
    "        The mean embedding vector for the provided article IDs.\n",
    "    \"\"\"\n",
    "    mean_embedding = lambda x: articles_embeddings[x].mean(axis=0)\n",
    "    return mean_embedding(article_ids)"
   ],
   "outputs": [],
   "execution_count": null
  },
  {
   "metadata": {},
   "cell_type": "code",
   "source": [
    "def add_new_article(df_articles_metadata, new_article_data):\n",
    "    \"\"\"\n",
    "    Add a new article to the df_articles_metadata DataFrame.\n",
    "\n",
    "    Parameters\n",
    "    ----------\n",
    "    df_articles_metadata: pd.DataFrame\n",
    "        The DataFrame containing article metadata.\n",
    "    new_article_data: dict\n",
    "        A dictionary containing the data for the new article, including category_id,\n",
    "        created_at_ts, publisher_id, and words_count.\n",
    "\n",
    "    Returns\n",
    "    -------\n",
    "    pd.DataFrame\n",
    "        The updated df_articles_metadata DataFrame with the new article.\n",
    "    \"\"\"\n",
    "    # Calculate the next available article_id by incrementing the maximum article_id in the DataFrame\n",
    "    next_article_id = df_articles_metadata['article_id'].max() + 1 if not df_articles_metadata.empty else 1\n",
    "\n",
    "    # Create a new row with the calculated article_id and provided data\n",
    "    new_article_row = {\n",
    "        'article_id': next_article_id,\n",
    "        'category_id': new_article_data['category_id'],\n",
    "        'created_at_ts': new_article_data['created_at_ts'],\n",
    "        'publisher_id': new_article_data['publisher_id'],\n",
    "        'words_count': new_article_data['words_count']\n",
    "    }\n",
    "\n",
    "    # Use pd.concat() instead of append()\n",
    "    new_row_df = pd.DataFrame([new_article_row])\n",
    "    df_articles_metadata = pd.concat([df_articles_metadata, new_row_df], ignore_index=True)\n",
    "\n",
    "    return df_articles_metadata"
   ],
   "outputs": [],
   "execution_count": null
  },
  {
   "metadata": {
    "id": "RSSgZAXk-PzO"
   },
   "cell_type": "markdown",
   "source": "## Preprocessing"
  },
  {
   "cell_type": "code",
   "source": [
    "def calculate_popularity_indicator(df_merged):\n",
    "    \"\"\"\n",
    "    Calculate the popularity indicator for user-article interactions.\n",
    "\n",
    "    Parameters\n",
    "    -----------\n",
    "    df_merged : pd.DataFrame\n",
    "        The DataFrame containing user-article interaction data.\n",
    "\n",
    "    Returns\n",
    "    --------\n",
    "    pd.DataFrame\n",
    "        A DataFrame with 'user_id', 'click_article_id', 'user_article_clicks', 'user_total_clicks',\n",
    "        and 'popularity_indicator' columns.\n",
    "    \"\"\"\n",
    "    # Group the data by user_id and click_article_id to count user-article clicks\n",
    "    user_article_clicks = df_merged.groupby(['user_id', 'click_article_id'])['click_article_id'].count()\n",
    "\n",
    "    # Group the data by user_id to count total clicks\n",
    "    user_total_clicks = df_merged.groupby('user_id')['click_article_id'].count()\n",
    "\n",
    "    # Create DataFrames from Series\n",
    "    df_user_article_clicks = user_article_clicks.reset_index(name='user_article_clicks')\n",
    "    df_user_total_clicks = user_total_clicks.reset_index(name='user_total_clicks')\n",
    "\n",
    "    # Merge the two DataFrames based on 'user_id'\n",
    "    df_popularity_ind = pd.merge(df_user_article_clicks, df_user_total_clicks, on='user_id')\n",
    "\n",
    "    # Calculate the 'popularity_indicator' based on the merged DataFrames\n",
    "    df_popularity_ind['popularity_indicator'] = df_popularity_ind['user_article_clicks'] / df_popularity_ind['user_total_clicks']\n",
    "\n",
    "    return df_popularity_ind"
   ],
   "metadata": {
    "id": "-5xjvmMkVSjg"
   },
   "outputs": [],
   "execution_count": null
  },
  {
   "cell_type": "code",
   "source": [
    "def calculate_category_popularity(df_merged):\n",
    "    \"\"\"\n",
    "    Calculate the category-specific popularity indicator for user-article interactions.\n",
    "\n",
    "    Parameters\n",
    "    -----------\n",
    "    df_merged : pd.DataFrame\n",
    "        The DataFrame containing user-article interaction data.\n",
    "\n",
    "    Returns\n",
    "    --------\n",
    "    pd.DataFrame\n",
    "        A DataFrame with 'user_id', 'category_id', 'user_category_clicks', 'user_total_clicks',\n",
    "        and 'category_popularity' columns.\n",
    "    \"\"\"\n",
    "    # Group the data by user_id and category_id and count the number of category clicks\n",
    "    user_category_clicks = df_merged.groupby(['user_id', 'category_id'])['category_id'].count()\n",
    "\n",
    "    # Group the data by user_id and calculate the total clicks\n",
    "    user_total_clicks = df_merged.groupby('user_id')['click_article_id'].count()\n",
    "\n",
    "    # Create DataFrames from the Series\n",
    "    df_user_category_clicks = user_category_clicks.reset_index(name='user_category_clicks')\n",
    "    df_user_total_clicks = user_total_clicks.reset_index(name='user_total_clicks')\n",
    "\n",
    "    # Merge the two DataFrames based on 'user_id'\n",
    "    df_popularity_ind = pd.merge(df_user_category_clicks, df_user_total_clicks, on='user_id')\n",
    "\n",
    "    # Calculate the 'category_popularity' as the ratio of category-specific clicks to total clicks by the user\n",
    "    df_popularity_ind['category_popularity'] = df_popularity_ind['user_category_clicks'] / df_popularity_ind['user_total_clicks']\n",
    "\n",
    "    return df_popularity_ind"
   ],
   "metadata": {
    "id": "qwzQmPMKzmot"
   },
   "outputs": [],
   "execution_count": null
  },
  {
   "cell_type": "markdown",
   "source": [
    "## Recommendation"
   ],
   "metadata": {
    "id": "U38Ai5hFhwz0"
   }
  },
  {
   "cell_type": "code",
   "source": [
    "def recommend_top_articles(model, user_id, num_recommendations=10):\n",
    "    \"\"\"\n",
    "    Recommend the top articles for a given user using a collaborative filtering model.\n",
    "\n",
    "    Parameters:\n",
    "    -----------\n",
    "    model: object\n",
    "        The collaborative filtering model used for making recommendations.\n",
    "    user_id: int\n",
    "        The ID of the user for whom recommendations are generated.\n",
    "    num_recommendations: int, optional\n",
    "        The number of article recommendations to return (default is 10).\n",
    "\n",
    "    Returns:\n",
    "    --------\n",
    "    pd.DataFrame\n",
    "        A DataFrame with 'article_id' and 'score' columns representing the top article recommendations.\n",
    "    \"\"\"\n",
    "    articles_read = df_article_popularity[df_article_popularity.user_id == user_id].click_article_id.unique()\n",
    "    print(\"Total articles viewed by the user {}: {}\".format(user_id, len(articles_read)))\n",
    "    articles_not_read = df_articles_metadata[~df_articles_metadata.article_id.isin(articles_read)].article_id.unique()\n",
    "    print(\"Total articles not viewed by the user {}: {}\".format(user_id, len(articles_not_read)))\n",
    "\n",
    "    articles_not_read_with_score = [[article_id, model.predict(user_id, article_id).est] for article_id in articles_not_read]\n",
    "    articles_not_read_with_score_sorted = sorted(articles_not_read_with_score, key=lambda x: x[1], reverse=True)\n",
    "\n",
    "    top_recommendations = articles_not_read_with_score_sorted[:num_recommendations]\n",
    "    recommendation_df = pd.DataFrame(top_recommendations, columns=['article_id', 'score'])\n",
    "\n",
    "    return recommendation_df"
   ],
   "metadata": {
    "id": "UVSKOEXmhuBw"
   },
   "outputs": [],
   "execution_count": null
  },
  {
   "cell_type": "code",
   "source": [
    "def get_top_popular_articles(df, num_recommendations=10):\n",
    "    \"\"\"\n",
    "    Get the top popular articles based on the popularity indicator.\n",
    "\n",
    "    Parameters\n",
    "    -----------\n",
    "    df: pd.DataFrame\n",
    "        DataFrame containing user-article interaction data, including 'click_article_id' and 'popularity_indicator' columns.\n",
    "    num_recommendations: int, optional\n",
    "        The number of top popular articles to recommend (default is 10).\n",
    "\n",
    "    Returns\n",
    "    --------\n",
    "    pd.DataFrame\n",
    "        A DataFrame with the top popular articles and their popularity scores.\n",
    "    \"\"\"\n",
    "    # Group the data by 'article_id' and calculate the sum of popularity indicators\n",
    "    df_popular_articles = df.groupby(by=['click_article_id'])['popularity_indicator'].sum().sort_values(ascending=False).reset_index()\n",
    "\n",
    "    # Normalize the popularity scores to be between 0 and 1\n",
    "    df_popular_articles['score'] = df_popular_articles['popularity_indicator'] / df_popular_articles['popularity_indicator'].max()\n",
    "\n",
    "    # Print a message and create a DataFrame with the top popular articles\n",
    "    print(f'Top {num_recommendations} popular articles:')\n",
    "    recommendation = df_popular_articles[['click_article_id', 'score']].head(num_recommendations).to_dict('records')\n",
    "    recommendation_df = pd.DataFrame(recommendation)\n",
    "    recommendation_df = recommendation_df.rename(columns={'click_article_id': 'article_id'})\n",
    "\n",
    "    return recommendation_df\n"
   ],
   "metadata": {
    "id": "F4UNeaty1imS"
   },
   "outputs": [],
   "execution_count": null
  },
  {
   "cell_type": "code",
   "source": [
    "def recommend_articles_to_users(model, user_ids, csr_matrix, num_recommendations=5):\n",
    "    \"\"\"\n",
    "    Recommend a list of articles to multiple users using a collaborative filtering model.\n",
    "\n",
    "    Parameters\n",
    "    -----------\n",
    "    model: object\n",
    "        The collaborative filtering model used for making recommendations.\n",
    "    user_ids: list\n",
    "        A list of user IDs for whom recommendations are generated.\n",
    "    csr_matrix: csr_matrix\n",
    "        The user-article interaction matrix.\n",
    "    num_recommendations: int, optional\n",
    "        The number of article recommendations to return for each user (default is 5).\n",
    "\n",
    "    Returns\n",
    "    --------\n",
    "    None\n",
    "    \"\"\"\n",
    "    article_ids, scores = model.recommend(user_ids, csr_matrix[user_ids], N=num_recommendations, filter_already_liked_items=True)\n",
    "\n",
    "    for i, user_id in enumerate(user_ids):\n",
    "        print(f\"\\nRecommended articles for the user {user_id}\\n\")\n",
    "\n",
    "        for article_id, score in zip(article_ids[i], scores[i]):\n",
    "            print(f\"article_id: {article_id:10} \\t score: {score}\")"
   ],
   "metadata": {
    "id": "fls96y3RDN4z"
   },
   "outputs": [],
   "execution_count": null
  },
  {
   "cell_type": "code",
   "source": [
    "# Using mean cosine similarity\n",
    "def get_content_based_recommendations(user_id, num_recommendations=5, user_history_length=None):\n",
    "    \"\"\"\n",
    "    Get content based article recommendations for a user based on their recent article views.\n",
    "\n",
    "    Parameters\n",
    "    ----------\n",
    "    user_id: int\n",
    "        The ID of the user for whom recommendations are generated.\n",
    "    num_recommendations: int, optional\n",
    "        The number of article recommendations to return (default is 5).\n",
    "    user_history_length: int, optional\n",
    "        The number of recent article views to consider (default is None, which includes all views).\n",
    "\n",
    "    Returns\n",
    "    -------\n",
    "    list\n",
    "        A list of top article recommendations for the user.\n",
    "    \"\"\"\n",
    "    if user_history_length is not None:\n",
    "        # Get the specified number of most recent article views for the user\n",
    "        #recent_article_views = df_train[df_train.user_id == user_id]['article_id'].iloc[-user_history_length:]\n",
    "        recent_article_views = get_most_recent_articles_for_user(df_train, user_id, n=user_history_length)\n",
    "    else:\n",
    "        # Get all article views for the user if user_history_length is not specified\n",
    "        recent_article_views = df_train[df_train.user_id == user_id]['article_id']\n",
    "\n",
    "    if len(recent_article_views) < 1:\n",
    "        return []\n",
    "\n",
    "    # Calculate the mean embedding of the recent article views\n",
    "    mean_recent_article_views = calculate_mean_embedding(recent_article_views.values)\n",
    "\n",
    "    # Create a copy of article embeddings and subtract the mean embedding for recent views\n",
    "    embeddings = articles_embeddings.copy()\n",
    "    mean_recent_views = mean_recent_article_views\n",
    "    embeddings[recent_article_views.values] = -mean_recent_views\n",
    "\n",
    "    # Calculate cosine similarity between modified embeddings and the mean recent views\n",
    "    cosine = cosine_similarity(embeddings, mean_recent_views.reshape(1, -1))\n",
    "\n",
    "    # Get top article recommendations based on cosine similarity\n",
    "    recommendations = get_top_recommendations(cosine, num_recommendations)\n",
    "\n",
    "    return recommendations\n",
    "\n",
    "\n",
    "def get_top_recommendations(cosine, num_recommendations=5):\n",
    "    \"\"\"\n",
    "    Get the top cosine similarity recommendations.\n",
    "\n",
    "    Parameters\n",
    "    ----------\n",
    "    cosine: pd.Series\n",
    "        A Series containing cosine similarity values.\n",
    "    num_recommendations: int, optional\n",
    "        The number of recommendations to return (default is 5).\n",
    "\n",
    "    Returns\n",
    "    -------\n",
    "    pd.DataFrame\n",
    "        A DataFrame with 'article_id' and 'cos_similarity' columns for the top recommendations.\n",
    "    \"\"\"\n",
    "    recommendations = pd.DataFrame(cosine, columns=['cos_similarity'])\n",
    "    recommendations = recommendations.sort_values('cos_similarity', ascending=False)[:num_recommendations]\n",
    "    recommendations = recommendations.reset_index()\n",
    "    recommendations = recommendations.rename(columns={'index': 'article_id'})\n",
    "\n",
    "    return recommendations"
   ],
   "metadata": {
    "id": "fRjTs5obd9uK"
   },
   "outputs": [],
   "execution_count": null
  },
  {
   "cell_type": "code",
   "source": [
    "import pandas as pd\n",
    "\n",
    "def recommend_content_based_articles(df, user_id, num_recommendations=5, user_history_length=1):\n",
    "    \"\"\"\n",
    "    Generate recommendations for a user based on their recent article views and unseen articles.\n",
    "\n",
    "    Parameters\n",
    "    ----------\n",
    "    df: pd.DataFrame\n",
    "        The DataFrame containing user-article interaction data.\n",
    "    user_id: int\n",
    "        The user for whom recommendations are generated.\n",
    "    num_recommendations: int, optional\n",
    "        The total number of recommendations to return (default is 5).\n",
    "    user_history_length: int, optional\n",
    "        The number of most recent article views to consider (default is 1).\n",
    "\n",
    "    Returns\n",
    "    -------\n",
    "    pd.DataFrame\n",
    "        A DataFrame of article IDs recommended for the user.\n",
    "    \"\"\"\n",
    "    # Get most recent articles viewed by a user\n",
    "    if user_history_length is not None:\n",
    "        recent_article_views = get_most_recent_articles_for_user(df_clicks, user_id, n=user_history_length)\n",
    "    else:\n",
    "        recent_article_views = df[df.user_id == user_id]['article_id']\n",
    "\n",
    "    # Get the specified number of unseen articles\n",
    "    n_unseen = num_recommendations % 4\n",
    "    unseen_articles = get_unseen_articles(df_articles_metadata, df_clicks, n=n_unseen)\n",
    "\n",
    "    # Initialize a dataframe for recommendations\n",
    "    recommended_articles = pd.DataFrame(columns=['article_id', 'cos_similarity_score'])\n",
    "\n",
    "    # For each recent article, find similar articles\n",
    "    for article_id in recent_article_views:\n",
    "        similar_articles = get_similar_articles(article_id, num_recommendations)\n",
    "        # Use pd.concat() instead of append()\n",
    "        recommended_articles = pd.concat([recommended_articles, similar_articles], ignore_index=True)\n",
    "\n",
    "    # Randomly select a subset of similar articles\n",
    "    random_selection = recommended_articles.sample(n=num_recommendations - n_unseen, replace=True)\n",
    "    \n",
    "    # Loop to add unseen article IDs to the DataFrame\n",
    "    unseen_df = pd.DataFrame({'article_id': unseen_articles, 'cos_similarity_score': 0})\n",
    "    random_selection = pd.concat([random_selection, unseen_df], ignore_index=True)\n",
    "    \n",
    "    return random_selection\n",
    "\n",
    "\n",
    "def get_similar_articles(article_id, n=5):\n",
    "    \"\"\"\n",
    "    Get the most similar articles to a given article.\n",
    "\n",
    "    Parameters\n",
    "    ----------\n",
    "    article_id : int\n",
    "        The article ID for which to find similar articles.\n",
    "    n : int, optional\n",
    "        Number of similar articles to retrieve (default is 5).\n",
    "\n",
    "    Returns\n",
    "    -------\n",
    "    pd.DataFrame\n",
    "        A DataFrame with columns 'article_id' and 'cos_similarity_score' representing similar articles.\n",
    "    \"\"\"\n",
    "    # Filter embeddings to remove unseen articles\n",
    "    filtered_embeddings = filter_embeddings(articles_embeddings)\n",
    "\n",
    "    # Get the index of the article in the embeddings\n",
    "    idx = filtered_embeddings.index.get_loc(article_id)\n",
    "\n",
    "    # Calculate the cosine similarity between the article and all other articles\n",
    "    cos_similarity = cosine_similarity(filtered_embeddings, filtered_embeddings)\n",
    "\n",
    "    # Get the similarity scores of the article with other articles\n",
    "    similarity_scores = list(enumerate(cos_similarity[idx]))\n",
    "\n",
    "    # Sort the similarity scores in descending order\n",
    "    similarity_scores = sorted(similarity_scores, key=lambda x: x[1], reverse=True)\n",
    "\n",
    "    # Get the n most similar articles\n",
    "    similarity_scores = similarity_scores[1:n + 1]\n",
    "\n",
    "    # Get the indices of the similar articles\n",
    "    articles_index = [i[0] for i in similarity_scores]\n",
    "\n",
    "    # Get the article IDs and their corresponding similarity scores\n",
    "    article_ids, cos_similarity_scores = filtered_embeddings.iloc[articles_index].index, [i[1] for i in similarity_scores]\n",
    "\n",
    "    # Create a DataFrame with similar articles and their similarity scores\n",
    "    df_recommended_articles = pd.DataFrame({\n",
    "        'article_id': article_ids,\n",
    "        'cos_similarity_score': cos_similarity_scores\n",
    "    })\n",
    "\n",
    "    return df_recommended_articles\n",
    "\n",
    "\n",
    "def filter_embeddings(embeddings):\n",
    "    \"\"\"\n",
    "    Filter embeddings to only include those corresponding to viewed articles.\n",
    "\n",
    "    Parameters\n",
    "    ----------\n",
    "    embeddings: pd.DataFrame\n",
    "        DataFrame containing embeddings for all articles.\n",
    "\n",
    "    Returns\n",
    "    -------\n",
    "    pd.DataFrame\n",
    "        Filtered embeddings containing only those corresponding to viewed articles.\n",
    "    \"\"\"\n",
    "    embeddings = pd.DataFrame(embeddings)\n",
    "    viewed_articles = df_clicks['click_article_id'].value_counts().index\n",
    "\n",
    "    return embeddings.iloc[viewed_articles]"
   ],
   "metadata": {
    "id": "GbMYWkT6K3UN"
   },
   "outputs": [],
   "execution_count": null
  },
  {
   "cell_type": "markdown",
   "source": [
    "# Config"
   ],
   "metadata": {
    "id": "cCG1r5QbdvTX"
   }
  },
  {
   "cell_type": "code",
   "source": [
    "warnings.filterwarnings('ignore')"
   ],
   "metadata": {
    "id": "aO9t5Ll_dxcg"
   },
   "outputs": [],
   "execution_count": null
  },
  {
   "cell_type": "markdown",
   "source": [
    "# 1. Présentation générale du jeu de données <a name=\"presentation\"></a>"
   ],
   "metadata": {
    "id": "lAA5HuVadONj"
   }
  },
  {
   "cell_type": "markdown",
   "source": [
    "Les données utilisées pour ce projet peuvent être téléchargées à partir du lien suivant : https://www.kaggle.com/datasets/gspmoreira/news-portal-user-interactions-by-globocom#clicks_sample.csv\n",
    "Le jeu de données contient un échantillon des interactions des utilisateurs (consultations de pages) sur le portail d'actualités G1 du 1er au 16 octobre 2017. Il comprend environ 3 millions de clics répartis dans plus d'un million de sessions, impliquant 314 000 utilisateurs ayant consulté plus de 46 000 articles d'actualités différents pendant cette période.\n",
    "\n",
    "Il se compose de trois fichiers/dossiers :\n",
    "\n",
    "* `clicks` - Un dossier avec des fichiers CSV (un par heure) contenant les interactions des utilisateurs lors de leurs sessions sur le portail d'actualités.  \n",
    "* `articles_metadata.csv` - Un fichier CSV contenant des informations sur les métadonnées de tous les articles publiés (364 047 au total).  \n",
    "* `articles_embeddings.pickle` - Un fichier au format Pickle (Python 3) contenant une matrice NumPy avec les représentations d'incorporation du contenu des articles (vecteurs de 250 dimensions). Ces vecteurs ont été créés en utilisant le module ACR de CHAMELEON, en se basant sur le texte et les métadonnées des articles, et couvrent les 364 047 articles publiés. Regarder https://arxiv.org/abs/1808.00076 pour plus détails.\n",
    "* `cliks_sample.csv` Un fichier CSV contenant un échantillon des interactions des utilisateurs (consultations de pages) sur le portail d'actualités. Il comprend environ 724955 de clics répartis, impliquant 314 000 utilisateurs sur la période du 23 décembre. Ce sample est utilisé pour des raisons de performance et à la même structure que les fichiers individuels dans le dossier clicks. Cela permettra de determiner la qualité de notre modèle sur un échantillon de données.\n"
   ],
   "metadata": {
    "id": "RMloI8g2dVZW"
   }
  },
  {
   "cell_type": "markdown",
   "source": [
    "## 1.1. Chargement des données <a name=\"presentation-data\"></a>"
   ],
   "metadata": {
    "id": "fo_3i7FYipN9"
   }
  },
  {
   "cell_type": "markdown",
   "source": [
    "## 1.2. Inspection des données <a name=\"presentation-inspection\"></a>"
   ],
   "metadata": {
    "id": "DYJNgEMOFNu8"
   }
  },
  {
   "metadata": {},
   "cell_type": "markdown",
   "source": "### Dossier des clicks"
  },
  {
   "metadata": {},
   "cell_type": "code",
   "source": [
    "import os\n",
    "import pandas as pd\n",
    "\n",
    "# Définition du bon chemin (relatif au notebook)\n",
    "clicks_dir = \"data/clicks/clicks\"\n",
    "\n",
    "# Vérifier que le dossier existe\n",
    "if not os.path.exists(clicks_dir):\n",
    "    raise FileNotFoundError(f\"Le dossier {clicks_dir} n'existe pas.\")\n",
    "\n",
    "# Liste tous les fichiers CSV dans le dossier clicks\n",
    "csv_files = [f for f in os.listdir(clicks_dir) if f.endswith(\".csv\")]\n",
    "\n",
    "# Trier les fichiers pour garantir l'ordre de lecture correct\n",
    "csv_files.sort()\n",
    "\n",
    "# Initialiser une liste pour stocker les DataFrames\n",
    "datalist = []\n",
    "\n",
    "# Boucle pour lire tous les fichiers CSV\n",
    "for file in csv_files:\n",
    "    file_path = os.path.join(clicks_dir, file)  \n",
    "    df_tmp = pd.read_csv(file_path)\n",
    "    datalist.append(df_tmp)\n",
    "\n",
    "# Fusionner tous les fichiers en un seul DataFrame\n",
    "df_dossier_clicks = pd.concat(datalist, ignore_index=True)\n",
    "\n",
    "# ---- ANALYSE DES DONNÉES ----\n",
    "\n",
    "# Nombre total de fichiers CSV chargés\n",
    "num_files = len(csv_files)\n",
    "\n",
    "# Nombre total de sessions uniques\n",
    "num_sessions = df_dossier_clicks['session_id'].nunique()\n",
    "\n",
    "# Nombre total de clics (chaque ligne correspond à un clic)\n",
    "num_clicks = len(df_dossier_clicks)\n",
    "\n",
    "# Nombre d'articles uniques ayant été cliqués\n",
    "num_articles_clicked = df_dossier_clicks['click_article_id'].nunique()\n",
    "\n",
    "# Nombre d'utilisateurs uniques\n",
    "num_users = df_dossier_clicks['user_id'].nunique()\n",
    "\n",
    "# Obtenir un résumé statistique pour toutes les colonnes numériques\n",
    "stats = df_dossier_clicks.describe()\n",
    "\n",
    "# Afficher les résultats\n",
    "print(f\"📂 Nombre de fichiers CSV chargés : {num_files}\")\n",
    "print(f\"👥 Nombre total d'utilisateurs uniques : {num_users}\")\n",
    "print(f\"🖥️ Nombre total de sessions uniques : {num_sessions}\")\n",
    "print(f\"🖱️ Nombre total de clics : {num_clicks}\")\n",
    "print(f\"📰 Nombre total d'articles cliqués : {num_articles_clicked}\")\n",
    "print(\"\\n📊 Statistiques descriptives :\")\n",
    "print(stats)\n"
   ],
   "outputs": [],
   "execution_count": null
  },
  {
   "metadata": {},
   "cell_type": "markdown",
   "source": [
    "### **🔍 Observations sur les Données Clicks**\n",
    "L'analyse des **385 fichiers CSV** donne les résultats suivants :\n",
    "\n",
    "#### **📊 Synthèse Générale**\n",
    "- **📂 Nombre de fichiers CSV chargés :** `385`\n",
    "- **👥 Nombre total d'utilisateurs uniques :** `322,897`\n",
    "- **🖥️ Nombre total de sessions uniques :** `1,048,594`\n",
    "- **🖱️ Nombre total de clics enregistrés :** `2,988,181`\n",
    "- **📰 Nombre total d'articles cliqués :** `46,033`\n",
    "\n",
    "#### **🔍 Observations par colonne**\n",
    "1. **`session_id` et `user_id`**\n",
    "   - Il y a **322,897 utilisateurs uniques** et **1,048,594 sessions uniques**.\n",
    "   - Certains utilisateurs ont effectué plusieurs sessions.\n",
    "   - La session la plus fréquente a été observée **124 fois**.\n",
    "\n",
    "2. **`session_size`**\n",
    "   - La taille de session varie sur **72 valeurs distinctes**, ce qui signifie que certaines sessions sont très courtes (2 clics) tandis que d'autres sont beaucoup plus longues.\n",
    "\n",
    "3. **`click_article_id`**\n",
    "   - **46,033 articles différents** ont été cliqués.\n",
    "   - L'article le plus cliqué **(ID : 160974)** a été sélectionné **37,213 fois**.\n",
    "\n",
    "4. **`click_environment`**\n",
    "   - Seulement **3 environnements différents** sont recensés.\n",
    "   - **L'environnement le plus fréquent représente 2,904,478 clics**, ce qui montre un fort biais vers un environnement dominant.\n",
    "\n",
    "5. **`click_deviceGroup` et `click_os`**\n",
    "   - **5 types d’appareils différents** sont utilisés, mais **1 seul appareil représente 1,823,162 clics**.\n",
    "   - **8 systèmes d’exploitation différents** sont détectés, mais **1 seul (ID : 17) est majoritaire avec 1,738,138 clics**.\n",
    "\n",
    "6. **`click_country` et `click_region`**\n",
    "   - Les clics proviennent de **11 pays différents**, mais **1 pays représente 2,852,406 clics**, ce qui montre une forte concentration géographique.\n",
    "   - **28 régions** sont identifiées, avec une région dominante **(804,985 clics)**.\n",
    "\n",
    "7. **`click_referrer_type`**\n",
    "   - **7 types de référents** sont utilisés.\n",
    "   - **Le référent le plus courant (ID : 2) est responsable de 1,602,601 clics**, ce qui montre que la majorité des visiteurs proviennent d’une source principale.\n",
    "\n",
    "---\n",
    "\n",
    "### **📌 Décision pour la Suite**\n",
    "Compte tenu du **volume de données élevé (~3 millions de lignes)**, nous allons travailler sur un **échantillon plus léger : `clicks_sample.csv`** pour faciliter les manipulations et analyses tout en conservant une représentativité des tendances globales.\n",
    "\n",
    "🚀 **Les prochaines étapes se baseront donc sur `clicks_sample.csv` pour des raisons de volumétrie et de performance.**"
   ]
  },
  {
   "metadata": {},
   "cell_type": "markdown",
   "source": "### Fichier sample des clicks pour l'analyse et les recommandations"
  },
  {
   "metadata": {},
   "cell_type": "code",
   "source": [
    "import pandas as pd\n",
    "import pickle\n",
    "\n",
    "# Charger les métadonnées des articles\n",
    "df_articles_metadata = pd.read_csv('data/articles_metadata.csv')\n",
    "\n",
    "# Charger les embeddings des articles\n",
    "with open('data/articles_embeddings.pickle', 'rb') as file:\n",
    "    articles_embeddings = pickle.load(file)\n",
    "\n",
    "# Charger les données de clicks depuis un seul fichier\n",
    "df_clicks = pd.read_csv('data/clicks_sample.csv')\n",
    "\n",
    "# Ajouter une colonne \"hour\" qui n'existait pas avant\n",
    "df_clicks['hour'] = pd.to_datetime(df_clicks['click_timestamp'], unit='ms').dt.hour\n",
    "\n",
    "print(f\"✅ Chargement réussi : {len(df_clicks)} lignes de clics importées depuis clicks_sample.csv\")\n"
   ],
   "outputs": [],
   "execution_count": null
  },
  {
   "metadata": {
    "id": "OwlCTB_jGOMV"
   },
   "cell_type": "markdown",
   "source": "### Fichier Métadonnées"
  },
  {
   "cell_type": "code",
   "source": [
    "df_articles_metadata.info()"
   ],
   "metadata": {
    "colab": {
     "base_uri": "https://localhost:8080/"
    },
    "id": "fAXZdIeUD4tX",
    "outputId": "6d71151e-e425-4ef8-cd50-2dc04642f263"
   },
   "outputs": [],
   "execution_count": null
  },
  {
   "metadata": {
    "id": "bvi2kY2jQecP"
   },
   "cell_type": "markdown",
   "source": [
    "Ce jeu de données est composé de 364 047 lignes décrites par 5 variables\n",
    "\n",
    "Variable|Description|\n",
    "|--------|-----------|\n",
    "|__article_id__ | identifiant d'un article|\n",
    "|__category_id__ | identifiant d'une catégorie|\n",
    "| __created_at_ts__ | horodatage (en millisecondes) lorsque l'article a été créé|\n",
    "| __publisher_id__ | identifiant de l'éditeur|\n",
    "| __words_count__ | nombre de mots dans un article|"
   ]
  },
  {
   "cell_type": "code",
   "source": [
    "# Afficher les 5 premières lignes\n",
    "df_articles_metadata.head()"
   ],
   "metadata": {
    "colab": {
     "base_uri": "https://localhost:8080/"
    },
    "id": "s3cGXgGQG82h",
    "outputId": "c14cd542-7a40-41f6-cc40-16beef2219b5"
   },
   "outputs": [],
   "execution_count": null
  },
  {
   "cell_type": "code",
   "source": [
    "# Afficher les 5 dernières lignes pour s'assurer que les données sont chargées correctement\n",
    "df_articles_metadata.tail()"
   ],
   "metadata": {
    "colab": {
     "base_uri": "https://localhost:8080/"
    },
    "id": "SlRDQ6sCHGID",
    "outputId": "44b794a1-9734-40c2-a641-6b433f7ea5a5"
   },
   "outputs": [],
   "execution_count": null
  },
  {
   "cell_type": "code",
   "source": [
    "# Description des données e.g. moyenne, médiane, min, max, etc.\n",
    "df_articles_metadata.describe()"
   ],
   "metadata": {
    "colab": {
     "base_uri": "https://localhost:8080/"
    },
    "id": "a-S9ltqWQAuE",
    "outputId": "58eb1434-26fb-40f1-8efe-84f703515bef"
   },
   "outputs": [],
   "execution_count": null
  },
  {
   "cell_type": "markdown",
   "source": [
    "Vérifions s'il existe des doublons."
   ],
   "metadata": {
    "id": "u5Y9pu-AHzlP"
   }
  },
  {
   "cell_type": "code",
   "source": [
    "df_articles_metadata.duplicated(subset=['article_id']).sum()"
   ],
   "metadata": {
    "colab": {
     "base_uri": "https://localhost:8080/"
    },
    "id": "6PHNVUFmw7Iy",
    "outputId": "0ab4b437-619d-439e-f294-345fed96fd02"
   },
   "outputs": [],
   "execution_count": null
  },
  {
   "cell_type": "code",
   "source": [
    "print(\"Le nombre total des articles :\", df_articles_metadata['article_id'].nunique())\n",
    "print(\"Le nombre total des catégories :\", df_articles_metadata['category_id'].nunique())\n",
    "print(\"Le nombre total des éditeurs :\", df_articles_metadata['publisher_id'].nunique())"
   ],
   "metadata": {
    "colab": {
     "base_uri": "https://localhost:8080/"
    },
    "id": "FIqGw2HAgt04",
    "outputId": "27e12e63-caa7-442d-bb8f-06f5d3f1e73c"
   },
   "outputs": [],
   "execution_count": null
  },
  {
   "cell_type": "markdown",
   "source": [
    "### Les clics"
   ],
   "metadata": {
    "id": "jGjCvxqeJLMJ"
   }
  },
  {
   "cell_type": "code",
   "source": [
    "df_clicks.info()"
   ],
   "metadata": {
    "colab": {
     "base_uri": "https://localhost:8080/"
    },
    "id": "CEkxUe8PJMnl",
    "outputId": "5b700bd9-beed-4a77-c604-d76d36a2654f"
   },
   "outputs": [],
   "execution_count": null
  },
  {
   "metadata": {},
   "cell_type": "code",
   "source": [
    "# nombre des lignes et des colonnes\n",
    "df_clicks.shape"
   ],
   "outputs": [],
   "execution_count": null
  },
  {
   "metadata": {},
   "cell_type": "markdown",
   "source": [
    "Voici un **workflow simple** expliquant le fonctionnement du fichier CSV :\n",
    "\n",
    "---\n",
    "\n",
    "### **Workflow : Analyse des clics des utilisateurs sur des articles**\n",
    "📌 **Objectif** : Suivre l'activité des utilisateurs sur une plateforme en analysant leurs sessions et leurs clics sur des articles.\n",
    "\n",
    "#### 1️⃣ **Début d'une session utilisateur**  \n",
    "- Un utilisateur **(user_id)** démarre une session **(session_id)** à un instant donné **(session_start)**.  \n",
    "- Une session contient un certain **nombre d'articles vus** **(session_size)**.\n",
    "\n",
    "#### 2️⃣ **Enregistrement des clics**  \n",
    "- Chaque ligne représente **un clic** effectué par un utilisateur sur un article **(click_article_id)**.  \n",
    "- Le **timestamp du clic (click_timestamp)** indique le moment précis où l'article a été consulté.  \n",
    "- Plusieurs clics peuvent être enregistrés pour une même session.\n",
    "\n",
    "#### 3️⃣ **Contexte des clics**  \n",
    "- **click_environment** : Plateforme ou environnement où le clic s'est produit (ex: mobile, desktop).  \n",
    "- **click_deviceGroup** : Type d’appareil utilisé (ex: smartphone, PC, tablette).  \n",
    "- **click_os** : Système d’exploitation utilisé (ex: Windows, iOS, Android).  \n",
    "- **click_country** et **click_region** : Localisation de l'utilisateur.  \n",
    "- **click_referrer_type** : Type de site depuis lequel l'utilisateur est arrivé (ex: moteur de recherche, réseau social).\n",
    "\n",
    "#### 4️⃣ **Fin de session**  \n",
    "- Une session regroupe **tous les clics enregistrés pour un même session_id**.  \n",
    "- La **durée de la session (hour)** peut être calculée en prenant la différence entre le premier et le dernier **click_timestamp**.\n",
    "\n",
    "---\n",
    "\n",
    "### **Exemple illustré**\n",
    "#### **Session de l'utilisateur 0**  \n",
    "👤 **User_id** = 0  \n",
    "🆔 **Session_id** = 1506825423271737  \n",
    "🕒 **Session_start** = 1506825423000  \n",
    "📄 **Session_size** = 2  \n",
    "\n",
    "| Click # | Click Article ID | Click Timestamp |\n",
    "|---------|-----------------|----------------|\n",
    "| 1 | 157541 | 1506826828020 |\n",
    "| 2 | 68866  | 1506826858020 |\n",
    "\n",
    "🔹 L'utilisateur **a cliqué sur 2 articles** pendant cette session.  \n",
    "🔹 Il a cliqué sur le premier article à **1506826828020** et le second à **1506826858020**.\n",
    "\n",
    "---\n",
    "\n",
    "### **Conclusion**\n",
    "Ce fichier permet de **suivre l'activité des utilisateurs**, d'identifier les articles les plus consultés et d'analyser le comportement des utilisateurs en fonction de leur appareil, localisation et source de trafic."
   ]
  },
  {
   "metadata": {
    "id": "dXerRnoKTcYg"
   },
   "cell_type": "markdown",
   "source": [
    "|Variable|Description|\n",
    "|--------|-----------|\n",
    "|__user_id__ | identifiant d'utilisateur|\n",
    "|__session_id__ | identifiant d'une session|\n",
    "| __session_start__ | date de début de la session|\n",
    "| __session_size__ | nombre d'articles vus pendant la session|\n",
    "| __click_article_id__ | identifiant d'article sur lequel on a cliqué|\n",
    "| __click_timestamp__ | Horodatage (timestamp) du moment où un clic sur un article a eu lieu|\n",
    "| __click_environment__ | environnement ou plate-forme où l'événement de clic s'est produit|\n",
    "| __click_deviceGroup__ | type d'appareil ou de plate-forme qu'un utilisateur utilise|\n",
    "| __click_os__ | identifiant du système d'exploitation|\n",
    "| __click_country__ | pays de l'utilisateur|\n",
    "| __click_region__ | région de l'utilisateur|\n",
    "| __click_referrer_type__ | type de site de provenance|\n",
    "| __hour__ | durée de la session en heures|\n",
    "\n",
    "`click_environment`:\n",
    "1. Facebook\n",
    "2. Mobile App\n",
    "3. Mobile Pages\n",
    "4. Web  \n",
    "\n",
    "`click_deviceGroup`:\n",
    "1. Tablet  \n",
    "2. TV  \n",
    "4. Mobile\n",
    "5. Computer\n",
    "3. blank  \n",
    "\n",
    "`click_os`:  \n",
    "1. Other  \n",
    "2. iOS  \n",
    "3. Android  \n",
    "4. Windows Phone  \n",
    "5. Windows Mobile  \n",
    "6. Windows  \n",
    "7. Mac OS X  \n",
    "8. Mac OS  \n",
    "9. Samsung  \n",
    "10. FireHbbTV  \n",
    "11. ATV OS X  \n",
    "12. tvOS  \n",
    "13. Chrome OS  \n",
    "14. Debian  \n",
    "15. Symbian OS  \n",
    "16. BlackBerry OS  \n",
    "17. Firefox OS  \n",
    "18. Android  \n",
    "19. Brew MP  \n",
    "20. Chromecast  \n",
    "21. webOS  \n",
    "22. Gentoo  \n",
    "23. Solaris"
   ]
  },
  {
   "metadata": {},
   "cell_type": "markdown",
   "source": [
    "### **⚠️ Attention aux timestamps !**\n",
    "L’analyse des données montre que la colonne **`click_timestamp`** contient des valeurs élevées, comme **1506961009961**.  \n",
    "\n",
    "**💡 Explication du timestamp :**\n",
    "- En informatique, un timestamp est une valeur numérique qui représente un **instant précis dans le temps**.\n",
    "- Il est généralement exprimé en **secondes ou en millisecondes** depuis le **1er janvier 1970 à minuit UTC** (appelé l’**Epoch Unix**).\n",
    "\n",
    "**🔍 Comment vérifier ?**\n",
    "- Si les valeurs du timestamp sont **trop grandes** (comme `1506961009961`), elles sont probablement en **millisecondes**.\n",
    "- Un timestamp en **secondes** aurait une valeur plus courte, typiquement autour de **10 chiffres** (`1506961000`).\n",
    "\n",
    "**🛠️ Que faire ?**\n",
    "👉 **Convertir les timestamps en dates lisibles** en fonction de leur unité :\n",
    "\n",
    "#### **1️⃣ Si le timestamp est en secondes :**\n",
    "```python\n",
    "df_dossier_clicks['click_timestamp'] = pd.to_datetime(df_dossier_clicks['click_timestamp'], unit='s')\n",
    "```\n",
    "\n",
    "#### **2️⃣ Si le timestamp est en millisecondes :**\n",
    "```python\n",
    "df_dossier_clicks['click_timestamp'] = pd.to_datetime(df_dossier_clicks['click_timestamp'], unit='ms')\n",
    "```\n",
    "\n",
    "**📌 Pourquoi c'est important ?**\n",
    "- Une mauvaise conversion peut **décaler** toutes les dates d'environ **31 000 ans** 🕰️ !\n",
    "- **Avant toute analyse temporelle (filtrage par date, tendances, etc.), il est crucial de bien interpréter l’unité du timestamp.**\n",
    "\n",
    "🚀 **Pour la suite du projet, nous allons valider si les timestamps sont en secondes ou millisecondes et les convertir correctement.**"
   ]
  },
  {
   "metadata": {},
   "cell_type": "markdown",
   "source": "### transformer certaines colonnes d'un DataFrame df_clicks en types de données spécifiques, à savoir des entiers et des catégories pour prétraiter les données."
  },
  {
   "cell_type": "code",
   "source": [
    "# int_cols est une liste des colonnes à convertir en entier\n",
    "int_cols = ['user_id', 'session_id', 'session_start', 'session_size', 'click_article_id', 'click_timestamp', 'hour']\n",
    "\n",
    "# cat_cols est une liste des colonnes à convertir en catégorie\n",
    "cat_cols = ['click_environment', 'click_deviceGroup', 'click_os', 'click_country', 'click_region', 'click_referrer_type']\n",
    "\n",
    "# Convertir les colonnes en entier et en catégorie dans le DataFrame df_clicks\n",
    "df_clicks = convert_columns_to_integer(df_clicks, int_cols)\n",
    "df_clicks = convert_columns_to_categorical(df_clicks, cat_cols)"
   ],
   "metadata": {
    "id": "3N-TSDOSQZeA"
   },
   "outputs": [],
   "execution_count": null
  },
  {
   "cell_type": "code",
   "source": [
    "# Mapping des valeurs catégorielles pour les colonnes click_environment, click_deviceGroup et click_os afin de rendre les données plus lisibles.\n",
    "\n",
    "environment_mapping = {1: \"Facebook\", 2: \"Mobile App\", 3: \"Mobile Pages\", 4: \"Web\"}\n",
    "os_mapping = {\n",
    "    1: \"Other\",\n",
    "    2: \"iOS\",\n",
    "    3: \"Android\",\n",
    "    4: \"Windows Phone\",\n",
    "    5: \"Windows Mobile\",\n",
    "    6: \"Windows\",\n",
    "    7: \"Mac OS X\",\n",
    "    8: \"Mac OS\",\n",
    "    9: \"Samsung\",\n",
    "    10: \"FireHbbTV\",\n",
    "    11: \"ATV OS X\",\n",
    "    12: \"tvOS\",\n",
    "    13: \"Chrome OS\",\n",
    "    14: \"Debian\",\n",
    "    15: \"Symbian OS\",\n",
    "    16: \"BlackBerry OS\",\n",
    "    17: \"Firefox OS\",\n",
    "    18: \"Android\",\n",
    "    19: \"Brew MP\",\n",
    "    20: \"Chromecast\",\n",
    "    21: \"webOS\",\n",
    "    22: \"Gentoo\",\n",
    "    23: \"Solaris\"\n",
    "}\n",
    "\n",
    "device_mapping = {\n",
    "    1: \"Tablet\",\n",
    "    2: \"TV\",\n",
    "    3: \"Mobile\",\n",
    "    4: \"Computer\",\n",
    "    5: \"blank\"\n",
    "}\n",
    "\n",
    "\n",
    "# Appliquer le mapping aux colonnes correspondantes\n",
    "df_clicks['click_environment'] = df_clicks['click_environment'].map(environment_mapping)\n",
    "df_clicks['click_deviceGroup'] = df_clicks['click_deviceGroup'].map(device_mapping)\n",
    "df_clicks['click_os'] = df_clicks['click_os'].map(os_mapping)"
   ],
   "metadata": {
    "id": "hoGHVvDA_DdT"
   },
   "outputs": [],
   "execution_count": null
  },
  {
   "cell_type": "code",
   "source": [
    "# Afficher les 5 premières lignes\n",
    "df_clicks.head()"
   ],
   "metadata": {
    "colab": {
     "base_uri": "https://localhost:8080/"
    },
    "id": "3ZaVPYWeJb1h",
    "outputId": "d3c41cad-5cac-459d-a52f-f9657dc15a82"
   },
   "outputs": [],
   "execution_count": null
  },
  {
   "cell_type": "code",
   "source": [
    "df_clicks.tail()"
   ],
   "metadata": {
    "colab": {
     "base_uri": "https://localhost:8080/"
    },
    "id": "itfp-W7dc5T-",
    "outputId": "59e5889c-63c4-4918-df28-c03b7de41ae4"
   },
   "outputs": [],
   "execution_count": null
  },
  {
   "cell_type": "code",
   "source": [
    "df_clicks.describe()"
   ],
   "metadata": {
    "colab": {
     "base_uri": "https://localhost:8080/"
    },
    "id": "gm8MQfqCPMT_",
    "outputId": "dd3e8aad-01c6-4319-ffc8-406e8983e5e7"
   },
   "outputs": [],
   "execution_count": null
  },
  {
   "cell_type": "markdown",
   "source": [
    "Vérifions s'il existe des doublons."
   ],
   "metadata": {
    "id": "g6tW2OWVH4-Q"
   }
  },
  {
   "cell_type": "code",
   "source": [
    "df_clicks.duplicated().sum()"
   ],
   "metadata": {
    "colab": {
     "base_uri": "https://localhost:8080/"
    },
    "id": "k0UId-CvQ0DN",
    "outputId": "504ececf-600e-495d-9e38-a4fdbe658eda"
   },
   "outputs": [],
   "execution_count": null
  },
  {
   "cell_type": "markdown",
   "source": [
    "# 2. Analyse des données <a name=\"analyse\"></a>"
   ],
   "metadata": {
    "id": "7LOOtQ1-1Zkk"
   }
  },
  {
   "cell_type": "markdown",
   "source": [
    "## 2.1. Valeurs aberrantes <a name=\"analyse-outliers\"></a>"
   ],
   "metadata": {
    "id": "AfOkBPHHmCOb"
   }
  },
  {
   "cell_type": "markdown",
   "source": [
    "Pour visualiser les outliers représentons les valeurs des variables quantitatives sous forme des boîtes à moustaches."
   ],
   "metadata": {
    "id": "RYCB8udplfNJ"
   }
  },
  {
   "cell_type": "code",
   "source": [
    "boxplot_columns(df_articles_metadata, ['created_at_ts', 'words_count'], figsize=(25, 6))"
   ],
   "metadata": {
    "colab": {
     "base_uri": "https://localhost:8080/"
    },
    "id": "6wF5sFLYMpm1",
    "outputId": "649e2aa6-e8cd-419e-88db-6d2326aa6eef"
   },
   "outputs": [],
   "execution_count": null
  },
  {
   "cell_type": "code",
   "source": [
    "cols = ['session_start', 'session_size', 'click_timestamp', 'hour']\n",
    "boxplot_columns(df_clicks, cols, figsize=(25, 10))"
   ],
   "metadata": {
    "colab": {
     "base_uri": "https://localhost:8080/"
    },
    "id": "_dn3giqw0i9I",
    "outputId": "45daae52-bfe2-467a-da21-89a2bc673b31"
   },
   "outputs": [],
   "execution_count": null
  },
  {
   "cell_type": "markdown",
   "source": [
    "Il n'y a pas de valeurs impossibles pour ces variables."
   ],
   "metadata": {
    "id": "r8_Av93c6rtW"
   }
  },
  {
   "cell_type": "markdown",
   "source": [
    "## 2.2. Analyse univariée <a name=\"analyse-uni\"></a>"
   ],
   "metadata": {
    "id": "vdtMH7mp6u5X"
   }
  },
  {
   "cell_type": "markdown",
   "source": [
    "### Les catégories d'article"
   ],
   "metadata": {
    "id": "L9Nz7fbBMuMY"
   }
  },
  {
   "cell_type": "code",
   "source": [
    "categorical_column_distribution_chart(df_articles_metadata, category_column='category_id', x_title='Catégorie', title=\"Répartition des catégories par article\")"
   ],
   "metadata": {
    "colab": {
     "base_uri": "https://localhost:8080/"
    },
    "id": "JYA5sWnqwh6c",
    "outputId": "de930afb-dcdc-4489-a66f-51ab02fb0735"
   },
   "outputs": [],
   "execution_count": null
  },
  {
   "metadata": {},
   "cell_type": "markdown",
   "source": [
    "### Observations :\n",
    "\n",
    "- En abscisse, on a les **catégories** d'articles, identifiées par leur ID (`category_id`).\n",
    "- En ordonnée, on a le **pourcentage** de chaque catégorie par rapport au total des articles.\n",
    "- Pour rappel, il y a **364 047 articles** dans le jeu de données répartis dans **461 catégories différentes**.\n",
    "- La catégorie **281** est la plus représentée dans le jeu de données, dépassant **3,5 %** du total.\n",
    "- La majorité des catégories ont une proportion inférieure à **1 %**, suggérant une longue traîne dans la distribution.\n",
    "- Certaines catégories au-delà de l’ID **400** montrent des pics notables, mais elles restent relativement rares.\n",
    "- La distribution semble très déséquilibrée, avec une dominance marquée par quelques catégories, tandis que beaucoup d'autres ont une faible présence.\n",
    "\n",
    "### Suggestions pour l'analyse :\n",
    "- Vérifier si certaines catégories peuvent être regroupées selon des critères communs pour réduire l’hétérogénéité.\n",
    "- Explorer les catégories peu représentées pour évaluer leur pertinence ou leur niche dans le système de recommandation.\n",
    "- Étudier les corrélations potentielles entre la **taille des articles** (via `words_count`) et leur **catégorie**.\n"
   ]
  },
  {
   "cell_type": "markdown",
   "source": [
    "### Date de création d'articles :\n",
    "- Sert à identifier les périodes de publication des articles pour évaluer la fraîcheur des données."
   ],
   "metadata": {
    "id": "Wfe8atlIfW11"
   }
  },
  {
   "cell_type": "code",
   "source": [
    "# Afficher la distribution de la date de création des articles\n",
    "plot_timestamp_chart(df_articles_metadata, 'created_at_ts', title=\"Date de création d'articles\")"
   ],
   "metadata": {
    "colab": {
     "base_uri": "https://localhost:8080/"
    },
    "id": "P8a6e0Dw-rVs",
    "outputId": "a3cfa206-ed05-4344-844a-55c2ab788e8a"
   },
   "outputs": [],
   "execution_count": null
  },
  {
   "cell_type": "markdown",
   "source": [
    "### **Observations sur la distribution des dates de création des articles** 📊\n",
    "- Le graphique montre la distribution des dates de création des articles qui s'est étendue sur une période de plusieurs années, d'environ de 2013 à 2018.  "
   ],
   "metadata": {
    "id": "jYcFPeOmfLNh"
   }
  },
  {
   "cell_type": "markdown",
   "source": [
    "### Nombre de mots dans des articles :\n",
    "- Permet d'évaluer la longueur des articles et leur complexité\n",
    "- Pour la recommandation, cela peut être utilisé pour évaluer la diversité des articles."
   ],
   "metadata": {
    "id": "nBitVbkAfsrR"
   }
  },
  {
   "cell_type": "code",
   "source": [
    "# Afficher la distribution du nombre de mots dans les articles\n",
    "plot_histogram(df_articles_metadata, 'words_count', bins=500, x_title=\"word\")"
   ],
   "metadata": {
    "colab": {
     "base_uri": "https://localhost:8080/",
     "height": 617
    },
    "id": "zE0H0ncAfv3c",
    "outputId": "519524ba-443f-42fe-ed35-43116e677efd"
   },
   "outputs": [],
   "execution_count": null
  },
  {
   "cell_type": "markdown",
   "source": [
    "Le graphique montre la distribution de nombre de mots dans les articles.  \n",
    "D'après le graphique, la majorité des articles, soit 60 %, contiennent moins de 200 mots."
   ],
   "metadata": {
    "id": "s0pn8c76iyqD"
   }
  },
  {
   "cell_type": "markdown",
   "source": [
    "### Date de début de la session"
   ],
   "metadata": {
    "id": "BAzc2_E6kvpJ"
   }
  },
  {
   "metadata": {},
   "cell_type": "code",
   "source": [
    "import pandas as pd\n",
    "\n",
    "# Charger les données\n",
    "df_clicks = pd.read_csv(\"data/clicks_sample.csv\")\n",
    "\n",
    "# Vérifier les valeurs brutes\n",
    "print(\"Valeurs brutes de session_start :\")\n",
    "print(df_clicks['session_start'].describe())\n",
    "\n",
    "# Vérifier si le timestamp est en secondes ou millisecondes\n",
    "if df_clicks['session_start'].max() < 10**10:  # Probablement en secondes\n",
    "    df_clicks['session_start'] = pd.to_datetime(df_clicks['session_start'], unit='s')\n",
    "else:  # Probablement en millisecondes\n",
    "    df_clicks['session_start'] = pd.to_datetime(df_clicks['session_start'], unit='ms')\n",
    "\n",
    "# Vérification après conversion\n",
    "print(\"Valeurs converties :\")\n",
    "print(df_clicks['session_start'].describe())\n",
    "\n",
    "# Afficher la période correcte\n",
    "print(\"La période des données s'étend du {} au {}\".format(\n",
    "    df_clicks['session_start'].min().strftime('%Y-%m-%d %H:%M:%S'),\n",
    "    df_clicks['session_start'].max().strftime('%Y-%m-%d %H:%M:%S')\n",
    "))\n"
   ],
   "outputs": [],
   "execution_count": null
  },
  {
   "metadata": {},
   "cell_type": "code",
   "source": "",
   "outputs": [],
   "execution_count": null
  },
  {
   "cell_type": "code",
   "source": [
    "# Afficher la distribution de la date de début de la session. L'objectif est de comprendre la période de consultation des articles. \"plot_timestamp_chart_day_format\" est une fonction personnalisée pour afficher les graphiques de distribution de la date.\n",
    "plot_timestamp_chart_day_format(df_clicks, 'session_start', title=\"Date de début de la session\")"
   ],
   "metadata": {
    "colab": {
     "base_uri": "https://localhost:8080/"
    },
    "id": "QaM7-PpipOIM",
    "outputId": "eb2666b2-e6c2-4699-8498-7c98530a20a8"
   },
   "outputs": [],
   "execution_count": null
  },
  {
   "metadata": {},
   "cell_type": "markdown",
   "source": [
    "### Observations sur la distribution des dates de début de session :\n",
    "- Le graphique montre la distribution des dates de début de session, qui s'étend sur une période de 23 décembre 2017. Cette période sur une journée est due à l'échantillon de données utilisé qui est un sous-ensemble des clics et donc restreint dans le temps."
   ]
  },
  {
   "cell_type": "markdown",
   "source": [
    "### Date du clic"
   ],
   "metadata": {
    "id": "-eDY-ParfjFg"
   }
  },
  {
   "cell_type": "code",
   "source": [
    "plot_timestamp_chart_day_format(df_clicks, 'click_timestamp', title=\"Date du clic\")"
   ],
   "metadata": {
    "colab": {
     "base_uri": "https://localhost:8080/"
    },
    "id": "J69Q21Hh1vVj",
    "outputId": "6b22e3dc-6df8-419f-ca74-361b288d7e1e"
   },
   "outputs": [],
   "execution_count": null
  },
  {
   "cell_type": "markdown",
   "source": [
    "### Durée de la session"
   ],
   "metadata": {
    "id": "c72ZGs2J5oRl"
   }
  },
  {
   "metadata": {},
   "cell_type": "code",
   "source": "print(df_clicks.columns)  # Vérifiez que 'hour' est bien dans la liste des colonnes\n",
   "outputs": [],
   "execution_count": null
  },
  {
   "metadata": {},
   "cell_type": "code",
   "source": [
    "# Avant d'appeler la fonction, s'assurer que la colonne 'hour' existe\n",
    "if 'hour' not in df_clicks.columns:\n",
    "    df_clicks['hour'] = df_clicks['session_start'].dt.hour\n",
    "\n",
    "# Maintenant on peut appeler la fonction\n",
    "plot_histogram(df_clicks, 'hour', bins=20, x_title=\"Hour of the day\")"
   ],
   "outputs": [],
   "execution_count": null
  },
  {
   "metadata": {},
   "cell_type": "markdown",
   "source": " Le graphique indique que la plupart des sessions commencent entre 2h et 3h du matin, ce qui pourrait être une anomalie ou une tendance nocturne à analyser"
  },
  {
   "cell_type": "markdown",
   "source": [
    "### Session size"
   ],
   "metadata": {
    "id": "HypkYADacDdj"
   }
  },
  {
   "cell_type": "code",
   "source": [
    "plot_histogram(df_clicks, 'session_size', bins=60, x_title=\"hour\")"
   ],
   "metadata": {
    "colab": {
     "base_uri": "https://localhost:8080/"
    },
    "id": "NM5yKIk3beRi",
    "outputId": "83ae4306-b96b-4c99-beb3-3fea49d7c8b2"
   },
   "outputs": [],
   "execution_count": null
  },
  {
   "metadata": {},
   "cell_type": "markdown",
   "source": [
    "### **📊 Analyse du graphique sur la taille des sessions**\n",
    "Le graphique représente la distribution de la taille des sessions (`session_size`), c'est-à-dire **le nombre de clics (articles consultés) par session**.\n",
    "\n",
    "---\n",
    "\n",
    "### **🔍 Observations**\n",
    "1. **La majorité des sessions sont courtes**  \n",
    "   - La **grande majorité des sessions contiennent moins de 10 articles**.\n",
    "   - Un **pic très marqué** est visible pour les petites sessions (2 à 4 articles).\n",
    "\n",
    "2. **Diminution rapide**  \n",
    "   - Plus la taille de la session augmente, **moins on observe de sessions**.\n",
    "   - Il y a **quelques sessions exceptionnelles avec un nombre élevé de clics** (autour de **15 et 20 articles**), mais elles sont très rares.\n",
    "\n",
    "3. **Possible biais utilisateur**  \n",
    "   - Le comportement des utilisateurs semble **être tourné vers des sessions courtes**.\n",
    "   - Cela peut être lié à une **navigation rapide**, une **faible fidélisation** ou une **consultation ponctuelle d'articles précis**.\n",
    "\n",
    "\n",
    "🚀 **Cette analyse suggère que les utilisateurs consultent peu d’articles par session, ce qui peut être un facteur clé dans l’amélioration de l’expérience utilisateur et de la recommandation de contenu.**"
   ]
  },
  {
   "cell_type": "markdown",
   "source": [
    "### Environnement du clic"
   ],
   "metadata": {
    "id": "XLUJ0l3V1Yo3"
   }
  },
  {
   "cell_type": "code",
   "source": [
    "categorical_column_distribution_chart(df_clicks, category_column='click_environment', without_dups_col=['session_id'], x_title='Environnement', title=\"Type d'environnement utilisé dans différentes sessions\")"
   ],
   "metadata": {
    "colab": {
     "base_uri": "https://localhost:8080/"
    },
    "id": "gt1kfu-PgH2C",
    "outputId": "60aea791-f2f3-4e7a-ca7f-ed0d33276d76"
   },
   "outputs": [],
   "execution_count": null
  },
  {
   "metadata": {},
   "cell_type": "markdown",
   "source": [
    "### **📊 Analyse du graphique sur l’environnement utilisé**\n",
    "Ce graphique représente la distribution des **types d’environnement** utilisés par les utilisateurs lors des sessions.\n",
    "\n",
    "---\n",
    "\n",
    "### **🔍 Observations**\n",
    "1. **Un environnement ultra-dominant**  \n",
    "   - L’environnement **\"4\"** est **massivement majoritaire**, représentant **95,63% des sessions**.\n",
    "   - Cela suggère que la quasi-totalité des utilisateurs passent par **une seule plateforme** (probablement **le Web**).\n",
    "\n",
    "2. **Présence d’autres environnements, mais en très faible proportion**  \n",
    "   - **L’environnement \"2\"** représente **3,81%** des sessions.\n",
    "   - **Les environnements \"1\" et \"0.5\"** sont **quasiment inexistants**, avec **0,56% et 0,5%** des sessions.\n",
    "\n",
    "3. **Hypothèse sur la signification des valeurs**  \n",
    "   - Si **4 = Web**, alors la navigation **via le Web domine largement l’usage**.\n",
    "   - **D’autres environnements** pourraient correspondre à des **applications mobiles, TV, ou autres plateformes**, mais ils sont **marginaux**.\n",
    "\n",
    "🚀 **Ce graphique confirme que l’essentiel de la navigation se fait via un seul type d’environnement, ce qui peut avoir un impact sur les recommandations et l’optimisation de la plateforme.**"
   ]
  },
  {
   "cell_type": "markdown",
   "source": [
    "### Type d'appareil utilisé"
   ],
   "metadata": {
    "id": "ej7UtcqlgIRy"
   }
  },
  {
   "cell_type": "code",
   "source": [
    "categorical_column_distribution_chart(df_clicks, category_column='click_deviceGroup', without_dups_col=['session_id'], x_title='Appareil', title=\"Divers appareils utilisés lors des sessions\")"
   ],
   "metadata": {
    "colab": {
     "base_uri": "https://localhost:8080/"
    },
    "id": "NQXnA09tgbwn",
    "outputId": "168b51b8-5c77-4666-a67c-648f3d68ab13"
   },
   "outputs": [],
   "execution_count": null
  },
  {
   "metadata": {},
   "cell_type": "markdown",
   "source": [
    "### **📊 Analyse du graphique sur les appareils utilisés**\n",
    "Ce graphique représente la répartition des différents **types d’appareils** utilisés par les utilisateurs lors de leurs sessions.\n",
    "\n",
    "---\n",
    "\n",
    "### **🔍 Observations**\n",
    "1. **Deux types d’appareils dominent l’usage**  \n",
    "   - L’appareil **\"3\"** est le plus utilisé, représentant **56,72% des sessions**.\n",
    "   - L’appareil **\"1\"** suit avec **37,62% des sessions**.\n",
    "\n",
    "2. **Un troisième type d’appareil marginal**  \n",
    "   - L’appareil **\"4\"** est **nettement moins utilisé**, avec seulement **5,66% des sessions**.\n",
    "\n",
    "3. **Interprétation possible**  \n",
    "   - Si **\"3\" représente les tablettes**, alors celles-ci sont **le mode de navigation principal**.\n",
    "   - **\"1\" pourrait correspondre aux smartphones**, expliquant pourquoi une part significative des sessions y est enregistrée.\n",
    "   - **\"4\" pourrait être les ordinateurs**, ce qui indiquerait **un usage relativement faible du desktop**.\n",
    "\n",
    "\n",
    "🚀 **L’analyse montre une préférence pour la navigation mobile (tablettes et smartphones), ce qui peut être crucial pour l’optimisation du contenu et des recommandations.**"
   ]
  },
  {
   "cell_type": "markdown",
   "source": [
    "### Système d'exploitation utilisé"
   ],
   "metadata": {
    "id": "VNUgrmYmhql3"
   }
  },
  {
   "cell_type": "code",
   "source": [
    "categorical_column_distribution_chart(df_clicks, category_column='click_os', without_dups_col=['session_id'], x_title='OS', title=\"Divers OS utilisés lors des sessions\")"
   ],
   "metadata": {
    "colab": {
     "base_uri": "https://localhost:8080/"
    },
    "id": "el0sSKhQhq1d",
    "outputId": "4e728866-d6d5-4fdd-cbf2-882695065000"
   },
   "outputs": [],
   "execution_count": null
  },
  {
   "metadata": {},
   "cell_type": "markdown",
   "source": [
    "### **📊 Analyse mise à jour du graphique sur les systèmes d’exploitation (OS) utilisés**\n",
    "Grâce aux informations supplémentaires, nous pouvons maintenant **associer les valeurs affichées sur le graphique aux véritables OS correspondants**.\n",
    "\n",
    "---\n",
    "\n",
    "### **🔍 Observations mises à jour**\n",
    "1. **Trois OS dominent l’usage**  \n",
    "   - **Firefox OS (37.48%)** est le système le plus utilisé par les utilisateurs.\n",
    "   - **Android (33.8%)** arrive en **deuxième position**, confirmant une forte utilisation mobile.\n",
    "   - **Chromecast (24.05%)** représente également une part significative, indiquant que **de nombreux utilisateurs consomment du contenu via un appareil de streaming**.\n",
    "\n",
    "2. **Présence marginale d’autres OS**  \n",
    "   - **iOS (3.25%)** est étonnamment peu représenté, contrairement à ce que l’on pourrait attendre.\n",
    "   - **D’autres systèmes comme Windows, Mac OS X, et Linux sont presque absents**, ce qui montre que **les ordinateurs classiques ne sont pas les supports privilégiés**.\n",
    "\n",
    "3. **Enjeux pour l’optimisation des recommandations**  \n",
    "   - **Une forte proportion d’utilisateurs sur Firefox OS et Android** implique qu’**une grande partie de l’audience provient d’appareils mobiles et TV connectées**.\n",
    "   - **L’adaptation des recommandations et du design au mobile et aux plateformes de streaming est essentielle**.\n",
    "   - **L’absence notable d’OS desktop** (Windows, Mac OS) indique que **les utilisateurs privilégient des sessions courtes et mobiles plutôt qu’une navigation approfondie sur ordinateur**.\n",
    "\n",
    "🚀 **Avec cette analyse, il est clair que l’accent doit être mis sur l’optimisation mobile et sur l’expérience utilisateur des plateformes de streaming, car elles constituent la majorité des usages.**"
   ]
  },
  {
   "cell_type": "markdown",
   "source": [
    "### Pays depuis le quel le clic a été réalisé"
   ],
   "metadata": {
    "id": "huUBO9Xehz2K"
   }
  },
  {
   "cell_type": "code",
   "source": [
    "categorical_column_distribution_chart(df_clicks, category_column='click_country', without_dups_col=['session_id'], x_title='Code de pays', title=\"Localisation des clics par pays\")"
   ],
   "metadata": {
    "colab": {
     "base_uri": "https://localhost:8080/"
    },
    "id": "hba28qwoh0FH",
    "outputId": "fd8ac599-ff4c-4b40-c02d-b0c7147fb09b"
   },
   "outputs": [],
   "execution_count": null
  },
  {
   "cell_type": "markdown",
   "source": [
    "Le graphique montre d'où proviennent les clics en fonction des pays.  \n",
    "Près de 95 % de ces clics ont été effectués depuis le pays associé au code 1, probablement le Brésil."
   ],
   "metadata": {
    "id": "ajYLI8oQZIMj"
   }
  },
  {
   "cell_type": "markdown",
   "source": [
    "### Région de l'utilisateur"
   ],
   "metadata": {
    "id": "WlODeh4Oh78c"
   }
  },
  {
   "cell_type": "code",
   "source": [
    "categorical_column_distribution_chart(df_clicks, category_column='click_region', without_dups_col=['session_id'], x_title='Code de région', title=\"Localisation des clics par région\")"
   ],
   "metadata": {
    "colab": {
     "base_uri": "https://localhost:8080/"
    },
    "id": "mqHIQ5I8h-xD",
    "outputId": "3510b844-f687-4ed4-f185-c5eef0f882fd"
   },
   "outputs": [],
   "execution_count": null
  },
  {
   "metadata": {},
   "cell_type": "markdown",
   "source": [
    "### **📊 Analyse du graphique sur la localisation des utilisateurs par région**\n",
    "Ce graphique représente la répartition des **clics en fonction des régions**, permettant d’identifier les zones géographiques les plus actives.\n",
    "\n",
    "---\n",
    "\n",
    "### **🔍 Observations**\n",
    "1. **Deux régions dominent largement**  \n",
    "   - La région **25** représente **26,94% des sessions**, ce qui en fait la zone la plus active en termes de clics.\n",
    "   - La région **20** suit avec **17,66% des sessions**, confirmant son importance dans l’engagement des utilisateurs.\n",
    "\n",
    "2. **Quelques autres régions avec une activité modérée**  \n",
    "   - Les régions **15 (7,34%)** et **16 (6,36%)** montrent une activité significative mais bien inférieure aux deux principales.\n",
    "   - La région **10 (5,23%)** a également un certain volume d’interactions.\n",
    "\n",
    "3. **De nombreuses régions peu représentées**  \n",
    "   - Un grand nombre de codes de régions affichent une part inférieure à **5%**, ce qui montre une **forte concentration des clics sur quelques zones spécifiques**.\n",
    "   - Certaines régions sont presque inexistantes en termes d’interactions.\n",
    "\n",
    "4. **Interprétation des résultats**  \n",
    "   - **Les recommandations et contenus personnalisés pourraient être optimisés pour les régions les plus actives** (25 et 20).\n",
    "   - **Une analyse plus approfondie est nécessaire** pour comprendre pourquoi certaines régions ont une faible participation : manque de couverture, faible population ou préférences de navigation différentes.\n",
    "\n",
    "\n",
    "🚀 **Ces observations montrent l’importance d’adapter les recommandations aux préférences régionales et de comprendre pourquoi certaines régions sont moins actives.**"
   ]
  },
  {
   "cell_type": "markdown",
   "source": [
    "### Type de site de provenance"
   ],
   "metadata": {
    "id": "6dy2kMS7iKD-"
   }
  },
  {
   "cell_type": "code",
   "source": [
    "categorical_column_distribution_chart(df_clicks, category_column='click_referrer_type', without_dups_col=['session_id'], x_title='site', title=\"Type de site de provenance\")"
   ],
   "metadata": {
    "colab": {
     "base_uri": "https://localhost:8080/"
    },
    "id": "5kSvJ4H7iObX",
    "outputId": "5a3149e9-0c3f-4635-d4ba-97ed1f5c5dfb"
   },
   "outputs": [],
   "execution_count": null
  },
  {
   "metadata": {},
   "cell_type": "markdown",
   "source": [
    "### **📊 Analyse du graphique sur le type de site de provenance**\n",
    "Ce graphique illustre la **répartition des sessions en fonction du type de site de provenance**, c'est-à-dire d’où proviennent les utilisateurs avant de cliquer sur un article.\n",
    "\n",
    "---\n",
    "\n",
    "### **🔍 Observations**\n",
    "1. **Deux types de sites dominent clairement**  \n",
    "   - Le **type 2** est le plus fréquent, représentant **49,49%** des sessions.\n",
    "   - Le **type 1** suit de près avec **41,52%**, ce qui en fait également une source majeure de trafic.\n",
    "\n",
    "2. **Autres sources de provenance moins utilisées**  \n",
    "   - Le **type 5** représente **4,05%** des sessions, ce qui est relativement faible par rapport aux deux premiers.\n",
    "   - Les types **7 (2,41%)**, **6 (1,52%)** et **4 (1,01%)** ont une très faible contribution.\n",
    "\n",
    "3. **Interprétation des résultats**  \n",
    "   - **Les recommandations et stratégies d’acquisition devraient être adaptées aux types de sites majoritaires (1 et 2).**  \n",
    "   - **Une analyse plus approfondie des sites peu utilisés pourrait être utile** pour comprendre s’ils présentent un potentiel inexploité.\n",
    "\n",
    "🚀 **Ces observations mettent en évidence la nécessité d'optimiser le contenu pour les sources de trafic les plus fréquentes, tout en explorant de nouvelles opportunités d’acquisition.**"
   ]
  },
  {
   "cell_type": "markdown",
   "source": [
    "## 2.3. Analyse multivariée <a name=\"analyse-multi\"></a>"
   ],
   "metadata": {
    "id": "PP9k8u7ccYgt"
   }
  },
  {
   "cell_type": "markdown",
   "source": [
    "### Répartition des utilisateurs par nombre d'articles lus"
   ],
   "metadata": {
    "id": "pbRjLRliUEWW"
   }
  },
  {
   "cell_type": "code",
   "source": [
    "plot_user_article_distribution(df_clicks)"
   ],
   "metadata": {
    "id": "Ls8dslJk62iX",
    "colab": {
     "base_uri": "https://localhost:8080/"
    },
    "outputId": "5ad54340-566c-42b9-eca7-3feb7da811bb"
   },
   "outputs": [],
   "execution_count": null
  },
  {
   "metadata": {},
   "cell_type": "markdown",
   "source": [
    "### **📊 Analyse de la répartition des utilisateurs par nombre d'articles lus**\n",
    "Ce graphique illustre la **distribution du nombre d'articles lus par les utilisateurs**.\n",
    "\n",
    "---\n",
    "\n",
    "### **🔍 Observations**\n",
    "1. **Une grande majorité des utilisateurs lisent très peu d'articles**  \n",
    "   - Plus de **60% des utilisateurs lisent un seul article**.\n",
    "   - Environ **20% des utilisateurs lisent entre 2 et 3 articles**.\n",
    "   - Au-delà de 4 articles, le nombre d’utilisateurs chute drastiquement.\n",
    "\n",
    "2. **Lecture intensive très rare**  \n",
    "   - Très peu d’utilisateurs lisent plus de **10 articles**.\n",
    "   - **L’audience est donc plutôt passive**, avec une faible consommation de contenu.\n",
    "\n",
    "3. **Interprétation des résultats**  \n",
    "   - **Il est crucial de capter l’attention dès le premier article pour encourager la lecture d’autres contenus.**  \n",
    "   - **Des recommandations d’articles plus engageantes** ou une personnalisation du contenu pourraient inciter les utilisateurs à lire davantage.\n",
    "\n",
    "\n",
    "🚀 **Ces observations soulignent l'importance d'améliorer la pertinence des recommandations pour augmenter la durée des sessions et la fidélité des utilisateurs.**"
   ]
  },
  {
   "cell_type": "markdown",
   "source": [
    "### Répartition des articles par nombre de clics"
   ],
   "metadata": {
    "id": "guhke0aYUJ-C"
   }
  },
  {
   "cell_type": "code",
   "source": [
    "plot_article_per_user_distribution(df_clicks)"
   ],
   "metadata": {
    "colab": {
     "base_uri": "https://localhost:8080/"
    },
    "id": "vaveNmbgTi23",
    "outputId": "f1f5389e-baec-4dd8-cdb3-8eeb25588204"
   },
   "outputs": [],
   "execution_count": null
  },
  {
   "metadata": {},
   "cell_type": "markdown",
   "source": [
    "### **📊 Analyse de la répartition des articles par nombre de lectures**\n",
    "Ce graphique représente la **distribution du nombre de lectures par article**.\n",
    "\n",
    "---\n",
    "\n",
    "### **🔍 Observations**\n",
    "1. **Une très forte concentration des clics sur un faible nombre d'articles**  \n",
    "   - Près de **50% des articles n'ont été lus qu'une seule fois**.\n",
    "   - Environ **30% des articles ont reçu entre 2 et 3 lectures**.\n",
    "   - Très peu d'articles dépassent **10 lectures**.\n",
    "\n",
    "2. **Un phénomène de long tail marqué**  \n",
    "   - La majorité des articles sont peu consultés, tandis qu'une minorité génère un nombre significatif de clics.\n",
    "   - Cela souligne l'importance d’un **algorithme de recommandation efficace** pour exposer plus d'articles aux utilisateurs.\n",
    "\n",
    "3. **Opportunités d'amélioration**  \n",
    "   - **Optimiser la diversité des recommandations** pour éviter une surexposition des mêmes articles.\n",
    "   - **Augmenter la découvrabilité des articles moins lus** via des recommandations contextuelles ou personnalisées.\n",
    "\n",
    "\n",
    "💡 **Conclusion :**  \n",
    "➡️ **Ce déséquilibre dans la distribution des lectures indique un fort biais de consommation des articles.**  \n",
    "➡️ **Les recommandations devront aider à équilibrer la visibilité des contenus pour améliorer l'engagement global.**"
   ]
  },
  {
   "metadata": {
    "colab": {
     "base_uri": "https://localhost:8080/"
    },
    "id": "hR5l7zFAhXyM",
    "outputId": "16f306e2-2010-4799-d613-9f79166918ed"
   },
   "cell_type": "code",
   "source": [
    "print(\"Le nombre total des utilisateurs :\", df_clicks['user_id'].nunique())\n",
    "print(\"Le nombre total des sessions :\", df_clicks['session_id'].nunique())"
   ],
   "outputs": [],
   "execution_count": null
  },
  {
   "cell_type": "markdown",
   "source": [
    "# 3. Préparation du jeu de données d'étude <a name=\"preparation\">"
   ],
   "metadata": {
    "id": "7XeXq2cg4kVS"
   }
  },
  {
   "cell_type": "markdown",
   "source": [
    "## 3.1.  Fusion des données <a name=\"preparation-fusion\">"
   ],
   "metadata": {
    "id": "YzQNidu1c7x-"
   }
  },
  {
   "cell_type": "markdown",
   "source": [
    "Nous allons fusionner df_clicks et df_articles_metadata, en se basant sur les colonnes `click_article_id` et `article_id`, ce qui donne comme résultat un DataFrame fusionné (`df_merged`)."
   ],
   "metadata": {
    "id": "TESwLNGjGn8j"
   }
  },
  {
   "cell_type": "code",
   "source": [
    "df_merged = pd.merge(df_clicks, df_articles_metadata, how='left', left_on='click_article_id', right_on='article_id')\n",
    "df_merged.info()"
   ],
   "metadata": {
    "colab": {
     "base_uri": "https://localhost:8080/"
    },
    "id": "XEdQ0EMVFmu_",
    "outputId": "f0f5a262-1359-4817-84f0-2c61feffacab"
   },
   "outputs": [],
   "execution_count": null
  },
  {
   "cell_type": "code",
   "source": [
    "df_merged.head()"
   ],
   "metadata": {
    "colab": {
     "base_uri": "https://localhost:8080/"
    },
    "id": "spF-QjzcGC1y",
    "outputId": "a6596b82-73a5-44ac-f326-966f3a0ae49f"
   },
   "outputs": [],
   "execution_count": null
  },
  {
   "cell_type": "code",
   "source": [
    "df_merged.tail()"
   ],
   "metadata": {
    "colab": {
     "base_uri": "https://localhost:8080/"
    },
    "id": "4n9g_qnMHGqb",
    "outputId": "0671b50f-a70d-4134-f89e-dfdf84f2deb4"
   },
   "outputs": [],
   "execution_count": null
  },
  {
   "cell_type": "markdown",
   "source": [
    "## 3.2. Élaboration d'un indicateur de popularité pour des articles <a name=\"preparation-score\">"
   ],
   "metadata": {
    "id": "Rn1UXDQ8ZrWL"
   }
  },
  {
   "cell_type": "markdown",
   "source": [
    "Pour créer un indicateur de popularité pour des articles j'ai décidé de me baser su le nombre de clics d'un utilisateur sur un article divisé par le nombre total de clics de l'utilisateur.  \n",
    "Cette approche est simple à mettre en œuvre, car elle repose sur des informations de clics disponibles et ne nécessite pas de données complexes ou de modèles sophistiqués.  \n",
    "\n",
    "Le score calculé est spécifique à chaque utilisateur, ce qui permet de personnaliser les recommandations en fonction du comportement individuel de l'utilisateur. Les utilisateurs ayant des habitudes de clics distinctes recevront des recommandations adaptées à leurs préférences.   \n",
    "\n",
    "Cependant, il convient de noter que cette approche a aussi des limites, notamment en ce qui concerne la diversité des recommandations et la gestion des biais potentiels, mais elle constitue un point de départ solide pour de nombreux systèmes de recommandation, en particulier dans les cas où les données sont limitées ou lorsqu'une simplicité d'implémentation est privilégiée."
   ],
   "metadata": {
    "id": "6yHNQDwjM41c"
   }
  },
  {
   "cell_type": "code",
   "source": [
    "df_article_popularity = calculate_popularity_indicator(df_merged)\n",
    "df_article_popularity.info()"
   ],
   "metadata": {
    "colab": {
     "base_uri": "https://localhost:8080/"
    },
    "id": "ts8DgIPWCHm5",
    "outputId": "f2e41b87-4857-4d7b-f1d6-8bab70c2c417"
   },
   "outputs": [],
   "execution_count": null
  },
  {
   "cell_type": "code",
   "source": [
    "df_article_popularity.describe()"
   ],
   "metadata": {
    "colab": {
     "base_uri": "https://localhost:8080/",
     "height": 300
    },
    "id": "7DOBnr1jAPse",
    "outputId": "f7e9654a-957a-48e7-af1c-6d318bbd863c"
   },
   "outputs": [],
   "execution_count": null
  },
  {
   "cell_type": "code",
   "source": [
    "df_article_popularity = df_article_popularity[['user_id', 'click_article_id', 'popularity_indicator']]\n",
    "#df_article_popularity = df_article_popularity.sample(frac=0.1, random_state=42)\n",
    "df_article_popularity.shape"
   ],
   "metadata": {
    "colab": {
     "base_uri": "https://localhost:8080/"
    },
    "id": "904Zy-EjahYN",
    "outputId": "6a19ac31-481e-4355-df5c-b00fb0d03c67"
   },
   "outputs": [],
   "execution_count": null
  },
  {
   "cell_type": "code",
   "source": [
    "plot_sns_histogram(df_article_popularity, 'popularity_indicator', x_title='score')"
   ],
   "metadata": {
    "colab": {
     "base_uri": "https://localhost:8080/",
     "height": 564
    },
    "id": "0UopfqlPmk1g",
    "outputId": "bf3e31e8-f5c7-4d21-bcf2-94507847c39d"
   },
   "outputs": [],
   "execution_count": null
  },
  {
   "cell_type": "markdown",
   "source": [
    "## 3.3. Séparation du jeu de donnée <a name=\"preparation-split\">"
   ],
   "metadata": {
    "id": "g5XjfYcGlctZ"
   }
  },
  {
   "cell_type": "markdown",
   "source": [
    "### Pour les modèles de la librarie 'Surprise'La préparation de données pour un système de recommandation utilisant la bibliothèque Surprise se déroule en trois étapes :\n",
    "\n",
    "- Création d’un objet Reader : La première étape consiste à créer un objet Reader, qui définit l’échelle des notes (ratings). Dans ce cas, l’échelle est fixée de 0 à 0.5, conformément aux observations montrant qu’aucun utilisateur ne se concentre sur un seul article.\n",
    "- Chargement du jeu de données : Une fois l’objet Reader créé, on charge le DataFrame df_article_popularity dans la bibliothèque Surprise à l’aide de la méthode Dataset.load_from_df(). Cette méthode applique l’échelle de notation définie dans le Reader.\n",
    "- Division de l’ensemble de données : Enfin, on sépare le jeu de données en deux parties : un ensemble d’apprentissage (trainset) et un ensemble de test (testset). 20 % des données sont affectées au test, tandis que les 80 % restants servent à l’apprentissage du modèle."
   ],
   "metadata": {
    "id": "Jts2rSRdliiM"
   }
  },
  {
   "metadata": {},
   "cell_type": "code",
   "source": [
    "# Permet de définir l'échelle des notations attendues dans l'ensemble de données\n",
    "max_popularity = df_article_popularity['popularity_indicator'].max()\n",
    "print(f\"Max popularity_indicator previously observed: {max_popularity}\")\n",
    "\n",
    "unique_articles_per_user = df_merged.groupby('user_id')['click_article_id'].nunique().describe()\n",
    "print(unique_articles_per_user)"
   ],
   "outputs": [],
   "execution_count": null
  },
  {
   "cell_type": "code",
   "source": [
    "# Create a \"Reader\" object for defining the rating scale (minimum and maximum ratings)\n",
    "reader = Reader(rating_scale=(0, 0.5))\n",
    "\n",
    "# Load the dataset from the DataFrame df_article_popularity using the defined reader\n",
    "dataset = Dataset.load_from_df(df_article_popularity, reader)\n",
    "\n",
    "# Split the dataset into a training set and a test set, with 20% of the data in the test set\n",
    "trainset, testset = train_test_split(dataset, test_size=.20)"
   ],
   "metadata": {
    "id": "rqUVJmo9lpp2"
   },
   "outputs": [],
   "execution_count": null
  },
  {
   "cell_type": "markdown",
   "source": [
    "### Pour les modèles de la librairie 'Implicit'"
   ],
   "metadata": {
    "id": "HqcCXYTzoHi_"
   }
  },
  {
   "cell_type": "markdown",
   "source": [
    "Ici, nous allons simplement diviser le DataFrame \"df_article_popularity\" en deux parties, où 80 % des données sont réservées pour l'apprentissage du modèle (df_train) et 20 % sont réservées pour tester la performance du modèle (df_test).  \n",
    "Ensuite, nous allons créer des matrices CSR à partir des données d'apprentissage (df_train) et des données de test (df_test). Ces matrices sont essentielles pour des modèles de recommandation, comme les systèmes de filtrage collaboratif, ils utilisent ces matrices pour générer des recommandations personnalisées aux utilisateurs."
   ],
   "metadata": {
    "id": "D3K-thW6oTeg"
   }
  },
  {
   "cell_type": "code",
   "source": [
    "df_train, df_test = sk_train_test_split(df_article_popularity, train_size=0.8, random_state=42)\n",
    "\n",
    "dimentions = (max(df_train.user_id.max(), df_test.user_id.max()) + 1, max(df_train.click_article_id.max(), df_test.click_article_id.max()) + 1)\n",
    "\n",
    "csr_train = csr_matrix((df_train['popularity_indicator'], (df_train['user_id'], df_train['click_article_id'])), dimentions)\n",
    "csr_test = csr_matrix((df_test['popularity_indicator'], (df_test['user_id'], df_test['click_article_id'])), dimentions)"
   ],
   "metadata": {
    "id": "wFsclNzsowLF"
   },
   "outputs": [],
   "execution_count": null
  },
  {
   "metadata": {},
   "cell_type": "code",
   "source": [
    "# Création de la matrice CSR pour la popularité des articles\n",
    "csr_article_popularity = csr_matrix((df_article_popularity['popularity_indicator'], (df_article_popularity['user_id'], df_article_popularity['click_article_id'])), dimentions)\n",
    "\n",
    "# Définition du chemin du dossier \"models\"\n",
    "models_dir = os.path.join(os.getcwd(), \"models\")\n",
    "\n",
    "# Vérifier si le dossier existe, sinon le créer\n",
    "os.makedirs(models_dir, exist_ok=True)\n",
    "\n",
    "# Sauvegarde de la matrice CSR de popularité des articles\n",
    "save_npz(os.path.join(models_dir, \"csr_article_popularity.npz\"), csr_article_popularity)\n",
    "\n",
    "print(f\"Matrice CSR de popularité des articles sauvegardée avec succès dans : {models_dir}\")"
   ],
   "outputs": [],
   "execution_count": null
  },
  {
   "cell_type": "markdown",
   "source": [
    "# 4. Modélisation du système de recommandation <a name=\"modelisation\">"
   ],
   "metadata": {
    "id": "dLAymUVsu24A"
   }
  },
  {
   "cell_type": "markdown",
   "source": [
    "Nous allons désormais explorer deux approches pour développer notre système de recommandation :\n",
    "\n",
    "* Filtrage collaboratif (Collaborative Filtering) : Cette méthode repose sur l'idée que les utilisateurs ayant des préférences similaires ont tendance à apprécier les mêmes articles.\n",
    "\n",
    "* Filtrage basé sur le contenu (Content-Based Filtering) : Cette méthode se base sur l'idée que des articles similaires ont tendance à plaire aux mêmes utilisateurs.\""
   ],
   "metadata": {
    "id": "xXxLQSdju8_t"
   }
  },
  {
   "cell_type": "markdown",
   "source": [
    "Pour évaluer la performance de nos modèles de recommandation, nous utiliserons quatre métriques différentes :\n",
    "\n",
    "1. La __précision__ : Cette mesure évalue quelle proportion des articles recommandés est effectivement pertinente pour un utilisateur donné. Plus précisément, elle calcule le nombre d'articles pertinents parmi les recommandations, divisé par le nombre total d'articles recommandés.\n",
    "\n",
    "2. Le __Mean Average Precision__ (MAP) : Le MAP évalue la qualité du classement des articles recommandés. Il calcule la précision moyenne sur toutes les positions de la liste de recommandations. Une caractéristique importante du MAP est qu'il tient compte des articles pertinents qui ne sont pas recommandés, les incluant dans le calcul de la précision moyenne. Cela permet de mesurer la qualité globale du classement.\n",
    "\n",
    "3. Le __Normalized Discounted Cumulative Gain__ (NDCG) : Le NDCG évalue la qualité du classement des articles recommandés en considérant l'ordre de recommandation. Il prend en compte à la fois la pertinence de chaque article recommandé et sa position dans la liste de recommandations. Cela permet d'évaluer la qualité du classement en fonction de l'importance de la position de chaque article.\n",
    "\n",
    "Ces trois métriques sont couramment utilisées pour évaluer les systèmes de recommandation, car elles évaluent à la fois la pertinence des recommandations et l'ordre dans lequel elles sont présentées.\n",
    "\n",
    "En outre, compte tenu de la disponibilité des embeddings pour l'ensemble de nos articles, nous envisageons de créer une métrique basée sur leur similarité. Cette nouvelle métrique consisterait à comparer l'embedding moyen des articles lus avec l'embedding moyen des articles recommandés. Cela nous permettrait d'évaluer à quel point les sujets des articles recommandés correspondent à ceux qui ont été lus. Cependant, il est important de noter que cette métrique ne nous indiquera pas si les articles recommandés ont effectivement été lus par l'utilisateur, mais plutôt à quel point le contenu des articles recommandés est similaire à celui des articles lus."
   ],
   "metadata": {
    "id": "sG5j0Ucw3rTF"
   }
  },
  {
   "cell_type": "code",
   "source": [
    "df_evaluation_results = pd.DataFrame(columns=('model', 'rmse', 'mse', 'mae'))\n",
    "df_cb_evaluation_results = pd.DataFrame(columns=('model', 'mean_cos_similarity', 'precision', 'map', 'ndcg'))"
   ],
   "metadata": {
    "id": "gIZT0wRSl09k"
   },
   "outputs": [],
   "execution_count": null
  },
  {
   "cell_type": "markdown",
   "source": [
    "## 4.1. Recommandation collaborative <a name=\"modelisation-colabo\">"
   ],
   "metadata": {
    "id": "ZRDp8EsT7vka"
   }
  },
  {
   "cell_type": "markdown",
   "source": [
    "Dans cette partie la bibliothèque Implicit est utilisée pour la recommandation basée sur les préférences implicites des utilisateurs. Contrairement à la bibliothèque Surprise qui se concentre sur les données explicites (notes ou évaluations), Implicit se concentre sur les interactions implicites telles que les clics, les likes, les commentaires et les lectures. Cette librairie a été spécifiquement conçue pour les systèmes de recommandation utilisant des données implicites concernant le comportement des utilisateurs. Notre dataset ne contenant aucune note explicite sur les articles, nous allons utiliser cette librairie."
   ],
   "metadata": {
    "id": "AmzYz2IkCOWG"
   }
  },
  {
   "cell_type": "markdown",
   "source": [
    "### AlternatingLeastSquares"
   ],
   "metadata": {
    "id": "KQG1sipAWn8Z"
   }
  },
  {
   "cell_type": "markdown",
   "source": [
    "Alternating Least Squares (ALS) est un algorithme couramment utilisé en filtrage collaboratif pour créer des systèmes de recommandation personnalisés. Cet algorithme vise à modéliser les préférences des utilisateurs et les caractéristiques des articles en optimisant une fonction de coût spécifique."
   ],
   "metadata": {
    "id": "iFU6wuhIhKqc"
   }
  },
  {
   "cell_type": "code",
   "source": [
    "als_model = AlternatingLeastSquares(\n",
    "    factors=32,\n",
    "    regularization=0.05,\n",
    "    iterations=50,\n",
    "    alpha=40\n",
    ")\n",
    "\n",
    "als_model.fit(csr_train)"
   ],
   "metadata": {
    "colab": {
     "base_uri": "https://localhost:8080/",
     "height": 49,
     "referenced_widgets": [
      "fec240d838ee497abd6b12f4ea3940bd",
      "26faacc607e34ca2949ff1ae3305a7be",
      "76e02e86451a4505a3f658324d2d6a44",
      "b4519c84f6a64f83b183f1b5a505e2c3",
      "5b527f1167d44c80b9a45de4aedb520d",
      "ef3984b99e7f446fa55219a8f81956ac",
      "28d4e028e0014ff5b5db368e0d10aed3",
      "e4d3a134a95b455ebe24b0eeae38cd16",
      "1b90d3cd777f4e729ba2151c8fbfcfcc",
      "a4dfeee7384342d7a83cbd4605b077d3",
      "4fec924387fd46099fc4929a7f8b4a55"
     ]
    },
    "id": "_3O54j3IWuFO",
    "outputId": "2201b894-1ad8-4b60-b8f8-ddf611b079ce"
   },
   "outputs": [],
   "execution_count": null
  },
  {
   "cell_type": "markdown",
   "source": [
    "Utilisons notre modèle pour suggérer des articles à certains utilisateurs."
   ],
   "metadata": {
    "id": "CuoX2NG4EARN"
   }
  },
  {
   "metadata": {},
   "cell_type": "code",
   "source": [
    "# Trouver la plage d'indices valides dans csr_test\n",
    "num_users = csr_test.shape[0]  # Nombre d'utilisateurs dans le CSR (Customer-User Matrix)\n",
    "print(f\"Nombre d'utilisateurs disponibles : {num_users}\")\n",
    "\n",
    "# # Filtrer les user_ids valides\n",
    "# valid_user_ids = [user_id for user_id in user_ids if user_id < num_users]\n",
    "# print(f\"User IDs valides : {valid_user_ids}\")\n",
    "# \n",
    "# # Appliquer la fonction de recommandation uniquement aux utilisateurs valides\n",
    "# if valid_user_ids:\n",
    "#     recommend_articles_to_users(als_model, valid_user_ids, csr_test)\n",
    "# else:\n",
    "#     print(\"Aucun user ID valide trouvé\")\n"
   ],
   "outputs": [],
   "execution_count": null
  },
  {
   "cell_type": "code",
   "source": [
    "user_ids = [15, 706]\n",
    "recommend_articles_to_users(als_model, user_ids, csr_test)"
   ],
   "metadata": {
    "colab": {
     "base_uri": "https://localhost:8080/"
    },
    "id": "-b8JV1ZW9aRh",
    "outputId": "92771299-bfd1-4005-ffb9-49a25894be75"
   },
   "outputs": [],
   "execution_count": null
  },
  {
   "cell_type": "markdown",
   "source": [
    "__Evaluation du modèle AlternatingLeastSquares__"
   ],
   "metadata": {
    "id": "s2ThUVuKC8MB"
   }
  },
  {
   "cell_type": "markdown",
   "source": [
    "Evaluons à quel point les recommandations d'articles sont similaires aux articles déjà consultés par les utilisateurs. Pour cela on utilise des embeddings d'articles et la similarité cosinus pour mesurer cette similarité."
   ],
   "metadata": {
    "id": "94R8ejbTOYaw"
   }
  },
  {
   "cell_type": "code",
   "source": [
    "mcs_score, df_mcs = calculate_user_recommendation_similarity(als_model, df_test, csr_train)"
   ],
   "metadata": {
    "id": "V0GKVoMy0C9d"
   },
   "outputs": [],
   "execution_count": null
  },
  {
   "cell_type": "code",
   "source": [
    "df_mcs.head()"
   ],
   "metadata": {
    "colab": {
     "base_uri": "https://localhost:8080/",
     "height": 238
    },
    "id": "kAQDvPBd0S4a",
    "outputId": "94897989-e9df-4b5a-ba5a-476cfb036d61"
   },
   "outputs": [],
   "execution_count": null
  },
  {
   "cell_type": "code",
   "source": [
    "df_mcs.describe()"
   ],
   "metadata": {
    "colab": {
     "base_uri": "https://localhost:8080/",
     "height": 300
    },
    "id": "XmiZ6zPSq_cm",
    "outputId": "0f703c75-a9d4-4eaa-b699-72b356363e4a"
   },
   "outputs": [],
   "execution_count": null
  },
  {
   "cell_type": "code",
   "source": [
    "print(f'mean cosine similarity: {mcs_score}')"
   ],
   "metadata": {
    "colab": {
     "base_uri": "https://localhost:8080/"
    },
    "id": "zVBH-zAU6hQr",
    "outputId": "3a5ba85f-08f8-4e97-f8e2-d23a1890d45f"
   },
   "outputs": [],
   "execution_count": null
  },
  {
   "metadata": {},
   "cell_type": "code",
   "source": "%history -g | grep \"als_model\"\n",
   "outputs": [],
   "execution_count": null
  },
  {
   "metadata": {},
   "cell_type": "code",
   "source": "als_model # Verifier si le modèle existe déja",
   "outputs": [],
   "execution_count": null
  },
  {
   "cell_type": "code",
   "source": [
    "df_cb_evaluation_results = evaluate_model_and_append_to_df(als_model, csr_train, csr_test, 'AlternatingLeastSquares', df_cb_evaluation_results)"
   ],
   "metadata": {
    "colab": {
     "base_uri": "https://localhost:8080/",
     "height": 113,
     "referenced_widgets": [
      "ac9e834dee11435f97a51020cd87a7d6",
      "d0a684de45774c4aaa1dd98df8e5e08f",
      "2500ef78068e45e7bf820c3dd351550c",
      "88e3d889cfb14903a6f8a0a2026a12a3",
      "4c863ebd4ff6464fa781670210bafe36",
      "74e852692a424426827d4cb8f601e1ff",
      "911ada9418714283b98002a73c92db8c",
      "5c5fec88660e47bab1943b06144cc8d9",
      "2a57924c758f4b9c8b658ad3f9b81506",
      "c0b68c3f31c44ccb8ba4ea0151ee1bc1",
      "b04631f26f7a45ceab5ba063f51165ba",
      "9f9bdb1c21d04a74802caf9af1488643",
      "9ea8981bdd7340e796e4bd1e7dcf8938",
      "e6d6a9853a9a422db034472d39f86252",
      "4b3bdf550e8447c3a67958849b0d8d8e",
      "7c4cc6f7ee9d42e2bdcc38bdfa51714e",
      "b522cc7c75914c6dab84962904c848cc",
      "85f6e3c7eab4445781c2abcfb005df77",
      "54812f605fdf492c887ad1617adb5580",
      "966db4acdaad4762b6ebaf228d5ec433",
      "435bdfae13044000bb04027797c8fc3b",
      "e0e2459a00b748fb8cbfc58eb701baa8",
      "2d61d0c4b10946faad156c80587b28eb",
      "630e4d93f259453c8152db7f6cd2f075",
      "cbeb29e9f6d442338ebfb7a3d7258e49",
      "1554aaf544a74d229f729b2b68ecbbd5",
      "3493666e382246aa851463bc81b00eaa",
      "a077cba733d84570ba61802c08f57e7a",
      "5b469d9746bf467f916f167d185944d5",
      "efe8d974cacc45b6a43144321c750cb4",
      "d1be5f36cabf406680b03769bc13261a",
      "5b018c1114e94acd89411046d8b05c81",
      "0b787ab3cbf546b3961fdc5545eac781"
     ]
    },
    "id": "qbm9WydECStb",
    "outputId": "c22c5d20-04ee-4e24-84a3-9e83cb0e2ed3"
   },
   "outputs": [],
   "execution_count": null
  },
  {
   "cell_type": "code",
   "source": [
    "add_mean_cos_similarity(df_cb_evaluation_results, 'AlternatingLeastSquares', mcs_score)\n",
    "df_cb_evaluation_results"
   ],
   "metadata": {
    "colab": {
     "base_uri": "https://localhost:8080/",
     "height": 81
    },
    "id": "JHE35LhGF-1n",
    "outputId": "9e07b9a0-7007-4487-851f-25579cf02e3e"
   },
   "outputs": [],
   "execution_count": null
  },
  {
   "cell_type": "markdown",
   "source": [
    "### LogisticMatrixFactorization"
   ],
   "metadata": {
    "id": "yGJk1pRRPxKt"
   }
  },
  {
   "cell_type": "markdown",
   "source": [
    "Logistic Matrix Factorization (LMF) est une approche de filtrage collaboratif qui incorpore des éléments de modélisation probabiliste pour estimer les probabilités d'interaction entre les utilisateurs et les articles. Elle est utilisée pour générer des recommandations personnalisées en se basant sur des données implicites et des facteurs latents."
   ],
   "metadata": {
    "id": "mPvGwssihZ4d"
   }
  },
  {
   "cell_type": "code",
   "source": [
    "lmf_model = LogisticMatrixFactorization(\n",
    "    factors=32,\n",
    "    learning_rate=0.05,\n",
    "    regularization=0.05,\n",
    "    iterations=50,\n",
    ")\n",
    "\n",
    "lmf_model.fit(csr_train)"
   ],
   "metadata": {
    "colab": {
     "base_uri": "https://localhost:8080/",
     "height": 49,
     "referenced_widgets": [
      "aad0c81ed35d4c0b9a43972218543e9e",
      "546cfa0bb4fd45d9b39c7fa14ebf3c7e",
      "6970fa697aa34aff9a5f9f98788205b1",
      "da794f425ef0437195e4242df40e648c",
      "aadb46f76eeb4132bb8928c1dabd466f",
      "7bb224968d144905b476c4e4451293e1",
      "9028f2bf9f384af2add139e487a6a54c",
      "d4520de977d24d71af61ba1ac9c6def1",
      "d0272f01913347d8a0c7d8e45c79de75",
      "7042e30fedb242db9f6e47b4506f28cf",
      "bec3224ff6504fbd9a7664d6f1b24254"
     ]
    },
    "id": "IKyhIV8LP4et",
    "outputId": "bc4f36f1-a3ec-4e1c-cf91-fc306fbf30b0"
   },
   "outputs": [],
   "execution_count": null
  },
  {
   "cell_type": "markdown",
   "source": [
    "Utilisons notre modèle pour suggérer des articles à certains utilisateurs."
   ],
   "metadata": {
    "id": "WRc45YqsQowV"
   }
  },
  {
   "cell_type": "code",
   "source": [
    "user_ids = [15, 706]\n",
    "recommend_articles_to_users(lmf_model, user_ids, csr_test)"
   ],
   "metadata": {
    "colab": {
     "base_uri": "https://localhost:8080/"
    },
    "id": "7j52TsO1QPBa",
    "outputId": "34a40235-a297-45f2-b531-6b6e72d11672"
   },
   "outputs": [],
   "execution_count": null
  },
  {
   "cell_type": "markdown",
   "source": [
    "__Evaluation du modèle LogisticMatrixFactorization__"
   ],
   "metadata": {
    "id": "d7hc3bTuRGGt"
   }
  },
  {
   "cell_type": "markdown",
   "source": [
    "Evaluons à quel point les recommandations d'articles sont similaires aux articles déjà consultés par les utilisateurs. Pour cela on utilise des embeddings d'articles et la similarité cosinus pour mesurer cette similarité."
   ],
   "metadata": {
    "id": "SPD8ivMmOyeP"
   }
  },
  {
   "cell_type": "code",
   "source": [
    "mcs_score, df_mcs = calculate_user_recommendation_similarity(lmf_model, df_test, csr_train)\n",
    "df_mcs.head()"
   ],
   "metadata": {
    "colab": {
     "base_uri": "https://localhost:8080/",
     "height": 238
    },
    "id": "V7Zape3VQu7q",
    "outputId": "7aad3b1c-793b-4c4d-c9aa-d8322d8f6141"
   },
   "outputs": [],
   "execution_count": null
  },
  {
   "cell_type": "code",
   "source": [
    "df_mcs.describe()"
   ],
   "metadata": {
    "colab": {
     "base_uri": "https://localhost:8080/",
     "height": 300
    },
    "id": "U9dc9KbhRE3K",
    "outputId": "c4f08835-b1c0-474e-f4f9-073f4a9819ff"
   },
   "outputs": [],
   "execution_count": null
  },
  {
   "cell_type": "code",
   "source": [
    "print(f'mean cosine similarity: {mcs_score}')\n",
    "\n",
    "df_cb_evaluation_results = evaluate_model_and_append_to_df(lmf_model, csr_train, csr_test, 'LogisticMatrixFactorization', df_cb_evaluation_results)"
   ],
   "metadata": {
    "colab": {
     "base_uri": "https://localhost:8080/",
     "height": 130,
     "referenced_widgets": [
      "cc2863ef9bc34ba28d4121aabd77ffb3",
      "287ae9d8c4024c4a8cf26cf63a078d66",
      "9e6709660e1d4944bbfeec9b712b91d0",
      "472420b22ce64ccea12bf6830d870409",
      "f7b1d4fa74304614b807fd52e5c6d784",
      "ec720767eb994b07badc4da95d1dc9ac",
      "2ab952c3ac924628b8f9e191a3037514",
      "d3a91d2bff4b448ba126fa484d555c62",
      "62ca412676fa4e1892014fb6843e06fa",
      "d7d5448fbe4f408cb1c890e1db1b44c5",
      "7c41e929300a40f589dbf7a550db3bfc",
      "5eee4bcc252342188d5cd12668da99fc",
      "d09c3a3999644f97a87b2667d300a3bf",
      "2e21583d87af4d4a847b0b75db6b643e",
      "aa175f8164db4ddbb5e92544c9bd4572",
      "23e2fbfd800f4897a5b497d80c14ef6e",
      "2747022b80a747dabfb5cafe94bf052c",
      "9117b8a1569d486eb078f2bd9ebb609c",
      "59e70b91c6c345e88ccd7506d7a6655b",
      "8ddf450d6a9a4d8c91199bf133d48e19",
      "301f6c41eae04ed3a7a4399c56657e00",
      "0cdda1f679fc4b3f800404acf8519d0c",
      "7416460c81fe465aa33245ef6ea01b48",
      "20ba1923e07d48a9b9a909dbb67c4184",
      "d829d88b19f9446fa42f66cfafb2030b",
      "cd874d48f1af4d5b9bf8635aef50b6d1",
      "e2c244d0013f4a4f9474e796b3ed1e39",
      "e257ae958b804a77b8984e2fb9112568",
      "fbfaa30012b943c1a329c4e37d9a14db",
      "8d57beb99a294ab49ccd81031e73f5a3",
      "95ab78c3b263469d874090acc4ecdb3f",
      "d63cc67bd6334767a0ee65f74436b7bd",
      "1117f6591d6c4c4c97a690a32d8ac76a"
     ]
    },
    "id": "0tE0JHogRQXW",
    "outputId": "9aa8d10b-6455-4d1b-9586-9a2f4929d4ce"
   },
   "outputs": [],
   "execution_count": null
  },
  {
   "cell_type": "code",
   "source": [
    "add_mean_cos_similarity(df_cb_evaluation_results, 'LogisticMatrixFactorization', mcs_score)\n",
    "df_cb_evaluation_results"
   ],
   "metadata": {
    "colab": {
     "base_uri": "https://localhost:8080/",
     "height": 112
    },
    "id": "0YVH9pLvR6u0",
    "outputId": "0adc3796-b5f5-4007-ceb4-455b9407fa0e"
   },
   "outputs": [],
   "execution_count": null
  },
  {
   "cell_type": "markdown",
   "source": [
    "### BayesianPersonalizedRanking"
   ],
   "metadata": {
    "id": "czmbba_aUXWE"
   }
  },
  {
   "cell_type": "markdown",
   "source": [
    "Bayesian Personalized Ranking (BPR) est un algorithme de filtrage collaboratif qui se concentre sur la création de recommandations de classement en se basant sur les préférences ordonnées des utilisateurs. Il est adapté aux ensembles de données avec des évaluations implicites et est utilisé pour classer les articles en fonction de leur pertinence pour les utilisateurs."
   ],
   "metadata": {
    "id": "oZppgO7Chdnz"
   }
  },
  {
   "cell_type": "code",
   "source": [
    "bpr_model = BayesianPersonalizedRanking(\n",
    "    factors=32,\n",
    "    learning_rate=0.05,\n",
    "    regularization=0.05,\n",
    "    iterations=50,\n",
    ")\n",
    "\n",
    "bpr_model.fit(csr_train)"
   ],
   "metadata": {
    "colab": {
     "base_uri": "https://localhost:8080/",
     "height": 49,
     "referenced_widgets": [
      "199fc7d804454bc887b70bf508979ccc",
      "31adfa9e400c4a599a6260d785980fc2",
      "d4a220e0c37b4b4b93c64432900b5774",
      "afe203f5f27e453e9d5709aaa4bc10c9",
      "3439c808c3e34ac3affffb73ef2a2333",
      "01713cb784cf4d969872870362f5f783",
      "9981ca32a032412bb116ac0fc56ef861",
      "c17a3eced027447aa003288b3619e7b2",
      "d178049c8c1144c79296bb38f1f8bc8f",
      "0fc4b90f40204a7caa4bfff114ff0bba",
      "e7a50713f6ea47b59e1210b0e0734d27"
     ]
    },
    "id": "SiYO4U7IUkvr",
    "outputId": "473ef743-f4c0-4b0c-c34b-6960ec4dc082"
   },
   "outputs": [],
   "execution_count": null
  },
  {
   "cell_type": "markdown",
   "source": [
    "Utilisons notre modèle pour suggérer des articles à certains utilisateurs."
   ],
   "metadata": {
    "id": "Teg8-4-gVA9q"
   }
  },
  {
   "cell_type": "code",
   "source": [
    "user_ids = [15, 706]\n",
    "recommend_articles_to_users(bpr_model, user_ids, csr_test)"
   ],
   "metadata": {
    "colab": {
     "base_uri": "https://localhost:8080/"
    },
    "id": "GnBB7UahVCNo",
    "outputId": "c1b8e64a-db64-4832-c752-f4886310ed55"
   },
   "outputs": [],
   "execution_count": null
  },
  {
   "cell_type": "markdown",
   "source": [
    "__Evaluation du modèle BayesianPersonalizedRanking__"
   ],
   "metadata": {
    "id": "0vx8lYFNUm4Q"
   }
  },
  {
   "cell_type": "markdown",
   "source": [
    "Evaluons à quel point les recommandations d'articles sont similaires aux articles déjà consultés par les utilisateurs. Pour cela on utilise des embeddings d'articles et la similarité cosinus pour mesurer cette similarité."
   ],
   "metadata": {
    "id": "6scHmtppO4Jx"
   }
  },
  {
   "cell_type": "code",
   "source": [
    "mcs_score, df_mcs = calculate_user_recommendation_similarity(bpr_model, df_test, csr_train)\n",
    "df_mcs.head()"
   ],
   "metadata": {
    "colab": {
     "base_uri": "https://localhost:8080/",
     "height": 238
    },
    "id": "hgOeLkTeVMUE",
    "outputId": "714f8fa8-9bd4-43f5-aa9b-488117a5fc40"
   },
   "outputs": [],
   "execution_count": null
  },
  {
   "cell_type": "code",
   "source": [
    "df_mcs.describe()"
   ],
   "metadata": {
    "id": "IIklV0sYVZCY"
   },
   "outputs": [],
   "execution_count": null
  },
  {
   "cell_type": "code",
   "source": [
    "print(f'mean cosine similarity: {mcs_score}')\n",
    "model_name = 'BayesianPersonalizedRanking'\n",
    "\n",
    "df_cb_evaluation_results = evaluate_model_and_append_to_df(bpr_model, csr_train, csr_test, model_name, df_cb_evaluation_results)"
   ],
   "metadata": {
    "colab": {
     "base_uri": "https://localhost:8080/",
     "height": 130,
     "referenced_widgets": [
      "c72fe63f08024f57a38d1070153b756e",
      "06c960749b09433f91523ef49e63122b",
      "5edd03e47de7471ab41d60d4d6abd815",
      "a0966a4d420348a682bd7c604d3016e6",
      "a59d30a5022e4ee3a6c314c2b25dd451",
      "b0724c7d2c6b4e62a82aea7a4b4eb9ad",
      "8a5dbc63af424c5ba3e71b20f9ab97a4",
      "c149097a1d49478184d3fa680c78c159",
      "325dfcac26474febba01b461aa84028f",
      "39f5661c8a5845fc95f195b325650c94",
      "a9fcaacdce2846949b3b28f318cfc383",
      "7072c9b2f89c47d0b5078ee05e375e8a",
      "6d7750e53d5347438bc7732013bbe78f",
      "1c63c88f1cf54c38bba18c0a82558273",
      "f8f75080e58d4ee39e11b753603d833a",
      "7d79003d59b64bf1bf5cf4ff42fb6d11",
      "e41a120a92bd4557b504b9bfdb2d5a45",
      "263f45401a164e9791d60a6edc9697a9",
      "7c9b4d37104e4861b1d63bb78a7bf71f",
      "2b4aa3e68868450bbba214658ba56e64",
      "7f64eb3dbca7483aa9ef6a30b3d735c7",
      "20c1c7d503ea41aeb4621b3e456fb3a3",
      "e083173b7a0b4ea2888b1bbb1adecdf2",
      "63b76fee94a74d2a826a6fc314318fd2",
      "95d83736537b446b92d8cc79fdb6a9c0",
      "3da0318757464afe92ed5cfdb4e1b434",
      "17dbabdcaeec41d781b89d63d58b80fa",
      "2f85d29c4be842089615bd45675351e0",
      "bca7b77d6f3940dcba5e95538294eac0",
      "39f962f92abb4d8fbf11d49224062b8b",
      "5373bb891a53478ab6eb0ce7d6f503a7",
      "6a2b123fc2504d1bb8d0595af4a3f413",
      "37ef48ad4d7a4183b06b7570af468dc2"
     ]
    },
    "id": "KDChGxWMUqjW",
    "outputId": "cc54f9f1-6217-402d-d64f-af6f0d37fa97"
   },
   "outputs": [],
   "execution_count": null
  },
  {
   "cell_type": "code",
   "source": [
    "add_mean_cos_similarity(df_cb_evaluation_results, model_name, mcs_score)\n",
    "df_cb_evaluation_results"
   ],
   "metadata": {
    "colab": {
     "base_uri": "https://localhost:8080/",
     "height": 143
    },
    "id": "8JqaerqgV0yr",
    "outputId": "36354c30-bafb-4b04-8565-a63691b49e14"
   },
   "outputs": [],
   "execution_count": null
  },
  {
   "cell_type": "markdown",
   "source": [
    "### Comparaison des modèles"
   ],
   "metadata": {
    "id": "TI_VJIgNO93o"
   }
  },
  {
   "cell_type": "markdown",
   "source": [
    "📊 **Comparaison des modèles de recommandation**\n",
    "\n",
    "L'évaluation des modèles repose sur plusieurs métriques : \n",
    "\n",
    "1. **Mean Cosine Similarity (MCS)**  \n",
    "   - Cette métrique mesure la **similitude moyenne** entre les recommandations et les articles consultés par les utilisateurs.\n",
    "   - Le **BayesianPersonalizedRanking** obtient la valeur la plus élevée (**0.5120**), indiquant une meilleure correspondance entre les recommandations et les préférences des utilisateurs.\n",
    "\n",
    "2. **Precision**  \n",
    "   - Évalue la proportion d'articles recommandés qui sont pertinents.  \n",
    "   - **AlternatingLeastSquares (ALS)** obtient le **meilleur score (0.0403)**, bien que la précision globale reste faible pour tous les modèles.\n",
    "\n",
    "3. **MAP (Mean Average Precision)**  \n",
    "   - Mesure la **qualité du classement** des articles recommandés.  \n",
    "   - L'**ALS** atteint la **meilleure valeur (0.02514)**, indiquant que les articles pertinents sont mieux positionnés dans les recommandations.\n",
    "\n",
    "4. **NDCG (Normalized Discounted Cumulative Gain)**  \n",
    "   - Évalue l’**ordre de classement** des articles pertinents dans les recommandations.  \n",
    "   - L'**ALS** a la **meilleure valeur (0.03099)**, signifiant que les recommandations sont globalement bien ordonnées.\n",
    "\n",
    "---\n",
    "\n",
    "### **🏆 Quel est le meilleur modèle ?**\n",
    "Sur la base de ces résultats :\n",
    "- **AlternatingLeastSquares (ALS) semble être le modèle le plus performant globalement**.\n",
    "- Il obtient le **meilleur score en précision, MAP et NDCG**, ce qui signifie qu'il classe mieux les articles les plus pertinents pour l'utilisateur.\n",
    "- Cependant, **BayesianPersonalizedRanking** a une **meilleure Mean Cosine Similarity**, suggérant qu'il génère des recommandations plus proches des préférences des utilisateurs.\n",
    "\n",
    "**🎯 Recommandation :**  \n",
    "Si l’objectif est **d’améliorer la pertinence des recommandations**, **AlternatingLeastSquares** est **le choix optimal**.  \n",
    "Toutefois, **BayesianPersonalizedRanking** pourrait être exploré pour un modèle hybride combinant les avantages des deux approches."
   ],
   "metadata": {
    "id": "AfrMkKpcPEOI"
   }
  },
  {
   "cell_type": "code",
   "source": "als_model.save('models/als_implicit_model.npz')",
   "metadata": {
    "id": "8w7dYCeMF1zk"
   },
   "outputs": [],
   "execution_count": null
  },
  {
   "cell_type": "markdown",
   "source": [
    "## 4.2. Recommandation basée sur le contenu <a name=\"modelisation-content\">"
   ],
   "metadata": {
    "id": "orJ6l2TCN_G_"
   }
  },
  {
   "cell_type": "markdown",
   "source": [
    "Pour la recommandation basée sur le contenu j'ai créé une fonction nommée `recommend_content_based_articles`. Cette fonction recommande des articles à un utilisateur en se basant sur ses lectures récentes et inclut des articles non consultés. Elle prend en compte à la fois la similarité entre les articles et la nouveauté des articles pour fournir des recommandations personnalisées.  \n",
    "Voici comment elle fonctionne sans entrer dans les détails techniques :\n",
    "\n",
    "1. La fonction commence par obtenir les articles les plus récemment consultés par l'utilisateur en fonction de la valeur de `user_history_length`.\n",
    "\n",
    "2. Elle sélectionne un certain nombre d'articles non consultés par l'utilisateur. Le nombre d'articles non consultés dépend de `num_recommendations` modulo 4, ce qui signifie que si num_recommendations est, par exemple, 7, il sélectionnera 3 articles non consultés.\n",
    "\n",
    "3. Pour chaque article récemment consulté par l'utilisateur, la fonction recherche des articles similaires par rapport à l'article consulté. Ces articles similaires sont ensuite ajoutés au DataFrame des recommandations.\n",
    "\n",
    "4. Un sous-ensemble aléatoire d'articles similaires est sélectionné à partir des recommandations. La taille de ce sous-ensemble dépend du nombre total de recommandations moins le nombre d'articles non consultés.\n",
    "\n",
    "5. Enfin, la fonction ajoute les articles non consultés à la liste des recommandations. Ces articles non consultés ont un score de similarité de 0, car ils n'ont pas encore été lus par l'utilisateur.\n",
    "\n",
    "6. La fonction renvoie la liste finale d'articles recommandés, qui sont une combinaison d'articles similaires aux articles récemment consultés et d'articles non consultés."
   ],
   "metadata": {
    "id": "E05YKTYaZF54"
   }
  },
  {
   "cell_type": "code",
   "source": [
    "content_based_recommendations = recommend_content_based_articles(df_article_popularity, 0, num_recommendations=5, user_history_length=5)\n",
    "content_based_recommendations"
   ],
   "metadata": {
    "colab": {
     "base_uri": "https://localhost:8080/",
     "height": 206
    },
    "id": "vHjlIXT-T3DF",
    "outputId": "e147aa06-5b6e-4cb6-c682-75b603c7d15f"
   },
   "outputs": [],
   "execution_count": null
  },
  {
   "cell_type": "markdown",
   "source": [
    "On affiche ici cinq articles recommandés pour un utilisateur identifié par le numéro 0. Parmi ces cinq articles, quatre sont des recommandations basées sur le contenu des cinq articles les plus récemment consultés par l'utilisateur, tandis qu'un article est nouveau et n'a pas encore été consulté par aucun utilisateur."
   ],
   "metadata": {
    "id": "597lrC1Jbjyk"
   }
  },
  {
   "cell_type": "markdown",
   "source": [
    "## 4.3. Recommandations pour les nouveaux utilisateurs <a name=\"modelisation-new\">"
   ],
   "metadata": {
    "id": "XrAsGLtT2OCq"
   }
  },
  {
   "cell_type": "markdown",
   "source": [
    "Pour un utilisateur qui n'a pas d'historique de clic, nous allons simplement lui recommander les articles ayant la somme des notes de popularité la plus élevée."
   ],
   "metadata": {
    "id": "FyKBOABo3uXF"
   }
  },
  {
   "cell_type": "code",
   "source": [
    "top_articles = get_top_popular_articles(df_article_popularity, num_recommendations=5)\n",
    "top_articles"
   ],
   "metadata": {
    "colab": {
     "base_uri": "https://localhost:8080/",
     "height": 224
    },
    "id": "PAcfPWkI2z_E",
    "outputId": "f1475d9c-b0c6-4007-c4b5-f122933845ac"
   },
   "outputs": [],
   "execution_count": null
  },
  {
   "cell_type": "markdown",
   "source": [
    "## 4.4. Recommandation collaborative (bibliothèque Surprise) <a name=\"modelisation-surprise\">"
   ],
   "metadata": {
    "id": "FzRD42nOv2OH"
   }
  },
  {
   "cell_type": "markdown",
   "source": [
    "Nous explorerons le domaine de la recommandation collaborative en utilisant la bibliothèque \"Surprise\" (Simple Python RecommendatIon System Engine). La recommandation collaborative se base sur le principe que les utilisateurs partageant des préférences similaires ont tendance à apprécier les mêmes articles. Pour ce faire, nous mettrons en œuvre plusieurs modèles de filtrage collaboratif, chacun ayant ses propres caractéristiques et avantages.\n",
    "\n",
    "La bibliothèque \"Surprise\" nous offre une gamme de modèles, dont __SVD__ (Singular Value Decomposition), __BaselineOnly__ et __CoClustering__, qui nous permettront d'explorer différentes approches pour prédire les notes en utilisant les données disponibles."
   ],
   "metadata": {
    "id": "8IKQO9rHfRVk"
   }
  },
  {
   "cell_type": "markdown",
   "source": [
    "### SVD"
   ],
   "metadata": {
    "id": "tTDwXVhVmc1Y"
   }
  },
  {
   "cell_type": "code",
   "source": [
    "svd_model = SVD(n_factors=30, lr_all=0.02, reg_all=0.1)\n",
    "svd_model.fit(trainset)\n",
    "predictions = svd_model.test(testset)"
   ],
   "metadata": {
    "id": "E6MhSpndmgG0"
   },
   "outputs": [],
   "execution_count": null
  },
  {
   "cell_type": "code",
   "source": [
    "df_evaluation_results = add_evaluation_scores('SVD', predictions, df_evaluation_results)\n",
    "df_evaluation_results"
   ],
   "metadata": {
    "colab": {
     "base_uri": "https://localhost:8080/",
     "height": 81
    },
    "id": "9Rt9vba5Baa4",
    "outputId": "3bc6271a-8f4e-47a9-db2a-a69e72bcc6fa"
   },
   "outputs": [],
   "execution_count": null
  },
  {
   "cell_type": "code",
   "source": [
    "recommended_articles = recommend_top_articles(svd_model, 15)\n",
    "recommended_articles"
   ],
   "metadata": {
    "colab": {
     "base_uri": "https://localhost:8080/",
     "height": 398
    },
    "id": "t6Z1IP9y9cqi",
    "outputId": "defffbe0-e908-4089-804e-2e2c2d336b14"
   },
   "outputs": [],
   "execution_count": null
  },
  {
   "cell_type": "markdown",
   "source": [
    "### BaselineOnly"
   ],
   "metadata": {
    "id": "QwwaTjj7EZoo"
   }
  },
  {
   "cell_type": "code",
   "source": [
    "bonly_model = BaselineOnly()\n",
    "bonly_model.fit(trainset)\n",
    "predictions = bonly_model.test(testset)"
   ],
   "metadata": {
    "colab": {
     "base_uri": "https://localhost:8080/"
    },
    "id": "Ehu3rcoVEdTR",
    "outputId": "27eb2ebb-177b-4f97-ee19-8ae9a9cfc5c8"
   },
   "outputs": [],
   "execution_count": null
  },
  {
   "cell_type": "code",
   "source": [
    "df_evaluation_results = add_evaluation_scores('BaselineOnly', predictions, df_evaluation_results)\n",
    "df_evaluation_results"
   ],
   "metadata": {
    "colab": {
     "base_uri": "https://localhost:8080/",
     "height": 112
    },
    "id": "keNyYQUcE5Xg",
    "outputId": "488c8cce-92f6-46c4-9614-8cf1d6bcf24b"
   },
   "outputs": [],
   "execution_count": null
  },
  {
   "cell_type": "code",
   "source": [
    "recommended_articles = recommend_top_articles(bonly_model, 15)\n",
    "recommended_articles"
   ],
   "metadata": {
    "colab": {
     "base_uri": "https://localhost:8080/",
     "height": 398
    },
    "id": "TCO84jdI92St",
    "outputId": "33657e5d-9b10-423a-cb2c-3e566f69a1c7"
   },
   "outputs": [],
   "execution_count": null
  },
  {
   "cell_type": "markdown",
   "source": [
    "### CoClustering"
   ],
   "metadata": {
    "id": "Alm9U9iqFv3L"
   }
  },
  {
   "cell_type": "code",
   "source": [
    "coclustering_model = CoClustering()\n",
    "coclustering_model.fit(trainset)\n",
    "predictions = coclustering_model.test(testset)"
   ],
   "metadata": {
    "id": "wT8YcZQ6F4fx"
   },
   "outputs": [],
   "execution_count": null
  },
  {
   "cell_type": "code",
   "source": [
    "df_evaluation_results = add_evaluation_scores('CoClustering', predictions, df_evaluation_results)\n",
    "df_evaluation_results"
   ],
   "metadata": {
    "colab": {
     "base_uri": "https://localhost:8080/",
     "height": 143
    },
    "id": "Vd9-ZCTYGXaE",
    "outputId": "f68e3930-d9af-4748-e83c-2c95fde9131a"
   },
   "outputs": [],
   "execution_count": null
  },
  {
   "metadata": {},
   "cell_type": "markdown",
   "source": [
    "### 📊 **Comparaison des modèles de recommandation**\n",
    "\n",
    "L'évaluation des modèles repose sur trois métriques :  \n",
    "\n",
    "1. **RMSE (Root Mean Square Error)**  \n",
    "   - Évalue l'écart entre les prédictions et les valeurs réelles.  \n",
    "   - Le **SVD** obtient le **meilleur score (0.0732)**, indiquant des prédictions plus précises.\n",
    "\n",
    "2. **MSE (Mean Squared Error)**  \n",
    "   - Indique la variance des erreurs de prédiction.  \n",
    "   - **SVD a le plus faible MSE (0.0054)**, suivi par **BaselineOnly (0.0114)** et **CoClustering a le plus élevé (0.1318)**.\n",
    "\n",
    "3. **MAE (Mean Absolute Error)**  \n",
    "   - Mesure l'erreur moyenne en valeur absolue.  \n",
    "   - **SVD affiche le score le plus bas (0.0625)**, suivi par **BaselineOnly (0.0979)**, alors que **CoClustering est nettement plus élevé (0.3265)**.\n",
    "\n",
    "---\n",
    "\n",
    "### **🏆 Quel est le meilleur modèle ?**\n",
    "Sur la base de ces résultats :\n",
    "- **SVD est le modèle le plus performant**, obtenant les **meilleurs scores en RMSE, MSE et MAE**, ce qui signifie qu’il offre des **prédictions plus précises et plus fiables**.\n",
    "- **BaselineOnly est un modèle de référence**, fournissant des performances correctes mais inférieures à celles de SVD.\n",
    "- **CoClustering affiche des erreurs nettement plus élevées**, suggérant qu'il n'est pas optimal pour cette tâche spécifique.\n",
    "\n",
    "**🎯 Recommandation :**  \n",
    "Le modèle **SVD est le plus adapté** pour cette application de recommandation, car il minimise les erreurs et génère des **prédictions plus précises**.  \n",
    "Cependant, il pourrait être intéressant d’**explorer une approche hybride**, combinant les forces de différents modèles pour améliorer encore la qualité des recommandations."
   ]
  },
  {
   "cell_type": "code",
   "source": [
    "recommended_articles = recommend_top_articles(coclustering_model, 15)\n",
    "recommended_articles"
   ],
   "metadata": {
    "colab": {
     "base_uri": "https://localhost:8080/",
     "height": 398
    },
    "id": "lBNVVzJe-DJi",
    "outputId": "d25f2735-310a-46ab-dc64-4449900f80cc"
   },
   "outputs": [],
   "execution_count": null
  },
  {
   "cell_type": "markdown",
   "source": [
    "# 5. Mise à jour des bases de données <a name=\"updatedata\">"
   ],
   "metadata": {
    "id": "IYI8UHlPQ4--"
   }
  },
  {
   "cell_type": "markdown",
   "source": [
    "L'objectif principal de la mise à jour des bases de données utilisateurs et articles est de garantir que le système de recommandation puisse offrir des recommandations pertinentes et à jour aux utilisateurs.  \n",
    "La fréquence de mise à jour des bases de données utilisateurs et articles peut varier en fonction des besoins de la plateforme, mais elle doit être régulière pour maintenir la qualité des recommandations. Elle peut être quotidienne, hebdomadaire ou en temps réel, selon la dynamique de la plateforme."
   ],
   "metadata": {
    "id": "Fn5jrj68gVd-"
   }
  },
  {
   "cell_type": "markdown",
   "source": [
    "## 5.1. Gestion des articles <a name=\"update-articles\">"
   ],
   "metadata": {
    "id": "rL5TvFY8Rhp8"
   }
  },
  {
   "cell_type": "markdown",
   "source": [
    "__Besoins de mise à jour pour la base de données des articles__ :\n",
    "\n",
    "1. __Ajout de nouveaux articles__ : Lorsque de nouveaux articles sont publiés ou ajoutés à la plateforme, ils doivent être intégrés à la base de données des articles.\n",
    "\n",
    "2. __Mise à jour des informations d'articles__ : Les informations sur les articles, telles que les métadonnées, les catégories, les évaluations, et les interactions, doivent être régulièrement mises à jour pour refléter les changements et les évolutions.\n",
    "\n",
    "3. __Suppression d'articles obsolètes__ : Les articles qui ne sont plus pertinents, obsolètes, ou qui ont été retirés de la plateforme doivent être supprimés de la base de données.\n",
    "\n",
    "4. __Gestion des changements de disponibilité__ : Si un article devient indisponible ou est retiré de la plateforme, cette information doit être mise à jour dans la base de données pour éviter de recommander des articles qui ne peuvent pas être consultés."
   ],
   "metadata": {
    "id": "B2Owp_TkhzIW"
   }
  },
  {
   "cell_type": "code",
   "source": [
    "# Example usage\n",
    "new_article_data = {\n",
    "    'category_id': 3,\n",
    "    'created_at_ts': 1635798000000,\n",
    "    'publisher_id': 5,\n",
    "    'words_count': 750\n",
    "}\n",
    "\n",
    "df_articles_metadata = add_new_article(df_articles_metadata, new_article_data)\n",
    "\n",
    "df_articles_metadata.tail()"
   ],
   "metadata": {
    "colab": {
     "base_uri": "https://localhost:8080/",
     "height": 206
    },
    "id": "s49n_j-We8OZ",
    "outputId": "56ddaacd-4520-423d-da09-b839efa5e6f2"
   },
   "outputs": [],
   "execution_count": null
  },
  {
   "cell_type": "markdown",
   "source": [
    "## 5.2. Gestion des utilisateurs <a name=\"update-users\">"
   ],
   "metadata": {
    "id": "zIygF4Lnne7l"
   }
  },
  {
   "cell_type": "markdown",
   "source": [
    "__Besoins de mise à jour pour la base de données des utilisateurs__ :\n",
    "\n",
    "1. __Ajout de nouveaux utilisateurs__ : Lorsqu'un nouvel utilisateur s'inscrit ou rejoint la plateforme, son profil et ses préférences doivent être ajoutés à la base de données.\n",
    "\n",
    "2. __Mise à jour des préférences__ : Les préférences des utilisateurs peuvent évoluer avec le temps. Il est donc nécessaire de permettre aux utilisateurs de mettre à jour leurs informations et préférences, et de refléter ces changements dans la base de données.\n",
    "\n",
    "3. __Suppression de comptes__ : Les comptes d'utilisateurs inactifs ou désactivés doivent être supprimés de la base de données pour maintenir sa propreté et son efficacité."
   ],
   "metadata": {
    "id": "NC6qmtYDgsGW"
   }
  },
  {
   "metadata": {},
   "cell_type": "markdown",
   "source": [
    "# 6. Synthèse\n",
    "\n",
    "La start-up **My Content** développe une application de **recommandation de contenus** axée sur la lecture. Les données d’interaction des utilisateurs avec les articles de **Globo.com** sont utilisées pour créer un **système de recommandation personnalisé**. Ces données sont particulièrement riches, avec **des millions de clics**, impliquant **des centaines de milliers d’utilisateurs** et **des milliers d’articles**.\n",
    "\n",
    "Afin de capturer les préférences implicites des utilisateurs, **un indicateur de popularité** a été conçu. Les données ont été divisées en ensembles **d’apprentissage** et de **test**, avec la création de **matrices creuses CSR** pour alimenter les modèles de recommandation.\n",
    "\n",
    "Nous avons exploré **deux principales approches** :\n",
    "1. **Le filtrage collaboratif** (basé sur l’historique des interactions des utilisateurs).\n",
    "2. **Le filtrage basé sur le contenu** (basé sur les caractéristiques des articles).\n",
    "\n",
    "Chaque méthode présente des avantages et des limites. Nous avons utilisé plusieurs **métriques d’évaluation** :\n",
    "- **MAP** (Mean Average Precision)\n",
    "- **NDCG** (Normalized Discounted Cumulative Gain)\n",
    "- **Précision**\n",
    "- **Similitude moyenne des recommandations**\n",
    "\n",
    "### 🏆 **Meilleure méthode et meilleur modèle**\n",
    "L’évaluation des performances des modèles a permis d’identifier **le filtrage collaboratif comme la méthode la plus performante** pour notre système de recommandation.\n",
    "\n",
    "Dans cette approche, **le modèle Alternating Least Squares (ALS) s’impose comme le meilleur choix**. Il surpasse les autres modèles en obtenant les **meilleures performances globales** sur **toutes les métriques clés** (précision, MAP, NDCG, et similitude moyenne). Ce modèle est donc retenu comme **référence pour la mise en production** du système de recommandation.\n",
    "\n",
    "🎯 **Conclusion** : L’approche **collaborative** combinée au **modèle ALS** constitue la solution la plus efficace pour offrir **des recommandations pertinentes et personnalisées** aux utilisateurs de My Content."
   ]
  }
 ]
}
